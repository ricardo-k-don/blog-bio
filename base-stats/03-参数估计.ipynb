{
    "cells": [
        {
            "attachments": {},
            "cell_type": "markdown",
            "id": "9860cb5c",
            "metadata": {},
            "source": [
                "# 参数估计"
            ]
        },
        {
            "cell_type": "code",
            "execution_count": 1,
            "id": "f396c04a",
            "metadata": {
                "tags": [
                    "hide-input"
                ]
            },
            "outputs": [],
            "source": [
                "from scipy import stats\n",
                "from statsmodels.stats.power import tt_ind_solve_power\n",
                "from statsmodels.stats.proportion import proportion_effectsize\n",
                "import numpy as np"
            ]
        },
        {
            "attachments": {},
            "cell_type": "markdown",
            "id": "da0e35b6",
            "metadata": {},
            "source": [
                "## 1. 点估计"
            ]
        },
        {
            "cell_type": "markdown",
            "id": "4573e8c0",
            "metadata": {},
            "source": [
                "\n",
                "### 1.1. 矩估计\n",
                "\n",
                "即经验分布函数的矩。\n",
                "\n",
                "- 原点矩\n",
                "\n",
                "$$\n",
                "a_{k} = \\frac{1}{n} ∑_{1}^{n} X_{i}^{k}\n",
                "$$\n",
                "\n",
                "- 中心矩\n",
                "\n",
                "$$\n",
                "m_{k} = \\frac{1}{n} ∑(X_{i} - X̂)^{k}\n",
                "$$\n",
                "\n",
                "> $m₂ = \\dfrac{n - 1}{n}S²$\n",
                "\n",
                "由随机样本计算出的分布参数估计总体分布参数（分布已知）\n",
                "\n",
                "$$\n",
                "a_m = ∫_{-∞}^{∞} x^{m} f(x;θ₁, ⋯, θ_{k}) dx\n",
                "$$\n"
            ]
        },
        {
            "attachments": {},
            "cell_type": "markdown",
            "id": "977a816e",
            "metadata": {},
            "source": [
                "### 1.2. 最大似然估计\n",
                "\n",
                "由样本分布估计总体分布\n",
                "\n",
                "$$\n",
                "L(x₁, ⋯, x_n; θ₁, ⋯, θ_n) = \\underset{θ₁, ⋯, θ_n}{\\mathrm{argmax}}\\ ∏ f(x_{i};θ₁, ⋯, θ_n)\n",
                "$$\n",
                "\n",
                "由\n",
                "\n",
                "$$\n",
                "\\ln L = ∑\\ln f(X_{i}; θ₁, …, θ_{k})\n",
                "$$\n",
                "\n",
                "建立方程组\n",
                "\n",
                "$$\n",
                "\\frac{∂\\ln L}{∂θ_{i}} = 0\n",
                "$$\n",
                "\n",
                "得极值点\n"
            ]
        },
        {
            "attachments": {},
            "cell_type": "markdown",
            "id": "0accb93b",
            "metadata": {},
            "source": [
                "### 1.3. 点估计评判\n",
                "\n",
                "- 无偏性\n",
                "\n",
                "$$\n",
                "E_{θ₁, ⋯, θ_n}[ĝ(x_{i})] = g(θ₁, ⋯, θ_n)\n",
                "$$\n",
                "\n",
                "当$N → ∞$，\n",
                "\n",
                "$$\n",
                "\\frac{∑ĝ(x_{i})}{N} → g(θ₁, ⋯, θ_n)\n",
                "$$\n",
                "\n",
                "- 最小均方误差\n",
                "\n",
                "$$\n",
                "\\begin{aligned}\n",
                "E_θ[θ̂(x₁, ⋯, x_n) -θ]² = D_θ(θ̂) + [E_θ(θ̂ - θ)]²\n",
                "\\end{aligned}\n",
                "$$\n"
            ]
        },
        {
            "attachments": {},
            "cell_type": "markdown",
            "id": "dc89fcbb",
            "metadata": {},
            "source": [
                "## 2. 区间估计\n",
                "\n",
                "### 2.1. 概念\n",
                "\n",
                "对统计量$θ̂₁(x₁, ⋯, x_n) ≤ θ̂(x₁, ⋯, x_n)$\n",
                "\n",
                "要求\n",
                "\n",
                "1. $P_θ(θ̂₁(x₁, ⋯, x_n) ≤ θ ≤ θ̂₂(x₁, ⋯, x_n))$ 尽可能大\n",
                "2. $θ̂₂ - θ̂₁$ 尽可能小\n",
                "\n",
                "由于$1^{∘}, 2^{∘}$在一定成都上相互矛盾，Neymann 提出**定义**：给定一个很小的数$α > 0$，对$∀θ, P_θ = 1 - α$，即区间估计的置信系数为$1 - α$\n"
            ]
        },
        {
            "attachments": {},
            "cell_type": "markdown",
            "id": "1b296c94",
            "metadata": {},
            "source": [
                "### 2.2. 枢轴变量法\n",
                "\n",
                "设$X_{i}$为$N(μ, σ²)$的样本，$σ²$已知，则\n",
                "\n",
                "$$\n",
                "\\frac{X̂ - μ}{σ/\\sqrt{n}} ∼ N(0, 1)\n",
                "$$\n",
                "\n",
                "记$Φ(x)$为$N(0, 1)$的分布函数，对$β ∈ (0, 1)$，若$Φ(μ_{β}) = 1 - β$，则称$μ_{β}$为$N(0, 1)$的上$β$分位点。\n",
                "\n",
                "由$Φ(-t) = 1 - Φ(t)$，\n",
                "\n",
                "$$\n",
                "P(-μ_{α/2} ≤ X ≤ u_{α/2}) = Φ(u_{α/2}) - Φ(-u_{α/2})\n",
                "$$\n",
                "\n",
                "即\n",
                "\n",
                "$$\n",
                "[θ̂₁, θ̂₂] = [X̂ - σ⋅u_{α/2}/\\sqrt{n}, X̂ + σ⋅u_{α/2}/\\sqrt{n}]\n",
                "$$\n"
            ]
        },
        {
            "attachments": {},
            "cell_type": "markdown",
            "id": "d0ca5226",
            "metadata": {},
            "source": [
                "## 3. 假设检验\n",
                "\n",
                "### 3.1. 参数\n",
                "\n",
                "假设检验可分为参数检验和非参数检验。\n",
                "\n",
                "参数检验设数据可由一个或多个参数定义的分布很好地描述，在大多数情况下由高斯分布定义。对于给定的数据集，然后确定该分布的最佳拟合参数及其置信区间并进行解释。但，这种方法仅在给定数据集实际上与所选分布很好地接近时才有效。若不是，参数检验的结果可能完全错误。在那种情况下，必须使用不太敏感的非参数检验。\n"
            ]
        },
        {
            "attachments": {},
            "cell_type": "markdown",
            "id": "d6bc48a4",
            "metadata": {},
            "source": [
                "### 3.2. 零分布、p 值\n",
                "\n",
                "零分布（null distribution）是两总体样本的均值的差值分布，设检验中首先认为样本均符合此分布，这样的设称为零假设（null hypothesis），记做 H₀，定义另一个与零假设完全相反的备择设（alternative hypothesis），记做 Hₐ。\n",
                "\n",
                "- H₀ 的条件下，出现极端的样本的概率即为 p-value，当其小于一定水平，即 p-value ≤ α，说明此前假设的\"意外\"确实有别于整体，则可拒绝零假设\n",
                "- 等号总是出现在零假设中\n",
                "\n",
                "|    样本    |      双尾      |      单尾      |\n",
                "| :--------: | :------------: | :------------: |\n",
                "| 样本与总体 |       ≠        |     > 或<      |\n",
                "|  配对样本  |       ≠        |     > 或<      |\n",
                "| 独立双样本 | 等方差、异方差 | 等方差、异方差 |\n"
            ]
        },
        {
            "attachments": {},
            "cell_type": "markdown",
            "id": "cf3f346f",
            "metadata": {},
            "source": [
                "### 3.3. 错误、检验力\n",
                "\n",
                "- 错误 I：假阳性错误，即在 H₀ 为真时，接受 Hₐ，错误 I 概率 $α$又称为显著性水平\n",
                "- 错误 II：假阴性错误，即在 Hₐ 为真时，接受 H₀，错误 II 概率为$β = P(Z ≤ Z₀ + z_α)$\n",
                "- 假设检验的前提：简单随机样本，且相互独立\n",
                "- 正态总体的采样量：< 30，采样分布为 _t_ 分布，≥ 30 均值的采样分布为高斯分布。\n",
                "\n",
                "统计检验的检验力（power）的确定以及揭示给定幅度的影响所需的最小样本量的计算被称为检验力检验（power test），是对 H₀ 检验的灵敏度的度量。它涉及四个因素：\n",
                "\n",
                "- $α$，类型 I 错误的概率；\n",
                "- $β$，类型 II 错误的概率，$1 - β$即检验功效；\n",
                "- $d$，效应量\n",
                "- $n$，样本量\n",
                "\n",
                "选择以上因素中的 3 个，则第 4 个也随即确定。\n",
                "\n",
                "> 当$n$一定时，$α, β$此消彼长。\n",
                "> 功效与参数间差异（均值差）、$α$、$n$呈正相关。\n",
                "\n",
                "$β$的分布由下式计算，\n",
                "\n",
                "$$\n",
                "Z_{β} = \\frac{\\sqrt{n}δ}{σ} - Z_{α}\n",
                "$$\n",
                "\n",
                "其中，δ 为容许误差，$Z_{β}$为规范分布的单侧临界值。\n",
                "\n",
                "![error-type](./images/ch03/errors.png)\n",
                "\n",
                "|    名词    |           意义           |        表示        |\n",
                "| :--------: | :----------------------: | :----------------: |\n",
                "|  置信区间  |   估计总体真实值的范围   |   均值 ± 误差限    |\n",
                "|   误差限   |     估计值的最大误差     | 临界值 × 标准误差  |\n",
                "| 显著性水平 |   正态总体尾部的总概率   |         α          |\n",
                "|   置信度   |    落在中间区域的概率    |       1 - α        |\n",
                "|   临界值   |                          | $z_{α/2}, t_{α/2}$ |\n",
                "|  p-value   | 拒绝原设的最小显著性水平 |   检验统计量得出   |\n",
                "\n",
                "> 当$α = 0.05$，$z_{α/2} = 1.96$，此时置信区间为$X̂ ± 1.96*\\frac{σ}{\\sqrt{n}}$\n"
            ]
        },
        {
            "attachments": {},
            "cell_type": "markdown",
            "id": "c15c4335",
            "metadata": {},
            "source": [
                "## 4. 效应量\n",
                "\n",
                "效应量（effect size）是指由于因素引起的差别，是度量处理效应大小的指标。是所研究的效应相对于样本方差 $σ$ 的大小。与显著性检验不同，这些指标不受样本容量影响。它表示不同处理下的总体均值之间差异的大小，可在不同研究之间进行比较。均值差异、方差分析解释比例、回归分析解释比例需要用效应量描述。当样本容量大到显著时，有必要报告效应量大小。\n"
            ]
        },
        {
            "attachments": {},
            "cell_type": "markdown",
            "id": "a77b7b24",
            "metadata": {},
            "source": [
                "### 4.1. Cohen's _d_\n",
                "\n",
                "Jacob Cohen（1932∼1998）定义了 _d_ 值和两个总体的并合标准偏差（pooled standard deviation，$S_p²$）\n",
                "\n",
                "$$\n",
                "d = \\frac{X̄₁ - X̄₂}{S_p}\n",
                "$$\n",
                "\n",
                "由 _t_ 值定义，$d = t/\\sqrt n$，对$k$个不同总体的样本\n",
                "\n",
                "$$\n",
                "S_p² = \\frac{∑_{i = 1}^{k} (n_{i} -1)S_{i}²}{∑_{n - 1}^{k} (n_{i} -1)}\n",
                "$$\n",
                "\n",
                "其中，$S_{i}²$为每个样本的方差。\n",
                "\n",
                "当$k = 2$时，$S_p²$即为不同总体 _t_ 检验中的$S_w²$，即有\n",
                "\n",
                "$$\n",
                "d = \\frac{D}{σ}\n",
                "$$\n",
                "\n",
                "2009 年，Shlomo S. Sawilowsky（1954∼）在 Cohen 的基础上，完善了对 _d_ 值效应的描述。\n",
                "\n",
                "| Effect size | Cohen's d |\n",
                "| :---------: | :-------: |\n",
                "|   small+    |   0.01    |\n",
                "|    small    |   0.20    |\n",
                "|   medium    |   0.50    |\n",
                "|    large    |   0.80    |\n",
                "|   large+    |   1.20    |\n",
                "|    huge     |   2.00    |\n"
            ]
        },
        {
            "attachments": {},
            "cell_type": "markdown",
            "id": "dba4ffa0",
            "metadata": {},
            "source": [
                "### 4.2. 比例\n",
                "\n",
                "对于比例，效应量$d$为\n",
                "\n",
                "$$\n",
                "d = 2 * (\\arcsin{\\sqrt{\\mathrm{prop}_1}} - \\arcsin{\\sqrt{\\mathrm{prop}_2}})\n",
                "$$"
            ]
        },
        {
            "cell_type": "code",
            "execution_count": 2,
            "id": "baa2dde5",
            "metadata": {},
            "outputs": [
                {
                    "name": "stdout",
                    "output_type": "stream",
                    "text": [
                        "effect size: 0.8448590295836149\n",
                        "samples number: 22.993204777473384\n"
                    ]
                },
                {
                    "name": "stderr",
                    "output_type": "stream",
                    "text": [
                        "/opt/homebrew/Caskroom/mambaforge-cn/base/lib/python3.11/site-packages/scipy/stats/_continuous_distns.py:6832: RuntimeWarning: invalid value encountered in _nct_sf\n",
                        "  return np.clip(_boost._nct_sf(x, df, nc), 0, 1)\n",
                        "/opt/homebrew/Caskroom/mambaforge-cn/base/lib/python3.11/site-packages/scipy/stats/_continuous_distns.py:6826: RuntimeWarning: invalid value encountered in _nct_cdf\n",
                        "  return np.clip(_boost._nct_cdf(x, df, nc), 0, 1)\n",
                        "/opt/homebrew/Caskroom/mambaforge-cn/base/lib/python3.11/site-packages/scipy/stats/_continuous_distns.py:6832: RuntimeWarning: overflow encountered in _nct_sf\n",
                        "  return np.clip(_boost._nct_sf(x, df, nc), 0, 1)\n",
                        "/opt/homebrew/Caskroom/mambaforge-cn/base/lib/python3.11/site-packages/scipy/stats/_continuous_distns.py:6826: RuntimeWarning: overflow encountered in _nct_cdf\n",
                        "  return np.clip(_boost._nct_cdf(x, df, nc), 0, 1)\n"
                    ]
                }
            ],
            "source": [
                "α = 0.05\n",
                "β = 0.2\n",
                "\n",
                "effect_size = proportion_effectsize(prop1=0.8, prop2=0.4)\n",
                "print(f'effect size: {effect_size}')\n",
                "\n",
                "n_samples = tt_ind_solve_power(effect_size=effect_size, alpha=α, power=1-β)\n",
                "print(f'samples number: {n_samples}')"
            ]
        },
        {
            "cell_type": "code",
            "execution_count": 3,
            "id": "6a02b9d4",
            "metadata": {},
            "outputs": [
                {
                    "name": "stdout",
                    "output_type": "stream",
                    "text": [
                        "0.8087077770834813\n"
                    ]
                }
            ],
            "source": [
                "effect_size = tt_ind_solve_power(alpha=α, power=1-β, nobs1=25)\n",
                "print(effect_size)"
            ]
        },
        {
            "attachments": {},
            "cell_type": "markdown",
            "id": "124b51b1",
            "metadata": {},
            "source": [
                "### 4.3. 样本量\n",
                "\n",
                "设从中抽取样本的总体的均值为$X̂$且标准差为 σ，而实际总体的均值为$μ = X̂ + D$且标准差相同，则最小样本数量\n",
                "\n",
                "$$\n",
                "n = \\frac{(z_{1 - α/2} + z_{1 - β})²}{d²}\n",
                "$$\n",
                "\n",
                "其中，$z = \\dfrac{x - μ}{σ}$为 _Z_ 统计量，$d$为效应量。\n",
                "\n",
                "换句话说，若真实均值的值为$X̂$，所有检验中的至少$1 - α％$可正确检测到；若真实均值偏移了$D$或更多，则应检测到这个可能性至少为$1 - β％$。\n",
                "\n",
                "对不同总体\n",
                "\n",
                "$$\n",
                "n₁ = n₂ = \\frac{(z_{1 - α/2} +z_{1 - β})²(σ²₁ + σ²₂)}{D²}\n",
                "$$\n"
            ]
        },
        {
            "cell_type": "code",
            "execution_count": 4,
            "id": "b9923875",
            "metadata": {},
            "outputs": [
                {
                    "name": "stdout",
                    "output_type": "stream",
                    "text": [
                        "You need at least 31 subjects.\n",
                        "------------------------------\n",
                        "You need at least 35 subjects.\n"
                    ]
                },
                {
                    "data": {
                        "text/plain": [
                            "35.0"
                        ]
                    },
                    "execution_count": 4,
                    "metadata": {},
                    "output_type": "execute_result"
                }
            ],
            "source": [
                "def sampleSize_oneGroup(d, α, β, σ=1) -> np.float16:\n",
                "\n",
                "    n = np.round(\n",
                "        (stats.norm.ppf(1 - α / 2) + stats.norm.ppf(1 - β)) ** 2 * σ**2 / d**2\n",
                "    )\n",
                "    print(f\"You need at least {int(n):d} subjects.\")\n",
                "    return n\n",
                "\n",
                "\n",
                "def sampleSize_twoGroups(d, α, β, σ1=1, σ2=1) -> np.float16:\n",
                "\n",
                "    n = np.round(\n",
                "        (stats.norm.ppf(1 - α / 2) + stats.norm.ppf(1 - β)) ** 2\n",
                "        * (σ1**2 + σ2**2)\n",
                "        / d**2\n",
                "    )\n",
                "    print(f\"You need at least {int(n):d} subjects.\")\n",
                "    return n\n",
                "\n",
                "\n",
                "α, β = 0.05, 0.2\n",
                "sampleSize_oneGroup(0.5, α, β)\n",
                "print(\"-\" * 30)\n",
                "sampleSize_twoGroups(0.4, α, β, σ1=0.6, σ2=0.6)"
            ]
        }
    ],
    "metadata": {
        "jupytext": {
            "cell_metadata_filter": "-all",
            "formats": "md,ipynb",
            "notebook_metadata_filter": "-all"
        },
        "kernelspec": {
            "display_name": "base",
            "language": "python",
            "name": "python3"
        },
        "language_info": {
            "codemirror_mode": {
                "name": "ipython",
                "version": 3
            },
            "file_extension": ".py",
            "mimetype": "text/x-python",
            "name": "python",
            "nbconvert_exporter": "python",
            "pygments_lexer": "ipython3",
            "version": "3.11.0"
        },
        "vscode": {
            "interpreter": {
                "hash": "4a3a26c61b03a68a5b093970c04769d6f104346566dae117fb5b25829ad0e3d0"
            }
        }
    },
    "nbformat": 4,
    "nbformat_minor": 5
}
