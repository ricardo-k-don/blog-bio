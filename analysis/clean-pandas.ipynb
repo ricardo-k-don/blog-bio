{
	"cells": [
		{
			"cell_type": "markdown",
			"metadata": {},
			"source": ["# Pandas\n"]
		},
		{
			"cell_type": "code",
			"execution_count": 1,
			"metadata": {
				"tags": []
			},
			"outputs": [],
			"source": ["import pandas as pd"]
		},
		{
			"attachments": {},
			"cell_type": "markdown",
			"metadata": {},
			"source": ["## Read & Info\n", "\n", "### Read tabular data"]
		},
		{
			"cell_type": "code",
			"execution_count": 2,
			"metadata": {},
			"outputs": [],
			"source": [
				"user_cols = [\"user_id\", \"age\", \"gender\", \"occupation\", \"zip_code\"]\n",
				"users = pd.read_csv(\"data/movie.user\", sep=\"|\", header=None, names=user_cols)"
			]
		},
		{
			"cell_type": "code",
			"execution_count": 3,
			"metadata": {
				"collapsed": false,
				"jupyter": {
					"outputs_hidden": false
				}
			},
			"outputs": [
				{
					"data": {
						"text/html": [
							"<div>\n", "<style scoped>\n",
							"    .dataframe tbody tr th:only-of-type {\n",
							"        vertical-align: middle;\n", "    }\n", "\n",
							"    .dataframe tbody tr th {\n",
							"        vertical-align: top;\n", "    }\n", "\n",
							"    .dataframe thead th {\n", "        text-align: right;\n",
							"    }\n", "</style>\n",
							"<table border=\"1\" class=\"dataframe\">\n", "  <thead>\n",
							"    <tr style=\"text-align: right;\">\n", "      <th></th>\n",
							"      <th>user_id</th>\n", "      <th>age</th>\n",
							"      <th>gender</th>\n", "      <th>occupation</th>\n",
							"      <th>zip_code</th>\n", "    </tr>\n", "  </thead>\n",
							"  <tbody>\n", "    <tr>\n", "      <th>0</th>\n",
							"      <td>1</td>\n", "      <td>24</td>\n", "      <td>M</td>\n",
							"      <td>technician</td>\n", "      <td>85711</td>\n",
							"    </tr>\n", "    <tr>\n", "      <th>1</th>\n",
							"      <td>2</td>\n", "      <td>53</td>\n", "      <td>F</td>\n",
							"      <td>other</td>\n", "      <td>94043</td>\n", "    </tr>\n",
							"    <tr>\n", "      <th>2</th>\n", "      <td>3</td>\n",
							"      <td>23</td>\n", "      <td>M</td>\n",
							"      <td>writer</td>\n", "      <td>32067</td>\n",
							"    </tr>\n", "    <tr>\n", "      <th>3</th>\n",
							"      <td>4</td>\n", "      <td>24</td>\n", "      <td>M</td>\n",
							"      <td>technician</td>\n", "      <td>43537</td>\n",
							"    </tr>\n", "    <tr>\n", "      <th>4</th>\n",
							"      <td>5</td>\n", "      <td>33</td>\n", "      <td>F</td>\n",
							"      <td>other</td>\n", "      <td>15213</td>\n", "    </tr>\n",
							"  </tbody>\n", "</table>\n", "</div>"
						],
						"text/plain": [
							"   user_id  age gender  occupation zip_code\n",
							"0        1   24      M  technician    85711\n",
							"1        2   53      F       other    94043\n",
							"2        3   23      M      writer    32067\n",
							"3        4   24      M  technician    43537\n",
							"4        5   33      F       other    15213"
						]
					},
					"execution_count": 3,
					"metadata": {},
					"output_type": "execute_result"
				}
			],
			"source": ["# examine the first 5 rows\n", "users.head()"]
		},
		{
			"cell_type": "code",
			"execution_count": 4,
			"metadata": {},
			"outputs": [],
			"source": [
				"# read_csv is equivalent to read_csv, except it assumes a comma separator\n",
				"ufo = pd.read_csv(\"data//ufo.csv\")"
			]
		},
		{
			"cell_type": "code",
			"execution_count": 5,
			"metadata": {
				"collapsed": false,
				"jupyter": {
					"outputs_hidden": false
				}
			},
			"outputs": [
				{
					"data": {
						"text/html": [
							"<div>\n", "<style scoped>\n",
							"    .dataframe tbody tr th:only-of-type {\n",
							"        vertical-align: middle;\n", "    }\n", "\n",
							"    .dataframe tbody tr th {\n",
							"        vertical-align: top;\n", "    }\n", "\n",
							"    .dataframe thead th {\n", "        text-align: right;\n",
							"    }\n", "</style>\n",
							"<table border=\"1\" class=\"dataframe\">\n", "  <thead>\n",
							"    <tr style=\"text-align: right;\">\n", "      <th></th>\n",
							"      <th>City</th>\n", "      <th>Colors Reported</th>\n",
							"      <th>Shape Reported</th>\n", "      <th>State</th>\n",
							"      <th>Time</th>\n", "    </tr>\n", "  </thead>\n",
							"  <tbody>\n", "    <tr>\n", "      <th>0</th>\n",
							"      <td>Ithaca</td>\n", "      <td>NaN</td>\n",
							"      <td>TRIANGLE</td>\n", "      <td>NY</td>\n",
							"      <td>6/1/1930 22:00</td>\n", "    </tr>\n", "    <tr>\n",
							"      <th>1</th>\n", "      <td>Willingboro</td>\n",
							"      <td>NaN</td>\n", "      <td>OTHER</td>\n",
							"      <td>NJ</td>\n", "      <td>6/30/1930 20:00</td>\n",
							"    </tr>\n", "    <tr>\n", "      <th>2</th>\n",
							"      <td>Holyoke</td>\n", "      <td>NaN</td>\n",
							"      <td>OVAL</td>\n", "      <td>CO</td>\n",
							"      <td>2/15/1931 14:00</td>\n", "    </tr>\n", "    <tr>\n",
							"      <th>3</th>\n", "      <td>Abilene</td>\n",
							"      <td>NaN</td>\n", "      <td>DISK</td>\n",
							"      <td>KS</td>\n", "      <td>6/1/1931 13:00</td>\n",
							"    </tr>\n", "    <tr>\n", "      <th>4</th>\n",
							"      <td>New York Worlds Fair</td>\n", "      <td>NaN</td>\n",
							"      <td>LIGHT</td>\n", "      <td>NY</td>\n",
							"      <td>4/18/1933 19:00</td>\n", "    </tr>\n", "  </tbody>\n",
							"</table>\n", "</div>"
						],
						"text/plain": [
							"                   City Colors Reported Shape Reported State             Time\n",
							"0                Ithaca             NaN       TRIANGLE    NY   6/1/1930 22:00\n",
							"1           Willingboro             NaN          OTHER    NJ  6/30/1930 20:00\n",
							"2               Holyoke             NaN           OVAL    CO  2/15/1931 14:00\n",
							"3               Abilene             NaN           DISK    KS   6/1/1931 13:00\n",
							"4  New York Worlds Fair             NaN          LIGHT    NY  4/18/1933 19:00"
						]
					},
					"execution_count": 5,
					"metadata": {},
					"output_type": "execute_result"
				}
			],
			"source": ["# examine the first 5 rows\n", "ufo.head()"]
		},
		{
			"cell_type": "code",
			"execution_count": 6,
			"metadata": {},
			"outputs": [
				{
					"data": {
						"text/html": [
							"<div>\n", "<style scoped>\n",
							"    .dataframe tbody tr th:only-of-type {\n",
							"        vertical-align: middle;\n", "    }\n", "\n",
							"    .dataframe tbody tr th {\n",
							"        vertical-align: top;\n", "    }\n", "\n",
							"    .dataframe thead th {\n", "        text-align: right;\n",
							"    }\n", "</style>\n",
							"<table border=\"1\" class=\"dataframe\">\n", "  <thead>\n",
							"    <tr style=\"text-align: right;\">\n", "      <th></th>\n",
							"      <th>City</th>\n", "      <th>State</th>\n", "    </tr>\n",
							"  </thead>\n", "  <tbody>\n", "    <tr>\n", "      <th>0</th>\n",
							"      <td>Ithaca</td>\n", "      <td>NY</td>\n", "    </tr>\n",
							"    <tr>\n", "      <th>1</th>\n",
							"      <td>Willingboro</td>\n", "      <td>NJ</td>\n",
							"    </tr>\n", "    <tr>\n", "      <th>2</th>\n",
							"      <td>Holyoke</td>\n", "      <td>CO</td>\n", "    </tr>\n",
							"    <tr>\n", "      <th>3</th>\n", "      <td>Abilene</td>\n",
							"      <td>KS</td>\n", "    </tr>\n", "    <tr>\n",
							"      <th>4</th>\n", "      <td>New York Worlds Fair</td>\n",
							"      <td>NY</td>\n", "    </tr>\n", "  </tbody>\n",
							"</table>\n", "</div>"
						],
						"text/plain": [
							"                   City State\n",
							"0                Ithaca    NY\n",
							"1           Willingboro    NJ\n",
							"2               Holyoke    CO\n",
							"3               Abilene    KS\n", "4  New York Worlds Fair    NY"
						]
					},
					"execution_count": 6,
					"metadata": {},
					"output_type": "execute_result"
				}
			],
			"source": [
				"# specify which columns to include by name\n",
				"pd.read_csv(\"data/ufo.csv\", usecols=[\"City\", \"State\"]).head()"
			]
		},
		{
			"cell_type": "code",
			"execution_count": 7,
			"metadata": {},
			"outputs": [
				{
					"data": {
						"text/html": [
							"<div>\n", "<style scoped>\n",
							"    .dataframe tbody tr th:only-of-type {\n",
							"        vertical-align: middle;\n", "    }\n", "\n",
							"    .dataframe tbody tr th {\n",
							"        vertical-align: top;\n", "    }\n", "\n",
							"    .dataframe thead th {\n", "        text-align: right;\n",
							"    }\n", "</style>\n",
							"<table border=\"1\" class=\"dataframe\">\n", "  <thead>\n",
							"    <tr style=\"text-align: right;\">\n", "      <th></th>\n",
							"      <th>City</th>\n", "      <th>Time</th>\n", "    </tr>\n",
							"  </thead>\n", "  <tbody>\n", "    <tr>\n", "      <th>0</th>\n",
							"      <td>Ithaca</td>\n", "      <td>6/1/1930 22:00</td>\n",
							"    </tr>\n", "    <tr>\n", "      <th>1</th>\n",
							"      <td>Willingboro</td>\n",
							"      <td>6/30/1930 20:00</td>\n", "    </tr>\n", "    <tr>\n",
							"      <th>2</th>\n", "      <td>Holyoke</td>\n",
							"      <td>2/15/1931 14:00</td>\n", "    </tr>\n", "    <tr>\n",
							"      <th>3</th>\n", "      <td>Abilene</td>\n",
							"      <td>6/1/1931 13:00</td>\n", "    </tr>\n", "    <tr>\n",
							"      <th>4</th>\n", "      <td>New York Worlds Fair</td>\n",
							"      <td>4/18/1933 19:00</td>\n", "    </tr>\n", "  </tbody>\n",
							"</table>\n", "</div>"
						],
						"text/plain": [
							"                   City             Time\n",
							"0                Ithaca   6/1/1930 22:00\n",
							"1           Willingboro  6/30/1930 20:00\n",
							"2               Holyoke  2/15/1931 14:00\n",
							"3               Abilene   6/1/1931 13:00\n",
							"4  New York Worlds Fair  4/18/1933 19:00"
						]
					},
					"execution_count": 7,
					"metadata": {},
					"output_type": "execute_result"
				}
			],
			"source": [
				"# specify columns by position\n",
				"pd.read_csv(\"data/ufo.csv\", usecols=[0, 4]).head()"
			]
		},
		{
			"cell_type": "code",
			"execution_count": 8,
			"metadata": {},
			"outputs": [
				{
					"data": {
						"text/html": [
							"<div>\n", "<style scoped>\n",
							"    .dataframe tbody tr th:only-of-type {\n",
							"        vertical-align: middle;\n", "    }\n", "\n",
							"    .dataframe tbody tr th {\n",
							"        vertical-align: top;\n", "    }\n", "\n",
							"    .dataframe thead th {\n", "        text-align: right;\n",
							"    }\n", "</style>\n",
							"<table border=\"1\" class=\"dataframe\">\n", "  <thead>\n",
							"    <tr style=\"text-align: right;\">\n", "      <th></th>\n",
							"      <th>City</th>\n", "      <th>Colors Reported</th>\n",
							"      <th>Shape Reported</th>\n", "      <th>State</th>\n",
							"      <th>Time</th>\n", "    </tr>\n", "  </thead>\n",
							"  <tbody>\n", "    <tr>\n", "      <th>0</th>\n",
							"      <td>Ithaca</td>\n", "      <td>NaN</td>\n",
							"      <td>TRIANGLE</td>\n", "      <td>NY</td>\n",
							"      <td>6/1/1930 22:00</td>\n", "    </tr>\n", "    <tr>\n",
							"      <th>1</th>\n", "      <td>Willingboro</td>\n",
							"      <td>NaN</td>\n", "      <td>OTHER</td>\n",
							"      <td>NJ</td>\n", "      <td>6/30/1930 20:00</td>\n",
							"    </tr>\n", "    <tr>\n", "      <th>2</th>\n",
							"      <td>Holyoke</td>\n", "      <td>NaN</td>\n",
							"      <td>OVAL</td>\n", "      <td>CO</td>\n",
							"      <td>2/15/1931 14:00</td>\n", "    </tr>\n", "  </tbody>\n",
							"</table>\n", "</div>"
						],
						"text/plain": [
							"          City  Colors Reported Shape Reported State             Time\n",
							"0       Ithaca              NaN       TRIANGLE    NY   6/1/1930 22:00\n",
							"1  Willingboro              NaN          OTHER    NJ  6/30/1930 20:00\n",
							"2      Holyoke              NaN           OVAL    CO  2/15/1931 14:00"
						]
					},
					"execution_count": 8,
					"metadata": {},
					"output_type": "execute_result"
				}
			],
			"source": [
				"# specify how many rows to read\n",
				"pd.read_csv(\"data/ufo.csv\", nrows=3).head()"
			]
		},
		{
			"cell_type": "markdown",
			"metadata": {},
			"source": ["### Describe data\n"]
		},
		{
			"cell_type": "code",
			"execution_count": 9,
			"metadata": {},
			"outputs": [],
			"source": ["movies = pd.read_csv(\"data/imdb_1000.csv\")\n"]
		},
		{
			"cell_type": "code",
			"execution_count": 10,
			"metadata": {
				"collapsed": false,
				"jupyter": {
					"outputs_hidden": false
				}
			},
			"outputs": [
				{
					"data": {
						"text/html": [
							"<div>\n", "<style scoped>\n",
							"    .dataframe tbody tr th:only-of-type {\n",
							"        vertical-align: middle;\n", "    }\n", "\n",
							"    .dataframe tbody tr th {\n",
							"        vertical-align: top;\n", "    }\n", "\n",
							"    .dataframe thead th {\n", "        text-align: right;\n",
							"    }\n", "</style>\n",
							"<table border=\"1\" class=\"dataframe\">\n", "  <thead>\n",
							"    <tr style=\"text-align: right;\">\n", "      <th></th>\n",
							"      <th>star_rating</th>\n", "      <th>title</th>\n",
							"      <th>content_rating</th>\n", "      <th>genre</th>\n",
							"      <th>duration</th>\n", "      <th>actors_list</th>\n",
							"    </tr>\n", "  </thead>\n", "  <tbody>\n", "    <tr>\n",
							"      <th>0</th>\n", "      <td>9.3</td>\n",
							"      <td>The Shawshank Redemption</td>\n", "      <td>R</td>\n",
							"      <td>Crime</td>\n", "      <td>142</td>\n",
							"      <td>[u'Tim Robbins', u'Morgan Freeman', u'Bob Gunt...</td>\n",
							"    </tr>\n", "    <tr>\n", "      <th>1</th>\n",
							"      <td>9.2</td>\n", "      <td>The Godfather</td>\n",
							"      <td>R</td>\n", "      <td>Crime</td>\n",
							"      <td>175</td>\n",
							"      <td>[u'Marlon Brando', u'Al Pacino', u'James Caan']</td>\n",
							"    </tr>\n", "    <tr>\n", "      <th>2</th>\n",
							"      <td>9.1</td>\n", "      <td>The Godfather: Part II</td>\n",
							"      <td>R</td>\n", "      <td>Crime</td>\n",
							"      <td>200</td>\n",
							"      <td>[u'Al Pacino', u'Robert De Niro', u'Robert Duv...</td>\n",
							"    </tr>\n", "    <tr>\n", "      <th>3</th>\n",
							"      <td>9.0</td>\n", "      <td>The Dark Knight</td>\n",
							"      <td>PG-13</td>\n", "      <td>Action</td>\n",
							"      <td>152</td>\n",
							"      <td>[u'Christian Bale', u'Heath Ledger', u'Aaron E...</td>\n",
							"    </tr>\n", "    <tr>\n", "      <th>4</th>\n",
							"      <td>8.9</td>\n", "      <td>Pulp Fiction</td>\n",
							"      <td>R</td>\n", "      <td>Crime</td>\n",
							"      <td>154</td>\n",
							"      <td>[u'John Travolta', u'Uma Thurman', u'Samuel L....</td>\n",
							"    </tr>\n", "  </tbody>\n", "</table>\n", "</div>"
						],
						"text/plain": [
							"   star_rating                     title content_rating   genre  duration  \\\n",
							"0          9.3  The Shawshank Redemption              R   Crime       142   \n",
							"1          9.2             The Godfather              R   Crime       175   \n",
							"2          9.1    The Godfather: Part II              R   Crime       200   \n",
							"3          9.0           The Dark Knight          PG-13  Action       152   \n",
							"4          8.9              Pulp Fiction              R   Crime       154   \n",
							"\n", "                                         actors_list  \n",
							"0  [u'Tim Robbins', u'Morgan Freeman', u'Bob Gunt...  \n",
							"1    [u'Marlon Brando', u'Al Pacino', u'James Caan']  \n",
							"2  [u'Al Pacino', u'Robert De Niro', u'Robert Duv...  \n",
							"3  [u'Christian Bale', u'Heath Ledger', u'Aaron E...  \n",
							"4  [u'John Travolta', u'Uma Thurman', u'Samuel L....  "
						]
					},
					"execution_count": 10,
					"metadata": {},
					"output_type": "execute_result"
				}
			],
			"source": ["# example method: show the first 5 rows\n", "movies.head()\n"]
		},
		{
			"cell_type": "code",
			"execution_count": 11,
			"metadata": {
				"collapsed": false,
				"jupyter": {
					"outputs_hidden": false
				}
			},
			"outputs": [
				{
					"data": {
						"text/plain": ["(979, 6)"]
					},
					"execution_count": 11,
					"metadata": {},
					"output_type": "execute_result"
				}
			],
			"source": [
				"# example attribute: number of rows and columns\n", "movies.shape\n"
			]
		},
		{
			"cell_type": "code",
			"execution_count": 12,
			"metadata": {
				"collapsed": false,
				"jupyter": {
					"outputs_hidden": false
				},
				"scrolled": true
			},
			"outputs": [
				{
					"data": {
						"text/plain": [
							"star_rating       float64\n", "title              object\n",
							"content_rating     object\n", "genre              object\n",
							"duration            int64\n", "actors_list        object\n",
							"dtype: object"
						]
					},
					"execution_count": 12,
					"metadata": {},
					"output_type": "execute_result"
				}
			],
			"source": [
				"# example attribute: data type of each column\n", "movies.dtypes\n"
			]
		},
		{
			"cell_type": "code",
			"execution_count": 13,
			"metadata": {
				"collapsed": false,
				"jupyter": {
					"outputs_hidden": false
				}
			},
			"outputs": [
				{
					"data": {
						"text/html": [
							"<div>\n", "<style scoped>\n",
							"    .dataframe tbody tr th:only-of-type {\n",
							"        vertical-align: middle;\n", "    }\n", "\n",
							"    .dataframe tbody tr th {\n",
							"        vertical-align: top;\n", "    }\n", "\n",
							"    .dataframe thead th {\n", "        text-align: right;\n",
							"    }\n", "</style>\n",
							"<table border=\"1\" class=\"dataframe\">\n", "  <thead>\n",
							"    <tr style=\"text-align: right;\">\n", "      <th></th>\n",
							"      <th>star_rating</th>\n", "      <th>duration</th>\n",
							"    </tr>\n", "  </thead>\n", "  <tbody>\n", "    <tr>\n",
							"      <th>count</th>\n", "      <td>979.000000</td>\n",
							"      <td>979.000000</td>\n", "    </tr>\n", "    <tr>\n",
							"      <th>mean</th>\n", "      <td>7.889785</td>\n",
							"      <td>120.979571</td>\n", "    </tr>\n", "    <tr>\n",
							"      <th>std</th>\n", "      <td>0.336069</td>\n",
							"      <td>26.218010</td>\n", "    </tr>\n", "    <tr>\n",
							"      <th>min</th>\n", "      <td>7.400000</td>\n",
							"      <td>64.000000</td>\n", "    </tr>\n", "    <tr>\n",
							"      <th>25%</th>\n", "      <td>7.600000</td>\n",
							"      <td>102.000000</td>\n", "    </tr>\n", "    <tr>\n",
							"      <th>50%</th>\n", "      <td>7.800000</td>\n",
							"      <td>117.000000</td>\n", "    </tr>\n", "    <tr>\n",
							"      <th>75%</th>\n", "      <td>8.100000</td>\n",
							"      <td>134.000000</td>\n", "    </tr>\n", "    <tr>\n",
							"      <th>max</th>\n", "      <td>9.300000</td>\n",
							"      <td>242.000000</td>\n", "    </tr>\n", "  </tbody>\n",
							"</table>\n", "</div>"
						],
						"text/plain": [
							"       star_rating    duration\n",
							"count   979.000000  979.000000\n",
							"mean      7.889785  120.979571\n",
							"std       0.336069   26.218010\n",
							"min       7.400000   64.000000\n",
							"25%       7.600000  102.000000\n",
							"50%       7.800000  117.000000\n",
							"75%       8.100000  134.000000\n",
							"max       9.300000  242.000000"
						]
					},
					"execution_count": 13,
					"metadata": {},
					"output_type": "execute_result"
				}
			],
			"source": [
				"# example method: calculate summary statistics\n",
				"movies.describe()\n"
			]
		},
		{
			"cell_type": "code",
			"execution_count": 14,
			"metadata": {
				"collapsed": false,
				"jupyter": {
					"outputs_hidden": false
				}
			},
			"outputs": [
				{
					"data": {
						"text/html": [
							"<div>\n", "<style scoped>\n",
							"    .dataframe tbody tr th:only-of-type {\n",
							"        vertical-align: middle;\n", "    }\n", "\n",
							"    .dataframe tbody tr th {\n",
							"        vertical-align: top;\n", "    }\n", "\n",
							"    .dataframe thead th {\n", "        text-align: right;\n",
							"    }\n", "</style>\n",
							"<table border=\"1\" class=\"dataframe\">\n", "  <thead>\n",
							"    <tr style=\"text-align: right;\">\n", "      <th></th>\n",
							"      <th>title</th>\n", "      <th>content_rating</th>\n",
							"      <th>genre</th>\n", "      <th>actors_list</th>\n",
							"    </tr>\n", "  </thead>\n", "  <tbody>\n", "    <tr>\n",
							"      <th>count</th>\n", "      <td>979</td>\n",
							"      <td>976</td>\n", "      <td>979</td>\n",
							"      <td>979</td>\n", "    </tr>\n", "    <tr>\n",
							"      <th>unique</th>\n", "      <td>975</td>\n",
							"      <td>12</td>\n", "      <td>16</td>\n",
							"      <td>969</td>\n", "    </tr>\n", "    <tr>\n",
							"      <th>top</th>\n", "      <td>Dracula</td>\n",
							"      <td>R</td>\n", "      <td>Drama</td>\n",
							"      <td>[u'Daniel Radcliffe', u'Emma Watson', u'Rupert...</td>\n",
							"    </tr>\n", "    <tr>\n", "      <th>freq</th>\n",
							"      <td>2</td>\n", "      <td>460</td>\n",
							"      <td>278</td>\n", "      <td>6</td>\n", "    </tr>\n",
							"  </tbody>\n", "</table>\n", "</div>"
						],
						"text/plain": [
							"          title content_rating  genre  \\\n",
							"count       979            976    979   \n",
							"unique      975             12     16   \n",
							"top     Dracula              R  Drama   \n",
							"freq          2            460    278   \n", "\n",
							"                                              actors_list  \n",
							"count                                                 979  \n",
							"unique                                                969  \n",
							"top     [u'Daniel Radcliffe', u'Emma Watson', u'Rupert...  \n",
							"freq                                                    6  "
						]
					},
					"execution_count": 14,
					"metadata": {},
					"output_type": "execute_result"
				}
			],
			"source": [
				"# use an optional parameter to the describe method to summarize only 'object' columns\n",
				"movies.describe(include=[\"object\"])\n"
			]
		},
		{
			"cell_type": "markdown",
			"metadata": {},
			"source": ["## Column Manipulation\n"]
		},
		{
			"cell_type": "markdown",
			"metadata": {},
			"source": ["### Create a new column\n"]
		},
		{
			"cell_type": "code",
			"execution_count": 15,
			"metadata": {
				"collapsed": false,
				"jupyter": {
					"outputs_hidden": false
				}
			},
			"outputs": [
				{
					"data": {
						"text/html": [
							"<div>\n", "<style scoped>\n",
							"    .dataframe tbody tr th:only-of-type {\n",
							"        vertical-align: middle;\n", "    }\n", "\n",
							"    .dataframe tbody tr th {\n",
							"        vertical-align: top;\n", "    }\n", "\n",
							"    .dataframe thead th {\n", "        text-align: right;\n",
							"    }\n", "</style>\n",
							"<table border=\"1\" class=\"dataframe\">\n", "  <thead>\n",
							"    <tr style=\"text-align: right;\">\n", "      <th></th>\n",
							"      <th>City</th>\n", "      <th>Colors Reported</th>\n",
							"      <th>Shape Reported</th>\n", "      <th>State</th>\n",
							"      <th>Time</th>\n", "      <th>Location</th>\n",
							"    </tr>\n", "  </thead>\n", "  <tbody>\n", "    <tr>\n",
							"      <th>0</th>\n", "      <td>Ithaca</td>\n",
							"      <td>NaN</td>\n", "      <td>TRIANGLE</td>\n",
							"      <td>NY</td>\n", "      <td>6/1/1930 22:00</td>\n",
							"      <td>0                      Ithaca\\n1              ...</td>\n",
							"    </tr>\n", "    <tr>\n", "      <th>1</th>\n",
							"      <td>Willingboro</td>\n", "      <td>NaN</td>\n",
							"      <td>OTHER</td>\n", "      <td>NJ</td>\n",
							"      <td>6/30/1930 20:00</td>\n",
							"      <td>0                      Ithaca\\n1              ...</td>\n",
							"    </tr>\n", "    <tr>\n", "      <th>2</th>\n",
							"      <td>Holyoke</td>\n", "      <td>NaN</td>\n",
							"      <td>OVAL</td>\n", "      <td>CO</td>\n",
							"      <td>2/15/1931 14:00</td>\n",
							"      <td>0                      Ithaca\\n1              ...</td>\n",
							"    </tr>\n", "    <tr>\n", "      <th>3</th>\n",
							"      <td>Abilene</td>\n", "      <td>NaN</td>\n",
							"      <td>DISK</td>\n", "      <td>KS</td>\n",
							"      <td>6/1/1931 13:00</td>\n",
							"      <td>0                      Ithaca\\n1              ...</td>\n",
							"    </tr>\n", "    <tr>\n", "      <th>4</th>\n",
							"      <td>New York Worlds Fair</td>\n", "      <td>NaN</td>\n",
							"      <td>LIGHT</td>\n", "      <td>NY</td>\n",
							"      <td>4/18/1933 19:00</td>\n",
							"      <td>0                      Ithaca\\n1              ...</td>\n",
							"    </tr>\n", "  </tbody>\n", "</table>\n", "</div>"
						],
						"text/plain": [
							"                   City Colors Reported Shape Reported State             Time  \\\n",
							"0                Ithaca             NaN       TRIANGLE    NY   6/1/1930 22:00   \n",
							"1           Willingboro             NaN          OTHER    NJ  6/30/1930 20:00   \n",
							"2               Holyoke             NaN           OVAL    CO  2/15/1931 14:00   \n",
							"3               Abilene             NaN           DISK    KS   6/1/1931 13:00   \n",
							"4  New York Worlds Fair             NaN          LIGHT    NY  4/18/1933 19:00   \n",
							"\n", "                                            Location  \n",
							"0  0                      Ithaca\\n1              ...  \n",
							"1  0                      Ithaca\\n1              ...  \n",
							"2  0                      Ithaca\\n1              ...  \n",
							"3  0                      Ithaca\\n1              ...  \n",
							"4  0                      Ithaca\\n1              ...  "
						]
					},
					"execution_count": 15,
					"metadata": {},
					"output_type": "execute_result"
				}
			],
			"source": [
				"# create a new 'Location' Series (must use bracket notation to define the Series name)\n",
				"ufo[\"Location\"] = f\"{ufo.City}, {ufo.State}\"\n", "ufo.head()\n"
			]
		},
		{
			"cell_type": "markdown",
			"metadata": {},
			"source": ["### Rename columns\n"]
		},
		{
			"cell_type": "code",
			"execution_count": 16,
			"metadata": {},
			"outputs": [],
			"source": ["ufo = pd.read_csv(\"data/ufo.csv\")\n"]
		},
		{
			"cell_type": "code",
			"execution_count": 17,
			"metadata": {
				"collapsed": false,
				"jupyter": {
					"outputs_hidden": false
				}
			},
			"outputs": [
				{
					"data": {
						"text/plain": [
							"Index(['City', 'Colors Reported', 'Shape Reported', 'State', 'Time'], dtype='object')"
						]
					},
					"execution_count": 17,
					"metadata": {},
					"output_type": "execute_result"
				}
			],
			"source": ["# examine the column names\n", "ufo.columns\n"]
		},
		{
			"cell_type": "code",
			"execution_count": 18,
			"metadata": {
				"collapsed": false,
				"jupyter": {
					"outputs_hidden": false
				}
			},
			"outputs": [
				{
					"data": {
						"text/plain": [
							"Index(['City', 'Colors_Reported', 'Shape_Reported', 'State', 'Time'], dtype='object')"
						]
					},
					"execution_count": 18,
					"metadata": {},
					"output_type": "execute_result"
				}
			],
			"source": [
				"# rename two of the columns by using the 'rename' method\n",
				"ufo.rename(\n",
				"    columns={\"Colors Reported\": \"Colors_Reported\", \"Shape Reported\": \"Shape_Reported\"},\n",
				"    inplace=True,\n", ")\n", "ufo.columns\n"
			]
		},
		{
			"cell_type": "code",
			"execution_count": 19,
			"metadata": {
				"collapsed": false,
				"jupyter": {
					"outputs_hidden": false
				}
			},
			"outputs": [
				{
					"data": {
						"text/plain": [
							"Index(['city', 'colors reported', 'shape reported', 'state', 'time'], dtype='object')"
						]
					},
					"execution_count": 19,
					"metadata": {},
					"output_type": "execute_result"
				}
			],
			"source": [
				"# replace all of the column names by overwriting the 'columns' attribute\n",
				"ufo_cols = [\"city\", \"colors reported\", \"shape reported\", \"state\", \"time\"]\n",
				"ufo.columns = ufo_cols\n", "ufo.columns\n"
			]
		},
		{
			"cell_type": "code",
			"execution_count": 20,
			"metadata": {
				"collapsed": false,
				"jupyter": {
					"outputs_hidden": false
				}
			},
			"outputs": [
				{
					"data": {
						"text/plain": [
							"Index(['city', 'colors reported', 'shape reported', 'state', 'time'], dtype='object')"
						]
					},
					"execution_count": 20,
					"metadata": {},
					"output_type": "execute_result"
				}
			],
			"source": [
				"# replace the column names during the file reading process by using the 'names' parameter\n",
				"ufo = pd.read_csv(\"data/ufo.csv\", header=0, names=ufo_cols)\n",
				"ufo.columns\n"
			]
		},
		{
			"cell_type": "code",
			"execution_count": 21,
			"metadata": {
				"collapsed": false,
				"jupyter": {
					"outputs_hidden": false
				}
			},
			"outputs": [
				{
					"data": {
						"text/plain": [
							"Index(['city', 'colors_reported', 'shape_reported', 'state', 'time'], dtype='object')"
						]
					},
					"execution_count": 21,
					"metadata": {},
					"output_type": "execute_result"
				}
			],
			"source": [
				"# replace all spaces with underscores in the column names by using the 'str.replace' method\n",
				"ufo.columns = ufo.columns.str.replace(\" \", \"_\")\n", "ufo.columns\n"
			]
		},
		{
			"cell_type": "markdown",
			"metadata": {},
			"source": ["### Remove columns\n"]
		},
		{
			"cell_type": "code",
			"execution_count": 22,
			"metadata": {
				"collapsed": false,
				"jupyter": {
					"outputs_hidden": false
				}
			},
			"outputs": [
				{
					"data": {
						"text/html": [
							"<div>\n", "<style scoped>\n",
							"    .dataframe tbody tr th:only-of-type {\n",
							"        vertical-align: middle;\n", "    }\n", "\n",
							"    .dataframe tbody tr th {\n",
							"        vertical-align: top;\n", "    }\n", "\n",
							"    .dataframe thead th {\n", "        text-align: right;\n",
							"    }\n", "</style>\n",
							"<table border=\"1\" class=\"dataframe\">\n", "  <thead>\n",
							"    <tr style=\"text-align: right;\">\n", "      <th></th>\n",
							"      <th>City</th>\n", "      <th>Colors Reported</th>\n",
							"      <th>Shape Reported</th>\n", "      <th>State</th>\n",
							"      <th>Time</th>\n", "    </tr>\n", "  </thead>\n",
							"  <tbody>\n", "    <tr>\n", "      <th>0</th>\n",
							"      <td>Ithaca</td>\n", "      <td>NaN</td>\n",
							"      <td>TRIANGLE</td>\n", "      <td>NY</td>\n",
							"      <td>6/1/1930 22:00</td>\n", "    </tr>\n", "    <tr>\n",
							"      <th>1</th>\n", "      <td>Willingboro</td>\n",
							"      <td>NaN</td>\n", "      <td>OTHER</td>\n",
							"      <td>NJ</td>\n", "      <td>6/30/1930 20:00</td>\n",
							"    </tr>\n", "    <tr>\n", "      <th>2</th>\n",
							"      <td>Holyoke</td>\n", "      <td>NaN</td>\n",
							"      <td>OVAL</td>\n", "      <td>CO</td>\n",
							"      <td>2/15/1931 14:00</td>\n", "    </tr>\n", "    <tr>\n",
							"      <th>3</th>\n", "      <td>Abilene</td>\n",
							"      <td>NaN</td>\n", "      <td>DISK</td>\n",
							"      <td>KS</td>\n", "      <td>6/1/1931 13:00</td>\n",
							"    </tr>\n", "    <tr>\n", "      <th>4</th>\n",
							"      <td>New York Worlds Fair</td>\n", "      <td>NaN</td>\n",
							"      <td>LIGHT</td>\n", "      <td>NY</td>\n",
							"      <td>4/18/1933 19:00</td>\n", "    </tr>\n", "  </tbody>\n",
							"</table>\n", "</div>"
						],
						"text/plain": [
							"                   City Colors Reported Shape Reported State             Time\n",
							"0                Ithaca             NaN       TRIANGLE    NY   6/1/1930 22:00\n",
							"1           Willingboro             NaN          OTHER    NJ  6/30/1930 20:00\n",
							"2               Holyoke             NaN           OVAL    CO  2/15/1931 14:00\n",
							"3               Abilene             NaN           DISK    KS   6/1/1931 13:00\n",
							"4  New York Worlds Fair             NaN          LIGHT    NY  4/18/1933 19:00"
						]
					},
					"execution_count": 22,
					"metadata": {},
					"output_type": "execute_result"
				}
			],
			"source": ["ufo = pd.read_csv(\"data/ufo.csv\")\n", "ufo.head()\n"]
		},
		{
			"cell_type": "code",
			"execution_count": 23,
			"metadata": {
				"collapsed": false,
				"jupyter": {
					"outputs_hidden": false
				}
			},
			"outputs": [
				{
					"data": {
						"text/html": [
							"<div>\n", "<style scoped>\n",
							"    .dataframe tbody tr th:only-of-type {\n",
							"        vertical-align: middle;\n", "    }\n", "\n",
							"    .dataframe tbody tr th {\n",
							"        vertical-align: top;\n", "    }\n", "\n",
							"    .dataframe thead th {\n", "        text-align: right;\n",
							"    }\n", "</style>\n",
							"<table border=\"1\" class=\"dataframe\">\n", "  <thead>\n",
							"    <tr style=\"text-align: right;\">\n", "      <th></th>\n",
							"      <th>City</th>\n", "      <th>Shape Reported</th>\n",
							"      <th>State</th>\n", "      <th>Time</th>\n", "    </tr>\n",
							"  </thead>\n", "  <tbody>\n", "    <tr>\n", "      <th>0</th>\n",
							"      <td>Ithaca</td>\n", "      <td>TRIANGLE</td>\n",
							"      <td>NY</td>\n", "      <td>6/1/1930 22:00</td>\n",
							"    </tr>\n", "    <tr>\n", "      <th>1</th>\n",
							"      <td>Willingboro</td>\n", "      <td>OTHER</td>\n",
							"      <td>NJ</td>\n", "      <td>6/30/1930 20:00</td>\n",
							"    </tr>\n", "    <tr>\n", "      <th>2</th>\n",
							"      <td>Holyoke</td>\n", "      <td>OVAL</td>\n",
							"      <td>CO</td>\n", "      <td>2/15/1931 14:00</td>\n",
							"    </tr>\n", "    <tr>\n", "      <th>3</th>\n",
							"      <td>Abilene</td>\n", "      <td>DISK</td>\n",
							"      <td>KS</td>\n", "      <td>6/1/1931 13:00</td>\n",
							"    </tr>\n", "    <tr>\n", "      <th>4</th>\n",
							"      <td>New York Worlds Fair</td>\n", "      <td>LIGHT</td>\n",
							"      <td>NY</td>\n", "      <td>4/18/1933 19:00</td>\n",
							"    </tr>\n", "  </tbody>\n", "</table>\n", "</div>"
						],
						"text/plain": [
							"                   City Shape Reported State             Time\n",
							"0                Ithaca       TRIANGLE    NY   6/1/1930 22:00\n",
							"1           Willingboro          OTHER    NJ  6/30/1930 20:00\n",
							"2               Holyoke           OVAL    CO  2/15/1931 14:00\n",
							"3               Abilene           DISK    KS   6/1/1931 13:00\n",
							"4  New York Worlds Fair          LIGHT    NY  4/18/1933 19:00"
						]
					},
					"execution_count": 23,
					"metadata": {},
					"output_type": "execute_result"
				}
			],
			"source": [
				"# remove a single column (axis=1 refers to columns)\n",
				"ufo.drop(\"Colors Reported\", axis=1, inplace=True)\n", "ufo.head()\n"
			]
		},
		{
			"cell_type": "code",
			"execution_count": 24,
			"metadata": {
				"collapsed": false,
				"jupyter": {
					"outputs_hidden": false
				}
			},
			"outputs": [
				{
					"data": {
						"text/html": [
							"<div>\n", "<style scoped>\n",
							"    .dataframe tbody tr th:only-of-type {\n",
							"        vertical-align: middle;\n", "    }\n", "\n",
							"    .dataframe tbody tr th {\n",
							"        vertical-align: top;\n", "    }\n", "\n",
							"    .dataframe thead th {\n", "        text-align: right;\n",
							"    }\n", "</style>\n",
							"<table border=\"1\" class=\"dataframe\">\n", "  <thead>\n",
							"    <tr style=\"text-align: right;\">\n", "      <th></th>\n",
							"      <th>Shape Reported</th>\n", "      <th>Time</th>\n",
							"    </tr>\n", "  </thead>\n", "  <tbody>\n", "    <tr>\n",
							"      <th>0</th>\n", "      <td>TRIANGLE</td>\n",
							"      <td>6/1/1930 22:00</td>\n", "    </tr>\n", "    <tr>\n",
							"      <th>1</th>\n", "      <td>OTHER</td>\n",
							"      <td>6/30/1930 20:00</td>\n", "    </tr>\n", "    <tr>\n",
							"      <th>2</th>\n", "      <td>OVAL</td>\n",
							"      <td>2/15/1931 14:00</td>\n", "    </tr>\n", "    <tr>\n",
							"      <th>3</th>\n", "      <td>DISK</td>\n",
							"      <td>6/1/1931 13:00</td>\n", "    </tr>\n", "    <tr>\n",
							"      <th>4</th>\n", "      <td>LIGHT</td>\n",
							"      <td>4/18/1933 19:00</td>\n", "    </tr>\n", "  </tbody>\n",
							"</table>\n", "</div>"
						],
						"text/plain": [
							"  Shape Reported             Time\n",
							"0       TRIANGLE   6/1/1930 22:00\n",
							"1          OTHER  6/30/1930 20:00\n",
							"2           OVAL  2/15/1931 14:00\n",
							"3           DISK   6/1/1931 13:00\n",
							"4          LIGHT  4/18/1933 19:00"
						]
					},
					"execution_count": 24,
					"metadata": {},
					"output_type": "execute_result"
				}
			],
			"source": [
				"# remove multiple columns at once\n",
				"ufo.drop(columns=[\"City\", \"State\"]).head()\n"
			]
		},
		{
			"cell_type": "markdown",
			"metadata": {},
			"source": ["### Remove rows\n"]
		},
		{
			"cell_type": "code",
			"execution_count": 25,
			"metadata": {},
			"outputs": [
				{
					"data": {
						"text/html": [
							"<div>\n", "<style scoped>\n",
							"    .dataframe tbody tr th:only-of-type {\n",
							"        vertical-align: middle;\n", "    }\n", "\n",
							"    .dataframe tbody tr th {\n",
							"        vertical-align: top;\n", "    }\n", "\n",
							"    .dataframe thead th {\n", "        text-align: right;\n",
							"    }\n", "</style>\n",
							"<table border=\"1\" class=\"dataframe\">\n", "  <thead>\n",
							"    <tr style=\"text-align: right;\">\n", "      <th></th>\n",
							"      <th>City</th>\n", "      <th>Shape Reported</th>\n",
							"      <th>State</th>\n", "      <th>Time</th>\n", "    </tr>\n",
							"  </thead>\n", "  <tbody>\n", "    <tr>\n", "      <th>2</th>\n",
							"      <td>Holyoke</td>\n", "      <td>OVAL</td>\n",
							"      <td>CO</td>\n", "      <td>2/15/1931 14:00</td>\n",
							"    </tr>\n", "    <tr>\n", "      <th>3</th>\n",
							"      <td>Abilene</td>\n", "      <td>DISK</td>\n",
							"      <td>KS</td>\n", "      <td>6/1/1931 13:00</td>\n",
							"    </tr>\n", "    <tr>\n", "      <th>4</th>\n",
							"      <td>New York Worlds Fair</td>\n", "      <td>LIGHT</td>\n",
							"      <td>NY</td>\n", "      <td>4/18/1933 19:00</td>\n",
							"    </tr>\n", "    <tr>\n", "      <th>5</th>\n",
							"      <td>Valley City</td>\n", "      <td>DISK</td>\n",
							"      <td>ND</td>\n", "      <td>9/15/1934 15:30</td>\n",
							"    </tr>\n", "    <tr>\n", "      <th>6</th>\n",
							"      <td>Crater Lake</td>\n", "      <td>CIRCLE</td>\n",
							"      <td>CA</td>\n", "      <td>6/15/1935 0:00</td>\n",
							"    </tr>\n", "  </tbody>\n", "</table>\n", "</div>"
						],
						"text/plain": [
							"                   City Shape Reported State             Time\n",
							"2               Holyoke           OVAL    CO  2/15/1931 14:00\n",
							"3               Abilene           DISK    KS   6/1/1931 13:00\n",
							"4  New York Worlds Fair          LIGHT    NY  4/18/1933 19:00\n",
							"5           Valley City           DISK    ND  9/15/1934 15:30\n",
							"6           Crater Lake         CIRCLE    CA   6/15/1935 0:00"
						]
					},
					"execution_count": 25,
					"metadata": {},
					"output_type": "execute_result"
				}
			],
			"source": [
				"# new way to drop rows: specify index\n",
				"ufo.drop(index=[0, 1]).head()\n"
			]
		},
		{
			"cell_type": "markdown",
			"metadata": {},
			"source": ["## Select\n"]
		},
		{
			"cell_type": "markdown",
			"metadata": {},
			"source": ["### Iterate\n"]
		},
		{
			"cell_type": "code",
			"execution_count": 26,
			"metadata": {},
			"outputs": [
				{
					"data": {
						"text/html": [
							"<div>\n", "<style scoped>\n",
							"    .dataframe tbody tr th:only-of-type {\n",
							"        vertical-align: middle;\n", "    }\n", "\n",
							"    .dataframe tbody tr th {\n",
							"        vertical-align: top;\n", "    }\n", "\n",
							"    .dataframe thead th {\n", "        text-align: right;\n",
							"    }\n", "</style>\n",
							"<table border=\"1\" class=\"dataframe\">\n", "  <thead>\n",
							"    <tr style=\"text-align: right;\">\n", "      <th></th>\n",
							"      <th>City</th>\n", "      <th>Colors Reported</th>\n",
							"      <th>Shape Reported</th>\n", "      <th>State</th>\n",
							"      <th>Time</th>\n", "    </tr>\n", "  </thead>\n",
							"  <tbody>\n", "    <tr>\n", "      <th>0</th>\n",
							"      <td>Ithaca</td>\n", "      <td>NaN</td>\n",
							"      <td>TRIANGLE</td>\n", "      <td>NY</td>\n",
							"      <td>6/1/1930 22:00</td>\n", "    </tr>\n", "    <tr>\n",
							"      <th>1</th>\n", "      <td>Willingboro</td>\n",
							"      <td>NaN</td>\n", "      <td>OTHER</td>\n",
							"      <td>NJ</td>\n", "      <td>6/30/1930 20:00</td>\n",
							"    </tr>\n", "    <tr>\n", "      <th>2</th>\n",
							"      <td>Holyoke</td>\n", "      <td>NaN</td>\n",
							"      <td>OVAL</td>\n", "      <td>CO</td>\n",
							"      <td>2/15/1931 14:00</td>\n", "    </tr>\n", "    <tr>\n",
							"      <th>3</th>\n", "      <td>Abilene</td>\n",
							"      <td>NaN</td>\n", "      <td>DISK</td>\n",
							"      <td>KS</td>\n", "      <td>6/1/1931 13:00</td>\n",
							"    </tr>\n", "    <tr>\n", "      <th>4</th>\n",
							"      <td>New York Worlds Fair</td>\n", "      <td>NaN</td>\n",
							"      <td>LIGHT</td>\n", "      <td>NY</td>\n",
							"      <td>4/18/1933 19:00</td>\n", "    </tr>\n", "  </tbody>\n",
							"</table>\n", "</div>"
						],
						"text/plain": [
							"                   City Colors Reported Shape Reported State             Time\n",
							"0                Ithaca             NaN       TRIANGLE    NY   6/1/1930 22:00\n",
							"1           Willingboro             NaN          OTHER    NJ  6/30/1930 20:00\n",
							"2               Holyoke             NaN           OVAL    CO  2/15/1931 14:00\n",
							"3               Abilene             NaN           DISK    KS   6/1/1931 13:00\n",
							"4  New York Worlds Fair             NaN          LIGHT    NY  4/18/1933 19:00"
						]
					},
					"execution_count": 26,
					"metadata": {},
					"output_type": "execute_result"
				}
			],
			"source": ["ufo = pd.read_csv(\"data/ufo.csv\")\n", "ufo.head()\n"]
		},
		{
			"cell_type": "code",
			"execution_count": 27,
			"metadata": {
				"collapsed": false,
				"jupyter": {
					"outputs_hidden": false
				}
			},
			"outputs": [
				{
					"name": "stdout",
					"output_type": "stream",
					"text": [
						"0 Ithaca NY\n", "1 Willingboro NJ\n", "2 Holyoke CO\n",
						"3 Abilene KS\n", "4 New York Worlds Fair NY\n",
						"5 Valley City ND\n", "6 Crater Lake CA\n", "7 Alma MI\n",
						"8 Eklutna AK\n", "9 Hubbard OR\n"
					]
				}
			],
			"source": [
				"# various methods are available to iterate through a DataFrame\n",
				"for index, row in ufo[:10].iterrows():\n",
				"    print(index, row.City, row.State)\n"
			]
		},
		{
			"cell_type": "markdown",
			"metadata": {},
			"source": ["### Index\n"]
		},
		{
			"cell_type": "code",
			"execution_count": 28,
			"metadata": {
				"collapsed": false,
				"jupyter": {
					"outputs_hidden": false
				}
			},
			"outputs": [
				{
					"data": {
						"text/html": [
							"<div>\n", "<style scoped>\n",
							"    .dataframe tbody tr th:only-of-type {\n",
							"        vertical-align: middle;\n", "    }\n", "\n",
							"    .dataframe tbody tr th {\n",
							"        vertical-align: top;\n", "    }\n", "\n",
							"    .dataframe thead th {\n", "        text-align: right;\n",
							"    }\n", "</style>\n",
							"<table border=\"1\" class=\"dataframe\">\n", "  <thead>\n",
							"    <tr style=\"text-align: right;\">\n", "      <th></th>\n",
							"      <th>0</th>\n", "      <th>1</th>\n", "      <th>2</th>\n",
							"      <th>3</th>\n", "      <th>4</th>\n", "      <th>5</th>\n",
							"    </tr>\n", "  </thead>\n", "  <tbody>\n", "    <tr>\n",
							"      <th>0</th>\n", "      <td>country</td>\n",
							"      <td>beer_servings</td>\n",
							"      <td>spirit_servings</td>\n",
							"      <td>wine_servings</td>\n",
							"      <td>total_litres_of_pure_alcohol</td>\n",
							"      <td>continent</td>\n", "    </tr>\n", "    <tr>\n",
							"      <th>1</th>\n", "      <td>Afghanistan</td>\n",
							"      <td>0</td>\n", "      <td>0</td>\n", "      <td>0</td>\n",
							"      <td>0.0</td>\n", "      <td>Asia</td>\n", "    </tr>\n",
							"    <tr>\n", "      <th>2</th>\n", "      <td>Albania</td>\n",
							"      <td>89</td>\n", "      <td>132</td>\n",
							"      <td>54</td>\n", "      <td>4.9</td>\n",
							"      <td>Europe</td>\n", "    </tr>\n", "    <tr>\n",
							"      <th>3</th>\n", "      <td>Algeria</td>\n",
							"      <td>25</td>\n", "      <td>0</td>\n",
							"      <td>14</td>\n", "      <td>0.7</td>\n",
							"      <td>Africa</td>\n", "    </tr>\n", "    <tr>\n",
							"      <th>4</th>\n", "      <td>Andorra</td>\n",
							"      <td>245</td>\n", "      <td>138</td>\n",
							"      <td>312</td>\n", "      <td>12.4</td>\n",
							"      <td>Europe</td>\n", "    </tr>\n", "  </tbody>\n",
							"</table>\n", "</div>"
						],
						"text/plain": [
							"             0              1                2              3  \\\n",
							"0      country  beer_servings  spirit_servings  wine_servings   \n",
							"1  Afghanistan              0                0              0   \n",
							"2      Albania             89              132             54   \n",
							"3      Algeria             25                0             14   \n",
							"4      Andorra            245              138            312   \n",
							"\n", "                              4          5  \n",
							"0  total_litres_of_pure_alcohol  continent  \n",
							"1                           0.0       Asia  \n",
							"2                           4.9     Europe  \n",
							"3                           0.7     Africa  \n",
							"4                          12.4     Europe  "
						]
					},
					"execution_count": 28,
					"metadata": {},
					"output_type": "execute_result"
				}
			],
			"source": [
				"# index and columns both default to integers if you don't define them\n",
				"pd.read_csv(\"data/drinks.csv\", header=None).head()\n"
			]
		},
		{
			"cell_type": "code",
			"execution_count": 29,
			"metadata": {
				"collapsed": false,
				"jupyter": {
					"outputs_hidden": false
				}
			},
			"outputs": [
				{
					"data": {
						"text/html": [
							"<div>\n", "<style scoped>\n",
							"    .dataframe tbody tr th:only-of-type {\n",
							"        vertical-align: middle;\n", "    }\n", "\n",
							"    .dataframe tbody tr th {\n",
							"        vertical-align: top;\n", "    }\n", "\n",
							"    .dataframe thead th {\n", "        text-align: right;\n",
							"    }\n", "</style>\n",
							"<table border=\"1\" class=\"dataframe\">\n", "  <thead>\n",
							"    <tr style=\"text-align: right;\">\n", "      <th></th>\n",
							"      <th>country</th>\n", "      <th>beer_servings</th>\n",
							"      <th>spirit_servings</th>\n",
							"      <th>wine_servings</th>\n",
							"      <th>total_litres_of_pure_alcohol</th>\n",
							"      <th>continent</th>\n", "    </tr>\n", "  </thead>\n",
							"  <tbody>\n", "    <tr>\n", "      <th>0</th>\n",
							"      <td>Afghanistan</td>\n", "      <td>0</td>\n",
							"      <td>0</td>\n", "      <td>0</td>\n",
							"      <td>0.0</td>\n", "      <td>Asia</td>\n", "    </tr>\n",
							"    <tr>\n", "      <th>1</th>\n", "      <td>Albania</td>\n",
							"      <td>89</td>\n", "      <td>132</td>\n",
							"      <td>54</td>\n", "      <td>4.9</td>\n",
							"      <td>Europe</td>\n", "    </tr>\n", "    <tr>\n",
							"      <th>2</th>\n", "      <td>Algeria</td>\n",
							"      <td>25</td>\n", "      <td>0</td>\n",
							"      <td>14</td>\n", "      <td>0.7</td>\n",
							"      <td>Africa</td>\n", "    </tr>\n", "    <tr>\n",
							"      <th>3</th>\n", "      <td>Andorra</td>\n",
							"      <td>245</td>\n", "      <td>138</td>\n",
							"      <td>312</td>\n", "      <td>12.4</td>\n",
							"      <td>Europe</td>\n", "    </tr>\n", "    <tr>\n",
							"      <th>4</th>\n", "      <td>Angola</td>\n",
							"      <td>217</td>\n", "      <td>57</td>\n",
							"      <td>45</td>\n", "      <td>5.9</td>\n",
							"      <td>Africa</td>\n", "    </tr>\n", "  </tbody>\n",
							"</table>\n", "</div>"
						],
						"text/plain": [
							"       country  beer_servings  spirit_servings  wine_servings  \\\n",
							"0  Afghanistan              0                0              0   \n",
							"1      Albania             89              132             54   \n",
							"2      Algeria             25                0             14   \n",
							"3      Andorra            245              138            312   \n",
							"4       Angola            217               57             45   \n",
							"\n", "   total_litres_of_pure_alcohol continent  \n",
							"0                           0.0      Asia  \n",
							"1                           4.9    Europe  \n",
							"2                           0.7    Africa  \n",
							"3                          12.4    Europe  \n",
							"4                           5.9    Africa  "
						]
					},
					"execution_count": 29,
					"metadata": {},
					"output_type": "execute_result"
				}
			],
			"source": [
				"drinks = pd.read_csv(\"data/drinks.csv\")\n", "drinks.head()\n"
			]
		},
		{
			"cell_type": "code",
			"execution_count": 30,
			"metadata": {
				"collapsed": false,
				"jupyter": {
					"outputs_hidden": false
				}
			},
			"outputs": [
				{
					"data": {
						"text/plain": ["RangeIndex(start=0, stop=193, step=1)"]
					},
					"execution_count": 30,
					"metadata": {},
					"output_type": "execute_result"
				}
			],
			"source": [
				"# every DataFrame has an index (sometimes called the \"row labels\")\n",
				"drinks.index\n"
			]
		},
		{
			"cell_type": "code",
			"execution_count": 31,
			"metadata": {
				"collapsed": false,
				"jupyter": {
					"outputs_hidden": false
				}
			},
			"outputs": [
				{
					"data": {
						"text/plain": [
							"Index(['Afghanistan', 'Albania', 'Algeria', 'Andorra', 'Angola',\n",
							"       'Antigua & Barbuda', 'Argentina', 'Armenia', 'Australia', 'Austria',\n",
							"       ...\n",
							"       'Tanzania', 'USA', 'Uruguay', 'Uzbekistan', 'Vanuatu', 'Venezuela',\n",
							"       'Vietnam', 'Yemen', 'Zambia', 'Zimbabwe'],\n",
							"      dtype='object', name='country', length=193)"
						]
					},
					"execution_count": 31,
					"metadata": {},
					"output_type": "execute_result"
				}
			],
			"source": [
				"# set an existing column as the index\n",
				"drinks.set_index(\"country\", inplace=True)\n", "drinks.head()\n",
				"# 'country' is now the index\n", "drinks.index\n"
			]
		},
		{
			"cell_type": "code",
			"execution_count": 32,
			"metadata": {
				"collapsed": false,
				"jupyter": {
					"outputs_hidden": false
				}
			},
			"outputs": [
				{
					"data": {
						"text/html": [
							"<div>\n", "<style scoped>\n",
							"    .dataframe tbody tr th:only-of-type {\n",
							"        vertical-align: middle;\n", "    }\n", "\n",
							"    .dataframe tbody tr th {\n",
							"        vertical-align: top;\n", "    }\n", "\n",
							"    .dataframe thead th {\n", "        text-align: right;\n",
							"    }\n", "</style>\n",
							"<table border=\"1\" class=\"dataframe\">\n", "  <thead>\n",
							"    <tr style=\"text-align: right;\">\n", "      <th></th>\n",
							"      <th>country</th>\n", "      <th>beer_servings</th>\n",
							"      <th>spirit_servings</th>\n",
							"      <th>wine_servings</th>\n",
							"      <th>total_litres_of_pure_alcohol</th>\n",
							"      <th>continent</th>\n", "    </tr>\n", "  </thead>\n",
							"  <tbody>\n", "    <tr>\n", "      <th>0</th>\n",
							"      <td>Afghanistan</td>\n", "      <td>0</td>\n",
							"      <td>0</td>\n", "      <td>0</td>\n",
							"      <td>0.0</td>\n", "      <td>Asia</td>\n", "    </tr>\n",
							"    <tr>\n", "      <th>1</th>\n", "      <td>Albania</td>\n",
							"      <td>89</td>\n", "      <td>132</td>\n",
							"      <td>54</td>\n", "      <td>4.9</td>\n",
							"      <td>Europe</td>\n", "    </tr>\n", "    <tr>\n",
							"      <th>2</th>\n", "      <td>Algeria</td>\n",
							"      <td>25</td>\n", "      <td>0</td>\n",
							"      <td>14</td>\n", "      <td>0.7</td>\n",
							"      <td>Africa</td>\n", "    </tr>\n", "    <tr>\n",
							"      <th>3</th>\n", "      <td>Andorra</td>\n",
							"      <td>245</td>\n", "      <td>138</td>\n",
							"      <td>312</td>\n", "      <td>12.4</td>\n",
							"      <td>Europe</td>\n", "    </tr>\n", "    <tr>\n",
							"      <th>4</th>\n", "      <td>Angola</td>\n",
							"      <td>217</td>\n", "      <td>57</td>\n",
							"      <td>45</td>\n", "      <td>5.9</td>\n",
							"      <td>Africa</td>\n", "    </tr>\n", "  </tbody>\n",
							"</table>\n", "</div>"
						],
						"text/plain": [
							"       country  beer_servings  spirit_servings  wine_servings  \\\n",
							"0  Afghanistan              0                0              0   \n",
							"1      Albania             89              132             54   \n",
							"2      Algeria             25                0             14   \n",
							"3      Andorra            245              138            312   \n",
							"4       Angola            217               57             45   \n",
							"\n", "   total_litres_of_pure_alcohol continent  \n",
							"0                           0.0      Asia  \n",
							"1                           4.9    Europe  \n",
							"2                           0.7    Africa  \n",
							"3                          12.4    Europe  \n",
							"4                           5.9    Africa  "
						]
					},
					"execution_count": 32,
					"metadata": {},
					"output_type": "execute_result"
				}
			],
			"source": [
				"# restore the index name, and move the index back to a column\n",
				"drinks.index.name = \"country\"\n",
				"drinks.reset_index(inplace=True)\n", "drinks.head()\n"
			]
		},
		{
			"cell_type": "markdown",
			"metadata": {},
			"source": ["### Select a column\n"]
		},
		{
			"cell_type": "code",
			"execution_count": 33,
			"metadata": {
				"collapsed": false,
				"jupyter": {
					"outputs_hidden": false
				}
			},
			"outputs": [
				{
					"data": {
						"text/html": [
							"<div>\n", "<style scoped>\n",
							"    .dataframe tbody tr th:only-of-type {\n",
							"        vertical-align: middle;\n", "    }\n", "\n",
							"    .dataframe tbody tr th {\n",
							"        vertical-align: top;\n", "    }\n", "\n",
							"    .dataframe thead th {\n", "        text-align: right;\n",
							"    }\n", "</style>\n",
							"<table border=\"1\" class=\"dataframe\">\n", "  <thead>\n",
							"    <tr style=\"text-align: right;\">\n", "      <th></th>\n",
							"      <th>country</th>\n", "      <th>beer_servings</th>\n",
							"      <th>spirit_servings</th>\n",
							"      <th>wine_servings</th>\n",
							"      <th>total_litres_of_pure_alcohol</th>\n",
							"      <th>continent</th>\n", "    </tr>\n", "  </thead>\n",
							"  <tbody>\n", "    <tr>\n", "      <th>0</th>\n",
							"      <td>Afghanistan</td>\n", "      <td>0</td>\n",
							"      <td>0</td>\n", "      <td>0</td>\n",
							"      <td>0.0</td>\n", "      <td>Asia</td>\n", "    </tr>\n",
							"    <tr>\n", "      <th>1</th>\n", "      <td>Albania</td>\n",
							"      <td>89</td>\n", "      <td>132</td>\n",
							"      <td>54</td>\n", "      <td>4.9</td>\n",
							"      <td>Europe</td>\n", "    </tr>\n", "    <tr>\n",
							"      <th>2</th>\n", "      <td>Algeria</td>\n",
							"      <td>25</td>\n", "      <td>0</td>\n",
							"      <td>14</td>\n", "      <td>0.7</td>\n",
							"      <td>Africa</td>\n", "    </tr>\n", "    <tr>\n",
							"      <th>3</th>\n", "      <td>Andorra</td>\n",
							"      <td>245</td>\n", "      <td>138</td>\n",
							"      <td>312</td>\n", "      <td>12.4</td>\n",
							"      <td>Europe</td>\n", "    </tr>\n", "    <tr>\n",
							"      <th>4</th>\n", "      <td>Angola</td>\n",
							"      <td>217</td>\n", "      <td>57</td>\n",
							"      <td>45</td>\n", "      <td>5.9</td>\n",
							"      <td>Africa</td>\n", "    </tr>\n", "  </tbody>\n",
							"</table>\n", "</div>"
						],
						"text/plain": [
							"       country  beer_servings  spirit_servings  wine_servings  \\\n",
							"0  Afghanistan              0                0              0   \n",
							"1      Albania             89              132             54   \n",
							"2      Algeria             25                0             14   \n",
							"3      Andorra            245              138            312   \n",
							"4       Angola            217               57             45   \n",
							"\n", "   total_litres_of_pure_alcohol continent  \n",
							"0                           0.0      Asia  \n",
							"1                           4.9    Europe  \n",
							"2                           0.7    Africa  \n",
							"3                          12.4    Europe  \n",
							"4                           5.9    Africa  "
						]
					},
					"execution_count": 33,
					"metadata": {},
					"output_type": "execute_result"
				}
			],
			"source": [
				"drinks = pd.read_csv(\"data/drinks.csv\")\n", "drinks.head()\n"
			]
		},
		{
			"cell_type": "code",
			"execution_count": 34,
			"metadata": {
				"collapsed": false,
				"jupyter": {
					"outputs_hidden": false
				}
			},
			"outputs": [
				{
					"data": {
						"text/plain": [
							"0      Afghanistan\n", "1          Albania\n",
							"2          Algeria\n", "3          Andorra\n",
							"4           Angola\n", "          ...     \n",
							"188      Venezuela\n", "189        Vietnam\n",
							"190          Yemen\n", "191         Zambia\n",
							"192       Zimbabwe\n",
							"Name: country, Length: 193, dtype: object"
						]
					},
					"execution_count": 34,
					"metadata": {},
					"output_type": "execute_result"
				}
			],
			"source": [
				"# select the 'City' Series using bracket notation\n",
				"drinks[\"country\"]\n", "# or equivalently, use dot notation\n",
				"drinks.country\n"
			]
		},
		{
			"cell_type": "code",
			"execution_count": 35,
			"metadata": {},
			"outputs": [
				{
					"data": {
						"text/plain": [
							"0        0\n", "1       54\n", "2       14\n", "3      312\n",
							"4       45\n", "      ... \n", "188      3\n", "189      1\n",
							"190      0\n", "191      4\n", "192      4\n",
							"Name: wine_servings, Length: 193, dtype: int64"
						]
					},
					"execution_count": 35,
					"metadata": {},
					"output_type": "execute_result"
				}
			],
			"source": ["drink = \"wine\"\n", "drinks[f\"{drink}_servings\"]\n"]
		},
		{
			"cell_type": "markdown",
			"metadata": {},
			"source": ["### Select numeric columns\n"]
		},
		{
			"cell_type": "code",
			"execution_count": 36,
			"metadata": {},
			"outputs": [
				{
					"data": {
						"text/plain": [
							"country                          object\n",
							"beer_servings                     int64\n",
							"spirit_servings                   int64\n",
							"wine_servings                     int64\n",
							"total_litres_of_pure_alcohol    float64\n",
							"continent                        object\n", "dtype: object"
						]
					},
					"execution_count": 36,
					"metadata": {},
					"output_type": "execute_result"
				}
			],
			"source": ["drinks.dtypes\n"]
		},
		{
			"cell_type": "code",
			"execution_count": 37,
			"metadata": {
				"collapsed": false,
				"jupyter": {
					"outputs_hidden": false
				}
			},
			"outputs": [
				{
					"data": {
						"text/plain": [
							"beer_servings                     int64\n",
							"spirit_servings                   int64\n",
							"wine_servings                     int64\n",
							"total_litres_of_pure_alcohol    float64\n", "dtype: object"
						]
					},
					"execution_count": 37,
					"metadata": {},
					"output_type": "execute_result"
				}
			],
			"source": [
				"import numpy as np\n", "\n",
				"drinks.select_dtypes(include=[np.number]).dtypes\n"
			]
		},
		{
			"cell_type": "code",
			"execution_count": 38,
			"metadata": {},
			"outputs": [
				{
					"data": {
						"text/html": [
							"<div>\n", "<style scoped>\n",
							"    .dataframe tbody tr th:only-of-type {\n",
							"        vertical-align: middle;\n", "    }\n", "\n",
							"    .dataframe tbody tr th {\n",
							"        vertical-align: top;\n", "    }\n", "\n",
							"    .dataframe thead th {\n", "        text-align: right;\n",
							"    }\n", "</style>\n",
							"<table border=\"1\" class=\"dataframe\">\n", "  <thead>\n",
							"    <tr style=\"text-align: right;\">\n", "      <th></th>\n",
							"      <th>beer_servings</th>\n",
							"      <th>spirit_servings</th>\n",
							"      <th>wine_servings</th>\n",
							"      <th>total_litres_of_pure_alcohol</th>\n", "    </tr>\n",
							"  </thead>\n", "  <tbody>\n", "    <tr>\n", "      <th>0</th>\n",
							"      <td>0</td>\n", "      <td>0</td>\n", "      <td>0</td>\n",
							"      <td>0.0</td>\n", "    </tr>\n", "    <tr>\n",
							"      <th>1</th>\n", "      <td>89</td>\n",
							"      <td>132</td>\n", "      <td>54</td>\n",
							"      <td>4.9</td>\n", "    </tr>\n", "    <tr>\n",
							"      <th>2</th>\n", "      <td>25</td>\n", "      <td>0</td>\n",
							"      <td>14</td>\n", "      <td>0.7</td>\n", "    </tr>\n",
							"    <tr>\n", "      <th>3</th>\n", "      <td>245</td>\n",
							"      <td>138</td>\n", "      <td>312</td>\n",
							"      <td>12.4</td>\n", "    </tr>\n", "    <tr>\n",
							"      <th>4</th>\n", "      <td>217</td>\n",
							"      <td>57</td>\n", "      <td>45</td>\n",
							"      <td>5.9</td>\n", "    </tr>\n", "    <tr>\n",
							"      <th>...</th>\n", "      <td>...</td>\n",
							"      <td>...</td>\n", "      <td>...</td>\n",
							"      <td>...</td>\n", "    </tr>\n", "    <tr>\n",
							"      <th>188</th>\n", "      <td>333</td>\n",
							"      <td>100</td>\n", "      <td>3</td>\n",
							"      <td>7.7</td>\n", "    </tr>\n", "    <tr>\n",
							"      <th>189</th>\n", "      <td>111</td>\n",
							"      <td>2</td>\n", "      <td>1</td>\n",
							"      <td>2.0</td>\n", "    </tr>\n", "    <tr>\n",
							"      <th>190</th>\n", "      <td>6</td>\n",
							"      <td>0</td>\n", "      <td>0</td>\n",
							"      <td>0.1</td>\n", "    </tr>\n", "    <tr>\n",
							"      <th>191</th>\n", "      <td>32</td>\n",
							"      <td>19</td>\n", "      <td>4</td>\n",
							"      <td>2.5</td>\n", "    </tr>\n", "    <tr>\n",
							"      <th>192</th>\n", "      <td>64</td>\n",
							"      <td>18</td>\n", "      <td>4</td>\n",
							"      <td>4.7</td>\n", "    </tr>\n", "  </tbody>\n",
							"</table>\n", "<p>193 rows × 4 columns</p>\n", "</div>"
						],
						"text/plain": [
							"     beer_servings  spirit_servings  wine_servings  \\\n",
							"0                0                0              0   \n",
							"1               89              132             54   \n",
							"2               25                0             14   \n",
							"3              245              138            312   \n",
							"4              217               57             45   \n",
							"..             ...              ...            ...   \n",
							"188            333              100              3   \n",
							"189            111                2              1   \n",
							"190              6                0              0   \n",
							"191             32               19              4   \n",
							"192             64               18              4   \n", "\n",
							"     total_litres_of_pure_alcohol  \n",
							"0                             0.0  \n",
							"1                             4.9  \n",
							"2                             0.7  \n",
							"3                            12.4  \n",
							"4                             5.9  \n",
							"..                            ...  \n",
							"188                           7.7  \n",
							"189                           2.0  \n",
							"190                           0.1  \n",
							"191                           2.5  \n",
							"192                           4.7  \n", "\n",
							"[193 rows x 4 columns]"
						]
					},
					"execution_count": 38,
					"metadata": {},
					"output_type": "execute_result"
				}
			],
			"source": [
				"drinks.select_dtypes(include=[np.number]).squeeze(\"columns\")\n"
			]
		},
		{
			"cell_type": "markdown",
			"metadata": {},
			"source": ["### Select rows and columns\n"]
		},
		{
			"cell_type": "code",
			"execution_count": 39,
			"metadata": {
				"collapsed": false,
				"jupyter": {
					"outputs_hidden": false
				}
			},
			"outputs": [
				{
					"data": {
						"text/plain": [
							"country                         Afghanistan\n",
							"beer_servings                             0\n",
							"spirit_servings                           0\n",
							"wine_servings                             0\n",
							"total_litres_of_pure_alcohol            0.0\n",
							"continent                              Asia\n",
							"Name: 0, dtype: object"
						]
					},
					"execution_count": 39,
					"metadata": {},
					"output_type": "execute_result"
				}
			],
			"source": ["# row 0, all columns\n", "drinks.loc[0, :]\n"]
		},
		{
			"cell_type": "code",
			"execution_count": 40,
			"metadata": {
				"collapsed": false,
				"jupyter": {
					"outputs_hidden": false
				}
			},
			"outputs": [
				{
					"data": {
						"text/html": [
							"<div>\n", "<style scoped>\n",
							"    .dataframe tbody tr th:only-of-type {\n",
							"        vertical-align: middle;\n", "    }\n", "\n",
							"    .dataframe tbody tr th {\n",
							"        vertical-align: top;\n", "    }\n", "\n",
							"    .dataframe thead th {\n", "        text-align: right;\n",
							"    }\n", "</style>\n",
							"<table border=\"1\" class=\"dataframe\">\n", "  <thead>\n",
							"    <tr style=\"text-align: right;\">\n", "      <th></th>\n",
							"      <th>country</th>\n", "      <th>beer_servings</th>\n",
							"      <th>spirit_servings</th>\n",
							"      <th>wine_servings</th>\n",
							"      <th>total_litres_of_pure_alcohol</th>\n",
							"      <th>continent</th>\n", "    </tr>\n", "  </thead>\n",
							"  <tbody>\n", "    <tr>\n", "      <th>0</th>\n",
							"      <td>Afghanistan</td>\n", "      <td>0</td>\n",
							"      <td>0</td>\n", "      <td>0</td>\n",
							"      <td>0.0</td>\n", "      <td>Asia</td>\n", "    </tr>\n",
							"    <tr>\n", "      <th>1</th>\n", "      <td>Albania</td>\n",
							"      <td>89</td>\n", "      <td>132</td>\n",
							"      <td>54</td>\n", "      <td>4.9</td>\n",
							"      <td>Europe</td>\n", "    </tr>\n", "    <tr>\n",
							"      <th>2</th>\n", "      <td>Algeria</td>\n",
							"      <td>25</td>\n", "      <td>0</td>\n",
							"      <td>14</td>\n", "      <td>0.7</td>\n",
							"      <td>Africa</td>\n", "    </tr>\n", "  </tbody>\n",
							"</table>\n", "</div>"
						],
						"text/plain": [
							"       country  beer_servings  spirit_servings  wine_servings  \\\n",
							"0  Afghanistan              0                0              0   \n",
							"1      Albania             89              132             54   \n",
							"2      Algeria             25                0             14   \n",
							"\n", "   total_litres_of_pure_alcohol continent  \n",
							"0                           0.0      Asia  \n",
							"1                           4.9    Europe  \n",
							"2                           0.7    Africa  "
						]
					},
					"execution_count": 40,
					"metadata": {},
					"output_type": "execute_result"
				}
			],
			"source": [
				"# rows 0 and 1 and 2, all columns\n", "drinks.loc[[0, 1, 2], :]\n"
			]
		},
		{
			"cell_type": "code",
			"execution_count": 41,
			"metadata": {
				"collapsed": false,
				"jupyter": {
					"outputs_hidden": false
				}
			},
			"outputs": [
				{
					"data": {
						"text/html": [
							"<div>\n", "<style scoped>\n",
							"    .dataframe tbody tr th:only-of-type {\n",
							"        vertical-align: middle;\n", "    }\n", "\n",
							"    .dataframe tbody tr th {\n",
							"        vertical-align: top;\n", "    }\n", "\n",
							"    .dataframe thead th {\n", "        text-align: right;\n",
							"    }\n", "</style>\n",
							"<table border=\"1\" class=\"dataframe\">\n", "  <thead>\n",
							"    <tr style=\"text-align: right;\">\n", "      <th></th>\n",
							"      <th>country</th>\n", "      <th>beer_servings</th>\n",
							"      <th>spirit_servings</th>\n",
							"      <th>wine_servings</th>\n",
							"      <th>total_litres_of_pure_alcohol</th>\n",
							"      <th>continent</th>\n", "    </tr>\n", "  </thead>\n",
							"  <tbody>\n", "    <tr>\n", "      <th>0</th>\n",
							"      <td>Afghanistan</td>\n", "      <td>0</td>\n",
							"      <td>0</td>\n", "      <td>0</td>\n",
							"      <td>0.0</td>\n", "      <td>Asia</td>\n", "    </tr>\n",
							"    <tr>\n", "      <th>1</th>\n", "      <td>Albania</td>\n",
							"      <td>89</td>\n", "      <td>132</td>\n",
							"      <td>54</td>\n", "      <td>4.9</td>\n",
							"      <td>Europe</td>\n", "    </tr>\n", "    <tr>\n",
							"      <th>2</th>\n", "      <td>Algeria</td>\n",
							"      <td>25</td>\n", "      <td>0</td>\n",
							"      <td>14</td>\n", "      <td>0.7</td>\n",
							"      <td>Africa</td>\n", "    </tr>\n", "  </tbody>\n",
							"</table>\n", "</div>"
						],
						"text/plain": [
							"       country  beer_servings  spirit_servings  wine_servings  \\\n",
							"0  Afghanistan              0                0              0   \n",
							"1      Albania             89              132             54   \n",
							"2      Algeria             25                0             14   \n",
							"\n", "   total_litres_of_pure_alcohol continent  \n",
							"0                           0.0      Asia  \n",
							"1                           4.9    Europe  \n",
							"2                           0.7    Africa  "
						]
					},
					"execution_count": 41,
					"metadata": {},
					"output_type": "execute_result"
				}
			],
			"source": [
				"# rows 0 through 2 (inclusive), all columns\n", "drinks.loc[0:2, :]\n"
			]
		},
		{
			"cell_type": "code",
			"execution_count": 42,
			"metadata": {
				"collapsed": false,
				"jupyter": {
					"outputs_hidden": false
				}
			},
			"outputs": [
				{
					"data": {
						"text/plain": [
							"0    Afghanistan\n", "1        Albania\n", "2        Algeria\n",
							"Name: country, dtype: object"
						]
					},
					"execution_count": 42,
					"metadata": {},
					"output_type": "execute_result"
				}
			],
			"source": [
				"# rows 0 through 2 (inclusive), column 'City'\n",
				"drinks.loc[0:2, \"country\"]\n"
			]
		},
		{
			"cell_type": "code",
			"execution_count": 43,
			"metadata": {
				"collapsed": false,
				"jupyter": {
					"outputs_hidden": false
				}
			},
			"outputs": [
				{
					"data": {
						"text/html": [
							"<div>\n", "<style scoped>\n",
							"    .dataframe tbody tr th:only-of-type {\n",
							"        vertical-align: middle;\n", "    }\n", "\n",
							"    .dataframe tbody tr th {\n",
							"        vertical-align: top;\n", "    }\n", "\n",
							"    .dataframe thead th {\n", "        text-align: right;\n",
							"    }\n", "</style>\n",
							"<table border=\"1\" class=\"dataframe\">\n", "  <thead>\n",
							"    <tr style=\"text-align: right;\">\n", "      <th></th>\n",
							"      <th>country</th>\n", "      <th>continent</th>\n",
							"    </tr>\n", "  </thead>\n", "  <tbody>\n", "    <tr>\n",
							"      <th>0</th>\n", "      <td>Afghanistan</td>\n",
							"      <td>Asia</td>\n", "    </tr>\n", "    <tr>\n",
							"      <th>1</th>\n", "      <td>Albania</td>\n",
							"      <td>Europe</td>\n", "    </tr>\n", "    <tr>\n",
							"      <th>2</th>\n", "      <td>Algeria</td>\n",
							"      <td>Africa</td>\n", "    </tr>\n", "  </tbody>\n",
							"</table>\n", "</div>"
						],
						"text/plain": [
							"       country continent\n", "0  Afghanistan      Asia\n",
							"1      Albania    Europe\n", "2      Algeria    Africa"
						]
					},
					"execution_count": 43,
					"metadata": {},
					"output_type": "execute_result"
				}
			],
			"source": [
				"# rows 0 through 2 (inclusive), columns 'City' and 'State'\n",
				"drinks.loc[0:2, [\"country\", \"continent\"]]\n"
			]
		},
		{
			"cell_type": "code",
			"execution_count": 44,
			"metadata": {
				"collapsed": false,
				"jupyter": {
					"outputs_hidden": false
				}
			},
			"outputs": [
				{
					"data": {
						"text/html": [
							"<div>\n", "<style scoped>\n",
							"    .dataframe tbody tr th:only-of-type {\n",
							"        vertical-align: middle;\n", "    }\n", "\n",
							"    .dataframe tbody tr th {\n",
							"        vertical-align: top;\n", "    }\n", "\n",
							"    .dataframe thead th {\n", "        text-align: right;\n",
							"    }\n", "</style>\n",
							"<table border=\"1\" class=\"dataframe\">\n", "  <thead>\n",
							"    <tr style=\"text-align: right;\">\n", "      <th></th>\n",
							"      <th>country</th>\n", "      <th>beer_servings</th>\n",
							"      <th>spirit_servings</th>\n",
							"      <th>wine_servings</th>\n",
							"      <th>total_litres_of_pure_alcohol</th>\n",
							"      <th>continent</th>\n", "    </tr>\n", "  </thead>\n",
							"  <tbody>\n", "    <tr>\n", "      <th>0</th>\n",
							"      <td>Afghanistan</td>\n", "      <td>0</td>\n",
							"      <td>0</td>\n", "      <td>0</td>\n",
							"      <td>0.0</td>\n", "      <td>Asia</td>\n", "    </tr>\n",
							"    <tr>\n", "      <th>1</th>\n", "      <td>Albania</td>\n",
							"      <td>89</td>\n", "      <td>132</td>\n",
							"      <td>54</td>\n", "      <td>4.9</td>\n",
							"      <td>Europe</td>\n", "    </tr>\n", "    <tr>\n",
							"      <th>2</th>\n", "      <td>Algeria</td>\n",
							"      <td>25</td>\n", "      <td>0</td>\n",
							"      <td>14</td>\n", "      <td>0.7</td>\n",
							"      <td>Africa</td>\n", "    </tr>\n", "  </tbody>\n",
							"</table>\n", "</div>"
						],
						"text/plain": [
							"       country  beer_servings  spirit_servings  wine_servings  \\\n",
							"0  Afghanistan              0                0              0   \n",
							"1      Albania             89              132             54   \n",
							"2      Algeria             25                0             14   \n",
							"\n", "   total_litres_of_pure_alcohol continent  \n",
							"0                           0.0      Asia  \n",
							"1                           4.9    Europe  \n",
							"2                           0.7    Africa  "
						]
					},
					"execution_count": 44,
					"metadata": {},
					"output_type": "execute_result"
				}
			],
			"source": [
				"# rows 0 through 2 (inclusive), columns 'City' through 'State' (inclusive)\n",
				"drinks.loc[0:2, \"country\":\"continent\"]\n"
			]
		},
		{
			"cell_type": "code",
			"execution_count": 45,
			"metadata": {
				"collapsed": false,
				"jupyter": {
					"outputs_hidden": false
				}
			},
			"outputs": [
				{
					"data": {
						"text/html": [
							"<div>\n", "<style scoped>\n",
							"    .dataframe tbody tr th:only-of-type {\n",
							"        vertical-align: middle;\n", "    }\n", "\n",
							"    .dataframe tbody tr th {\n",
							"        vertical-align: top;\n", "    }\n", "\n",
							"    .dataframe thead th {\n", "        text-align: right;\n",
							"    }\n", "</style>\n",
							"<table border=\"1\" class=\"dataframe\">\n", "  <thead>\n",
							"    <tr style=\"text-align: right;\">\n", "      <th></th>\n",
							"      <th>country</th>\n", "      <th>wine_servings</th>\n",
							"    </tr>\n", "  </thead>\n", "  <tbody>\n", "    <tr>\n",
							"      <th>0</th>\n", "      <td>Afghanistan</td>\n",
							"      <td>0</td>\n", "    </tr>\n", "    <tr>\n",
							"      <th>1</th>\n", "      <td>Albania</td>\n",
							"      <td>54</td>\n", "    </tr>\n", "  </tbody>\n",
							"</table>\n", "</div>"
						],
						"text/plain": [
							"       country  wine_servings\n",
							"0  Afghanistan              0\n", "1      Albania             54"
						]
					},
					"execution_count": 45,
					"metadata": {},
					"output_type": "execute_result"
				}
			],
			"source": [
				"# rows in positions 0 and 1, columns in positions 0 and 3\n",
				"drinks.iloc[[0, 1], [0, 3]]\n"
			]
		},
		{
			"cell_type": "code",
			"execution_count": 46,
			"metadata": {
				"collapsed": false,
				"jupyter": {
					"outputs_hidden": false
				}
			},
			"outputs": [
				{
					"data": {
						"text/html": [
							"<div>\n", "<style scoped>\n",
							"    .dataframe tbody tr th:only-of-type {\n",
							"        vertical-align: middle;\n", "    }\n", "\n",
							"    .dataframe tbody tr th {\n",
							"        vertical-align: top;\n", "    }\n", "\n",
							"    .dataframe thead th {\n", "        text-align: right;\n",
							"    }\n", "</style>\n",
							"<table border=\"1\" class=\"dataframe\">\n", "  <thead>\n",
							"    <tr style=\"text-align: right;\">\n", "      <th></th>\n",
							"      <th>country</th>\n", "      <th>beer_servings</th>\n",
							"      <th>spirit_servings</th>\n",
							"      <th>wine_servings</th>\n", "    </tr>\n", "  </thead>\n",
							"  <tbody>\n", "    <tr>\n", "      <th>0</th>\n",
							"      <td>Afghanistan</td>\n", "      <td>0</td>\n",
							"      <td>0</td>\n", "      <td>0</td>\n", "    </tr>\n",
							"    <tr>\n", "      <th>1</th>\n", "      <td>Albania</td>\n",
							"      <td>89</td>\n", "      <td>132</td>\n",
							"      <td>54</td>\n", "    </tr>\n", "  </tbody>\n",
							"</table>\n", "</div>"
						],
						"text/plain": [
							"       country  beer_servings  spirit_servings  wine_servings\n",
							"0  Afghanistan              0                0              0\n",
							"1      Albania             89              132             54"
						]
					},
					"execution_count": 46,
					"metadata": {},
					"output_type": "execute_result"
				}
			],
			"source": [
				"# rows in positions 0 through 2 (exclusive), columns in positions 0 through 4 (exclusive)\n",
				"drinks.iloc[0:2, 0:4]\n"
			]
		},
		{
			"cell_type": "code",
			"execution_count": 47,
			"metadata": {
				"collapsed": false,
				"jupyter": {
					"outputs_hidden": false
				},
				"scrolled": true
			},
			"outputs": [
				{
					"data": {
						"text/html": [
							"<div>\n", "<style scoped>\n",
							"    .dataframe tbody tr th:only-of-type {\n",
							"        vertical-align: middle;\n", "    }\n", "\n",
							"    .dataframe tbody tr th {\n",
							"        vertical-align: top;\n", "    }\n", "\n",
							"    .dataframe thead th {\n", "        text-align: right;\n",
							"    }\n", "</style>\n",
							"<table border=\"1\" class=\"dataframe\">\n", "  <thead>\n",
							"    <tr style=\"text-align: right;\">\n", "      <th></th>\n",
							"      <th>country</th>\n", "      <th>beer_servings</th>\n",
							"      <th>spirit_servings</th>\n",
							"      <th>wine_servings</th>\n",
							"      <th>total_litres_of_pure_alcohol</th>\n",
							"      <th>continent</th>\n", "    </tr>\n", "  </thead>\n",
							"  <tbody>\n", "    <tr>\n", "      <th>0</th>\n",
							"      <td>Afghanistan</td>\n", "      <td>0</td>\n",
							"      <td>0</td>\n", "      <td>0</td>\n",
							"      <td>0.0</td>\n", "      <td>Asia</td>\n", "    </tr>\n",
							"    <tr>\n", "      <th>1</th>\n", "      <td>Albania</td>\n",
							"      <td>89</td>\n", "      <td>132</td>\n",
							"      <td>54</td>\n", "      <td>4.9</td>\n",
							"      <td>Europe</td>\n", "    </tr>\n", "  </tbody>\n",
							"</table>\n", "</div>"
						],
						"text/plain": [
							"       country  beer_servings  spirit_servings  wine_servings  \\\n",
							"0  Afghanistan              0                0              0   \n",
							"1      Albania             89              132             54   \n",
							"\n", "   total_litres_of_pure_alcohol continent  \n",
							"0                           0.0      Asia  \n",
							"1                           4.9    Europe  "
						]
					},
					"execution_count": 47,
					"metadata": {},
					"output_type": "execute_result"
				}
			],
			"source": [
				"# rows in positions 0 through 2 (exclusive), all columns\n",
				"drinks.iloc[0:2, :]\n"
			]
		},
		{
			"cell_type": "markdown",
			"metadata": {},
			"source": ["## Filter\n"]
		},
		{
			"cell_type": "markdown",
			"metadata": {},
			"source": ["### Column filter\n"]
		},
		{
			"cell_type": "code",
			"execution_count": 48,
			"metadata": {},
			"outputs": [
				{
					"data": {
						"text/html": [
							"<div>\n", "<style scoped>\n",
							"    .dataframe tbody tr th:only-of-type {\n",
							"        vertical-align: middle;\n", "    }\n", "\n",
							"    .dataframe tbody tr th {\n",
							"        vertical-align: top;\n", "    }\n", "\n",
							"    .dataframe thead th {\n", "        text-align: right;\n",
							"    }\n", "</style>\n",
							"<table border=\"1\" class=\"dataframe\">\n", "  <thead>\n",
							"    <tr style=\"text-align: right;\">\n", "      <th></th>\n",
							"      <th>beer_servings</th>\n", "      <th>continent</th>\n",
							"    </tr>\n", "  </thead>\n", "  <tbody>\n", "    <tr>\n",
							"      <th>0</th>\n", "      <td>0</td>\n",
							"      <td>Asia</td>\n", "    </tr>\n", "    <tr>\n",
							"      <th>1</th>\n", "      <td>89</td>\n",
							"      <td>Europe</td>\n", "    </tr>\n", "    <tr>\n",
							"      <th>2</th>\n", "      <td>25</td>\n",
							"      <td>Africa</td>\n", "    </tr>\n", "    <tr>\n",
							"      <th>3</th>\n", "      <td>245</td>\n",
							"      <td>Europe</td>\n", "    </tr>\n", "    <tr>\n",
							"      <th>4</th>\n", "      <td>217</td>\n",
							"      <td>Africa</td>\n", "    </tr>\n", "    <tr>\n",
							"      <th>...</th>\n", "      <td>...</td>\n",
							"      <td>...</td>\n", "    </tr>\n", "    <tr>\n",
							"      <th>188</th>\n", "      <td>333</td>\n",
							"      <td>South America</td>\n", "    </tr>\n", "    <tr>\n",
							"      <th>189</th>\n", "      <td>111</td>\n",
							"      <td>Asia</td>\n", "    </tr>\n", "    <tr>\n",
							"      <th>190</th>\n", "      <td>6</td>\n",
							"      <td>Asia</td>\n", "    </tr>\n", "    <tr>\n",
							"      <th>191</th>\n", "      <td>32</td>\n",
							"      <td>Africa</td>\n", "    </tr>\n", "    <tr>\n",
							"      <th>192</th>\n", "      <td>64</td>\n",
							"      <td>Africa</td>\n", "    </tr>\n", "  </tbody>\n",
							"</table>\n", "<p>193 rows × 2 columns</p>\n", "</div>"
						],
						"text/plain": [
							"     beer_servings      continent\n",
							"0                0           Asia\n",
							"1               89         Europe\n",
							"2               25         Africa\n",
							"3              245         Europe\n",
							"4              217         Africa\n",
							"..             ...            ...\n",
							"188            333  South America\n",
							"189            111           Asia\n",
							"190              6           Asia\n",
							"191             32         Africa\n",
							"192             64         Africa\n", "\n",
							"[193 rows x 2 columns]"
						]
					},
					"execution_count": 48,
					"metadata": {},
					"output_type": "execute_result"
				}
			],
			"source": ["drinks.filter(items=[\"beer_servings\", \"continent\"])\n"]
		},
		{
			"cell_type": "code",
			"execution_count": 49,
			"metadata": {},
			"outputs": [
				{
					"data": {
						"text/html": [
							"<div>\n", "<style scoped>\n",
							"    .dataframe tbody tr th:only-of-type {\n",
							"        vertical-align: middle;\n", "    }\n", "\n",
							"    .dataframe tbody tr th {\n",
							"        vertical-align: top;\n", "    }\n", "\n",
							"    .dataframe thead th {\n", "        text-align: right;\n",
							"    }\n", "</style>\n",
							"<table border=\"1\" class=\"dataframe\">\n", "  <thead>\n",
							"    <tr style=\"text-align: right;\">\n", "      <th></th>\n",
							"      <th>beer_servings</th>\n",
							"      <th>spirit_servings</th>\n",
							"      <th>wine_servings</th>\n", "    </tr>\n", "  </thead>\n",
							"  <tbody>\n", "    <tr>\n", "      <th>0</th>\n",
							"      <td>0</td>\n", "      <td>0</td>\n", "      <td>0</td>\n",
							"    </tr>\n", "    <tr>\n", "      <th>1</th>\n",
							"      <td>89</td>\n", "      <td>132</td>\n",
							"      <td>54</td>\n", "    </tr>\n", "    <tr>\n",
							"      <th>2</th>\n", "      <td>25</td>\n", "      <td>0</td>\n",
							"      <td>14</td>\n", "    </tr>\n", "    <tr>\n",
							"      <th>3</th>\n", "      <td>245</td>\n",
							"      <td>138</td>\n", "      <td>312</td>\n", "    </tr>\n",
							"    <tr>\n", "      <th>4</th>\n", "      <td>217</td>\n",
							"      <td>57</td>\n", "      <td>45</td>\n", "    </tr>\n",
							"    <tr>\n", "      <th>...</th>\n", "      <td>...</td>\n",
							"      <td>...</td>\n", "      <td>...</td>\n", "    </tr>\n",
							"    <tr>\n", "      <th>188</th>\n", "      <td>333</td>\n",
							"      <td>100</td>\n", "      <td>3</td>\n", "    </tr>\n",
							"    <tr>\n", "      <th>189</th>\n", "      <td>111</td>\n",
							"      <td>2</td>\n", "      <td>1</td>\n", "    </tr>\n",
							"    <tr>\n", "      <th>190</th>\n", "      <td>6</td>\n",
							"      <td>0</td>\n", "      <td>0</td>\n", "    </tr>\n",
							"    <tr>\n", "      <th>191</th>\n", "      <td>32</td>\n",
							"      <td>19</td>\n", "      <td>4</td>\n", "    </tr>\n",
							"    <tr>\n", "      <th>192</th>\n", "      <td>64</td>\n",
							"      <td>18</td>\n", "      <td>4</td>\n", "    </tr>\n",
							"  </tbody>\n", "</table>\n", "<p>193 rows × 3 columns</p>\n",
							"</div>"
						],
						"text/plain": [
							"     beer_servings  spirit_servings  wine_servings\n",
							"0                0                0              0\n",
							"1               89              132             54\n",
							"2               25                0             14\n",
							"3              245              138            312\n",
							"4              217               57             45\n",
							"..             ...              ...            ...\n",
							"188            333              100              3\n",
							"189            111                2              1\n",
							"190              6                0              0\n",
							"191             32               19              4\n",
							"192             64               18              4\n", "\n",
							"[193 rows x 3 columns]"
						]
					},
					"execution_count": 49,
					"metadata": {},
					"output_type": "execute_result"
				}
			],
			"source": ["drinks.filter(regex=\"servings\", axis=1)\n"]
		},
		{
			"cell_type": "markdown",
			"metadata": {},
			"source": ["### Index filter\n"]
		},
		{
			"cell_type": "code",
			"execution_count": 50,
			"metadata": {},
			"outputs": [
				{
					"data": {
						"text/html": [
							"<div>\n", "<style scoped>\n",
							"    .dataframe tbody tr th:only-of-type {\n",
							"        vertical-align: middle;\n", "    }\n", "\n",
							"    .dataframe tbody tr th {\n",
							"        vertical-align: top;\n", "    }\n", "\n",
							"    .dataframe thead th {\n", "        text-align: right;\n",
							"    }\n", "</style>\n",
							"<table border=\"1\" class=\"dataframe\">\n", "  <thead>\n",
							"    <tr style=\"text-align: right;\">\n", "      <th></th>\n",
							"      <th>country</th>\n", "      <th>beer_servings</th>\n",
							"      <th>spirit_servings</th>\n",
							"      <th>wine_servings</th>\n",
							"      <th>total_litres_of_pure_alcohol</th>\n",
							"      <th>continent</th>\n", "    </tr>\n", "  </thead>\n",
							"  <tbody>\n", "    <tr>\n", "      <th>2</th>\n",
							"      <td>Algeria</td>\n", "      <td>25</td>\n",
							"      <td>0</td>\n", "      <td>14</td>\n",
							"      <td>0.7</td>\n", "      <td>Africa</td>\n", "    </tr>\n",
							"    <tr>\n", "      <th>12</th>\n", "      <td>Bahrain</td>\n",
							"      <td>42</td>\n", "      <td>63</td>\n",
							"      <td>7</td>\n", "      <td>2.0</td>\n",
							"      <td>Asia</td>\n", "    </tr>\n", "    <tr>\n",
							"      <th>20</th>\n", "      <td>Bolivia</td>\n",
							"      <td>167</td>\n", "      <td>41</td>\n",
							"      <td>8</td>\n", "      <td>3.8</td>\n",
							"      <td>South America</td>\n", "    </tr>\n", "    <tr>\n",
							"      <th>21</th>\n", "      <td>Bosnia-Herzegovina</td>\n",
							"      <td>76</td>\n", "      <td>173</td>\n",
							"      <td>8</td>\n", "      <td>4.6</td>\n",
							"      <td>Europe</td>\n", "    </tr>\n", "    <tr>\n",
							"      <th>22</th>\n", "      <td>Botswana</td>\n",
							"      <td>173</td>\n", "      <td>35</td>\n",
							"      <td>35</td>\n", "      <td>5.4</td>\n",
							"      <td>Africa</td>\n", "    </tr>\n", "  </tbody>\n",
							"</table>\n", "</div>"
						],
						"text/plain": [
							"               country  beer_servings  spirit_servings  wine_servings  \\\n",
							"2              Algeria             25                0             14   \n",
							"12             Bahrain             42               63              7   \n",
							"20             Bolivia            167               41              8   \n",
							"21  Bosnia-Herzegovina             76              173              8   \n",
							"22            Botswana            173               35             35   \n",
							"\n", "    total_litres_of_pure_alcohol      continent  \n",
							"2                            0.7         Africa  \n",
							"12                           2.0           Asia  \n",
							"20                           3.8  South America  \n",
							"21                           4.6         Europe  \n",
							"22                           5.4         Africa  "
						]
					},
					"execution_count": 50,
					"metadata": {},
					"output_type": "execute_result"
				}
			],
			"source": ["drinks.filter(like=\"2\", axis=0).head()\n"]
		},
		{
			"cell_type": "markdown",
			"metadata": {},
			"source": ["### Value filter\n"]
		},
		{
			"cell_type": "code",
			"execution_count": 51,
			"metadata": {
				"collapsed": false,
				"jupyter": {
					"outputs_hidden": false
				}
			},
			"outputs": [
				{
					"data": {
						"text/html": [
							"<div>\n", "<style scoped>\n",
							"    .dataframe tbody tr th:only-of-type {\n",
							"        vertical-align: middle;\n", "    }\n", "\n",
							"    .dataframe tbody tr th {\n",
							"        vertical-align: top;\n", "    }\n", "\n",
							"    .dataframe thead th {\n", "        text-align: right;\n",
							"    }\n", "</style>\n",
							"<table border=\"1\" class=\"dataframe\">\n", "  <thead>\n",
							"    <tr style=\"text-align: right;\">\n", "      <th></th>\n",
							"      <th>country</th>\n", "      <th>beer_servings</th>\n",
							"      <th>spirit_servings</th>\n",
							"      <th>wine_servings</th>\n",
							"      <th>total_litres_of_pure_alcohol</th>\n",
							"      <th>continent</th>\n", "    </tr>\n", "  </thead>\n",
							"  <tbody>\n", "    <tr>\n", "      <th>6</th>\n",
							"      <td>Argentina</td>\n", "      <td>193</td>\n",
							"      <td>25</td>\n", "      <td>221</td>\n",
							"      <td>8.3</td>\n", "      <td>South America</td>\n",
							"    </tr>\n", "    <tr>\n", "      <th>20</th>\n",
							"      <td>Bolivia</td>\n", "      <td>167</td>\n",
							"      <td>41</td>\n", "      <td>8</td>\n",
							"      <td>3.8</td>\n", "      <td>South America</td>\n",
							"    </tr>\n", "    <tr>\n", "      <th>23</th>\n",
							"      <td>Brazil</td>\n", "      <td>245</td>\n",
							"      <td>145</td>\n", "      <td>16</td>\n",
							"      <td>7.2</td>\n", "      <td>South America</td>\n",
							"    </tr>\n", "    <tr>\n", "      <th>35</th>\n",
							"      <td>Chile</td>\n", "      <td>130</td>\n",
							"      <td>124</td>\n", "      <td>172</td>\n",
							"      <td>7.6</td>\n", "      <td>South America</td>\n",
							"    </tr>\n", "    <tr>\n", "      <th>37</th>\n",
							"      <td>Colombia</td>\n", "      <td>159</td>\n",
							"      <td>76</td>\n", "      <td>3</td>\n",
							"      <td>4.2</td>\n", "      <td>South America</td>\n",
							"    </tr>\n", "    <tr>\n", "      <th>52</th>\n",
							"      <td>Ecuador</td>\n", "      <td>162</td>\n",
							"      <td>74</td>\n", "      <td>3</td>\n",
							"      <td>4.2</td>\n", "      <td>South America</td>\n",
							"    </tr>\n", "    <tr>\n", "      <th>72</th>\n",
							"      <td>Guyana</td>\n", "      <td>93</td>\n",
							"      <td>302</td>\n", "      <td>1</td>\n",
							"      <td>7.1</td>\n", "      <td>South America</td>\n",
							"    </tr>\n", "    <tr>\n", "      <th>132</th>\n",
							"      <td>Paraguay</td>\n", "      <td>213</td>\n",
							"      <td>117</td>\n", "      <td>74</td>\n",
							"      <td>7.3</td>\n", "      <td>South America</td>\n",
							"    </tr>\n", "    <tr>\n", "      <th>133</th>\n",
							"      <td>Peru</td>\n", "      <td>163</td>\n",
							"      <td>160</td>\n", "      <td>21</td>\n",
							"      <td>6.1</td>\n", "      <td>South America</td>\n",
							"    </tr>\n", "    <tr>\n", "      <th>163</th>\n",
							"      <td>Suriname</td>\n", "      <td>128</td>\n",
							"      <td>178</td>\n", "      <td>7</td>\n",
							"      <td>5.6</td>\n", "      <td>South America</td>\n",
							"    </tr>\n", "    <tr>\n", "      <th>185</th>\n",
							"      <td>Uruguay</td>\n", "      <td>115</td>\n",
							"      <td>35</td>\n", "      <td>220</td>\n",
							"      <td>6.6</td>\n", "      <td>South America</td>\n",
							"    </tr>\n", "    <tr>\n", "      <th>188</th>\n",
							"      <td>Venezuela</td>\n", "      <td>333</td>\n",
							"      <td>100</td>\n", "      <td>3</td>\n",
							"      <td>7.7</td>\n", "      <td>South America</td>\n",
							"    </tr>\n", "  </tbody>\n", "</table>\n", "</div>"
						],
						"text/plain": [
							"       country  beer_servings  spirit_servings  wine_servings  \\\n",
							"6    Argentina            193               25            221   \n",
							"20     Bolivia            167               41              8   \n",
							"23      Brazil            245              145             16   \n",
							"35       Chile            130              124            172   \n",
							"37    Colombia            159               76              3   \n",
							"52     Ecuador            162               74              3   \n",
							"72      Guyana             93              302              1   \n",
							"132   Paraguay            213              117             74   \n",
							"133       Peru            163              160             21   \n",
							"163   Suriname            128              178              7   \n",
							"185    Uruguay            115               35            220   \n",
							"188  Venezuela            333              100              3   \n",
							"\n", "     total_litres_of_pure_alcohol      continent  \n",
							"6                             8.3  South America  \n",
							"20                            3.8  South America  \n",
							"23                            7.2  South America  \n",
							"35                            7.6  South America  \n",
							"37                            4.2  South America  \n",
							"52                            4.2  South America  \n",
							"72                            7.1  South America  \n",
							"132                           7.3  South America  \n",
							"133                           6.1  South America  \n",
							"163                           5.6  South America  \n",
							"185                           6.6  South America  \n",
							"188                           7.7  South America  "
						]
					},
					"execution_count": 51,
					"metadata": {},
					"output_type": "execute_result"
				}
			],
			"source": ["drinks.loc[drinks.continent == \"South America\"]\n"]
		},
		{
			"cell_type": "code",
			"execution_count": 52,
			"metadata": {},
			"outputs": [
				{
					"data": {
						"text/plain": [
							"6      221\n", "20       8\n", "23      16\n", "35     172\n",
							"37       3\n", "52       3\n", "72       1\n", "132     74\n",
							"133     21\n", "163      7\n", "185    220\n", "188      3\n",
							"Name: wine_servings, dtype: int64"
						]
					},
					"execution_count": 52,
					"metadata": {},
					"output_type": "execute_result"
				}
			],
			"source": [
				"drinks.loc[drinks.continent == \"South America\", \"wine_servings\"]\n"
			]
		},
		{
			"cell_type": "code",
			"execution_count": 53,
			"metadata": {},
			"outputs": [
				{
					"data": {
						"text/plain": [
							"6      221\n", "20       8\n", "23      16\n", "35     172\n",
							"37       3\n", "52       3\n", "72       1\n", "132     74\n",
							"133     21\n", "163      7\n", "185    220\n", "188      3\n",
							"Name: wine_servings, dtype: int64"
						]
					},
					"execution_count": 53,
					"metadata": {},
					"output_type": "execute_result"
				}
			],
			"source": [
				"drinks.query(\"continent=='South America'\")[\"wine_servings\"]\n"
			]
		},
		{
			"cell_type": "code",
			"execution_count": 54,
			"metadata": {
				"jupyter": {
					"outputs_hidden": false
				}
			},
			"outputs": [
				{
					"data": {
						"text/html": [
							"<div>\n", "<style scoped>\n",
							"    .dataframe tbody tr th:only-of-type {\n",
							"        vertical-align: middle;\n", "    }\n", "\n",
							"    .dataframe tbody tr th {\n",
							"        vertical-align: top;\n", "    }\n", "\n",
							"    .dataframe thead th {\n", "        text-align: right;\n",
							"    }\n", "</style>\n",
							"<table border=\"1\" class=\"dataframe\">\n", "  <thead>\n",
							"    <tr style=\"text-align: right;\">\n", "      <th></th>\n",
							"      <th>star_rating</th>\n", "      <th>title</th>\n",
							"      <th>content_rating</th>\n", "      <th>genre</th>\n",
							"      <th>duration</th>\n", "      <th>actors_list</th>\n",
							"    </tr>\n", "  </thead>\n", "  <tbody>\n", "    <tr>\n",
							"      <th>0</th>\n", "      <td>9.3</td>\n",
							"      <td>The Shawshank Redemption</td>\n", "      <td>R</td>\n",
							"      <td>Crime</td>\n", "      <td>142</td>\n",
							"      <td>[u'Tim Robbins', u'Morgan Freeman', u'Bob Gunt...</td>\n",
							"    </tr>\n", "    <tr>\n", "      <th>1</th>\n",
							"      <td>9.2</td>\n", "      <td>The Godfather</td>\n",
							"      <td>R</td>\n", "      <td>Crime</td>\n",
							"      <td>175</td>\n",
							"      <td>[u'Marlon Brando', u'Al Pacino', u'James Caan']</td>\n",
							"    </tr>\n", "    <tr>\n", "      <th>2</th>\n",
							"      <td>9.1</td>\n", "      <td>The Godfather: Part II</td>\n",
							"      <td>R</td>\n", "      <td>Crime</td>\n",
							"      <td>200</td>\n",
							"      <td>[u'Al Pacino', u'Robert De Niro', u'Robert Duv...</td>\n",
							"    </tr>\n", "    <tr>\n", "      <th>3</th>\n",
							"      <td>9.0</td>\n", "      <td>The Dark Knight</td>\n",
							"      <td>PG-13</td>\n", "      <td>Action</td>\n",
							"      <td>152</td>\n",
							"      <td>[u'Christian Bale', u'Heath Ledger', u'Aaron E...</td>\n",
							"    </tr>\n", "    <tr>\n", "      <th>4</th>\n",
							"      <td>8.9</td>\n", "      <td>Pulp Fiction</td>\n",
							"      <td>R</td>\n", "      <td>Crime</td>\n",
							"      <td>154</td>\n",
							"      <td>[u'John Travolta', u'Uma Thurman', u'Samuel L....</td>\n",
							"    </tr>\n", "  </tbody>\n", "</table>\n", "</div>"
						],
						"text/plain": [
							"   star_rating                     title content_rating   genre  duration  \\\n",
							"0          9.3  The Shawshank Redemption              R   Crime       142   \n",
							"1          9.2             The Godfather              R   Crime       175   \n",
							"2          9.1    The Godfather: Part II              R   Crime       200   \n",
							"3          9.0           The Dark Knight          PG-13  Action       152   \n",
							"4          8.9              Pulp Fiction              R   Crime       154   \n",
							"\n", "                                         actors_list  \n",
							"0  [u'Tim Robbins', u'Morgan Freeman', u'Bob Gunt...  \n",
							"1    [u'Marlon Brando', u'Al Pacino', u'James Caan']  \n",
							"2  [u'Al Pacino', u'Robert De Niro', u'Robert Duv...  \n",
							"3  [u'Christian Bale', u'Heath Ledger', u'Aaron E...  \n",
							"4  [u'John Travolta', u'Uma Thurman', u'Samuel L....  "
						]
					},
					"execution_count": 54,
					"metadata": {},
					"output_type": "execute_result"
				}
			],
			"source": [
				"movies = pd.read_csv(\"data/imdb_1000.csv\")\n", "movies.head()\n"
			]
		},
		{
			"cell_type": "code",
			"execution_count": 55,
			"metadata": {
				"jupyter": {
					"outputs_hidden": false
				}
			},
			"outputs": [
				{
					"data": {
						"text/html": [
							"<div>\n", "<style scoped>\n",
							"    .dataframe tbody tr th:only-of-type {\n",
							"        vertical-align: middle;\n", "    }\n", "\n",
							"    .dataframe tbody tr th {\n",
							"        vertical-align: top;\n", "    }\n", "\n",
							"    .dataframe thead th {\n", "        text-align: right;\n",
							"    }\n", "</style>\n",
							"<table border=\"1\" class=\"dataframe\">\n", "  <thead>\n",
							"    <tr style=\"text-align: right;\">\n", "      <th></th>\n",
							"      <th>star_rating</th>\n", "      <th>title</th>\n",
							"      <th>content_rating</th>\n", "      <th>genre</th>\n",
							"      <th>duration</th>\n", "      <th>actors_list</th>\n",
							"    </tr>\n", "  </thead>\n", "  <tbody>\n", "    <tr>\n",
							"      <th>17</th>\n", "      <td>8.7</td>\n",
							"      <td>Seven Samurai</td>\n", "      <td>UNRATED</td>\n",
							"      <td>Drama</td>\n", "      <td>207</td>\n",
							"      <td>[u'Toshir\\xf4 Mifune', u'Takashi Shimura', u'K...</td>\n",
							"    </tr>\n", "    <tr>\n", "      <th>157</th>\n",
							"      <td>8.2</td>\n", "      <td>Gone with the Wind</td>\n",
							"      <td>G</td>\n", "      <td>Drama</td>\n",
							"      <td>238</td>\n",
							"      <td>[u'Clark Gable', u'Vivien Leigh', u'Thomas Mit...</td>\n",
							"    </tr>\n", "    <tr>\n", "      <th>476</th>\n",
							"      <td>7.8</td>\n", "      <td>Hamlet</td>\n",
							"      <td>PG-13</td>\n", "      <td>Drama</td>\n",
							"      <td>242</td>\n",
							"      <td>[u'Kenneth Branagh', u'Julie Christie', u'Dere...</td>\n",
							"    </tr>\n", "  </tbody>\n", "</table>\n", "</div>"
						],
						"text/plain": [
							"     star_rating               title content_rating  genre  duration  \\\n",
							"17           8.7       Seven Samurai        UNRATED  Drama       207   \n",
							"157          8.2  Gone with the Wind              G  Drama       238   \n",
							"476          7.8              Hamlet          PG-13  Drama       242   \n",
							"\n",
							"                                           actors_list  \n",
							"17   [u'Toshir\\xf4 Mifune', u'Takashi Shimura', u'K...  \n",
							"157  [u'Clark Gable', u'Vivien Leigh', u'Thomas Mit...  \n",
							"476  [u'Kenneth Branagh', u'Julie Christie', u'Dere...  "
						]
					},
					"execution_count": 55,
					"metadata": {},
					"output_type": "execute_result"
				}
			],
			"source": [
				"# use the '&' operator to specify that both conditions are required\n",
				"movies.query(\"duration >=200 & genre == 'Drama'\")\n"
			]
		},
		{
			"cell_type": "code",
			"execution_count": 56,
			"metadata": {
				"jupyter": {
					"outputs_hidden": false
				}
			},
			"outputs": [
				{
					"data": {
						"text/html": [
							"<div>\n", "<style scoped>\n",
							"    .dataframe tbody tr th:only-of-type {\n",
							"        vertical-align: middle;\n", "    }\n", "\n",
							"    .dataframe tbody tr th {\n",
							"        vertical-align: top;\n", "    }\n", "\n",
							"    .dataframe thead th {\n", "        text-align: right;\n",
							"    }\n", "</style>\n",
							"<table border=\"1\" class=\"dataframe\">\n", "  <thead>\n",
							"    <tr style=\"text-align: right;\">\n", "      <th></th>\n",
							"      <th>star_rating</th>\n", "      <th>title</th>\n",
							"      <th>content_rating</th>\n", "      <th>genre</th>\n",
							"      <th>duration</th>\n", "      <th>actors_list</th>\n",
							"    </tr>\n", "  </thead>\n", "  <tbody>\n", "    <tr>\n",
							"      <th>2</th>\n", "      <td>9.1</td>\n",
							"      <td>The Godfather: Part II</td>\n", "      <td>R</td>\n",
							"      <td>Crime</td>\n", "      <td>200</td>\n",
							"      <td>[u'Al Pacino', u'Robert De Niro', u'Robert Duv...</td>\n",
							"    </tr>\n", "    <tr>\n", "      <th>5</th>\n",
							"      <td>8.9</td>\n", "      <td>12 Angry Men</td>\n",
							"      <td>NOT RATED</td>\n", "      <td>Drama</td>\n",
							"      <td>96</td>\n",
							"      <td>[u'Henry Fonda', u'Lee J. Cobb', u'Martin Bals...</td>\n",
							"    </tr>\n", "    <tr>\n", "      <th>7</th>\n",
							"      <td>8.9</td>\n",
							"      <td>The Lord of the Rings: The Return of the King</td>\n",
							"      <td>PG-13</td>\n", "      <td>Adventure</td>\n",
							"      <td>201</td>\n",
							"      <td>[u'Elijah Wood', u'Viggo Mortensen', u'Ian McK...</td>\n",
							"    </tr>\n", "    <tr>\n", "      <th>9</th>\n",
							"      <td>8.9</td>\n", "      <td>Fight Club</td>\n",
							"      <td>R</td>\n", "      <td>Drama</td>\n",
							"      <td>139</td>\n",
							"      <td>[u'Brad Pitt', u'Edward Norton', u'Helena Bonh...</td>\n",
							"    </tr>\n", "    <tr>\n", "      <th>13</th>\n",
							"      <td>8.8</td>\n", "      <td>Forrest Gump</td>\n",
							"      <td>PG-13</td>\n", "      <td>Drama</td>\n",
							"      <td>142</td>\n",
							"      <td>[u'Tom Hanks', u'Robin Wright', u'Gary Sinise']</td>\n",
							"    </tr>\n", "  </tbody>\n", "</table>\n", "</div>"
						],
						"text/plain": [
							"    star_rating                                          title content_rating  \\\n",
							"2           9.1                         The Godfather: Part II              R   \n",
							"5           8.9                                   12 Angry Men      NOT RATED   \n",
							"7           8.9  The Lord of the Rings: The Return of the King          PG-13   \n",
							"9           8.9                                     Fight Club              R   \n",
							"13          8.8                                   Forrest Gump          PG-13   \n",
							"\n",
							"        genre  duration                                        actors_list  \n",
							"2       Crime       200  [u'Al Pacino', u'Robert De Niro', u'Robert Duv...  \n",
							"5       Drama        96  [u'Henry Fonda', u'Lee J. Cobb', u'Martin Bals...  \n",
							"7   Adventure       201  [u'Elijah Wood', u'Viggo Mortensen', u'Ian McK...  \n",
							"9       Drama       139  [u'Brad Pitt', u'Edward Norton', u'Helena Bonh...  \n",
							"13      Drama       142    [u'Tom Hanks', u'Robin Wright', u'Gary Sinise']  "
						]
					},
					"execution_count": 56,
					"metadata": {},
					"output_type": "execute_result"
				}
			],
			"source": [
				"# using the '|' operator would have shown movies that are either long or dramas (or both)\n",
				"movies.query(\"duration >=200 | genre == 'Drama'\").head()\n"
			]
		},
		{
			"cell_type": "markdown",
			"metadata": {},
			"source": ["### Range filter\n"]
		},
		{
			"cell_type": "code",
			"execution_count": 57,
			"metadata": {
				"jupyter": {
					"outputs_hidden": false
				}
			},
			"outputs": [
				{
					"data": {
						"text/html": [
							"<div>\n", "<style scoped>\n",
							"    .dataframe tbody tr th:only-of-type {\n",
							"        vertical-align: middle;\n", "    }\n", "\n",
							"    .dataframe tbody tr th {\n",
							"        vertical-align: top;\n", "    }\n", "\n",
							"    .dataframe thead th {\n", "        text-align: right;\n",
							"    }\n", "</style>\n",
							"<table border=\"1\" class=\"dataframe\">\n", "  <thead>\n",
							"    <tr style=\"text-align: right;\">\n", "      <th></th>\n",
							"      <th>star_rating</th>\n", "      <th>title</th>\n",
							"      <th>content_rating</th>\n", "      <th>genre</th>\n",
							"      <th>duration</th>\n", "      <th>actors_list</th>\n",
							"    </tr>\n", "  </thead>\n", "  <tbody>\n", "    <tr>\n",
							"      <th>0</th>\n", "      <td>9.3</td>\n",
							"      <td>The Shawshank Redemption</td>\n", "      <td>R</td>\n",
							"      <td>Crime</td>\n", "      <td>142</td>\n",
							"      <td>[u'Tim Robbins', u'Morgan Freeman', u'Bob Gunt...</td>\n",
							"    </tr>\n", "    <tr>\n", "      <th>1</th>\n",
							"      <td>9.2</td>\n", "      <td>The Godfather</td>\n",
							"      <td>R</td>\n", "      <td>Crime</td>\n",
							"      <td>175</td>\n",
							"      <td>[u'Marlon Brando', u'Al Pacino', u'James Caan']</td>\n",
							"    </tr>\n", "    <tr>\n", "      <th>2</th>\n",
							"      <td>9.1</td>\n", "      <td>The Godfather: Part II</td>\n",
							"      <td>R</td>\n", "      <td>Crime</td>\n",
							"      <td>200</td>\n",
							"      <td>[u'Al Pacino', u'Robert De Niro', u'Robert Duv...</td>\n",
							"    </tr>\n", "    <tr>\n", "      <th>3</th>\n",
							"      <td>9.0</td>\n", "      <td>The Dark Knight</td>\n",
							"      <td>PG-13</td>\n", "      <td>Action</td>\n",
							"      <td>152</td>\n",
							"      <td>[u'Christian Bale', u'Heath Ledger', u'Aaron E...</td>\n",
							"    </tr>\n", "    <tr>\n", "      <th>4</th>\n",
							"      <td>8.9</td>\n", "      <td>Pulp Fiction</td>\n",
							"      <td>R</td>\n", "      <td>Crime</td>\n",
							"      <td>154</td>\n",
							"      <td>[u'John Travolta', u'Uma Thurman', u'Samuel L....</td>\n",
							"    </tr>\n", "  </tbody>\n", "</table>\n", "</div>"
						],
						"text/plain": [
							"   star_rating                     title content_rating   genre  duration  \\\n",
							"0          9.3  The Shawshank Redemption              R   Crime       142   \n",
							"1          9.2             The Godfather              R   Crime       175   \n",
							"2          9.1    The Godfather: Part II              R   Crime       200   \n",
							"3          9.0           The Dark Knight          PG-13  Action       152   \n",
							"4          8.9              Pulp Fiction              R   Crime       154   \n",
							"\n", "                                         actors_list  \n",
							"0  [u'Tim Robbins', u'Morgan Freeman', u'Bob Gunt...  \n",
							"1    [u'Marlon Brando', u'Al Pacino', u'James Caan']  \n",
							"2  [u'Al Pacino', u'Robert De Niro', u'Robert Duv...  \n",
							"3  [u'Christian Bale', u'Heath Ledger', u'Aaron E...  \n",
							"4  [u'John Travolta', u'Uma Thurman', u'Samuel L....  "
						]
					},
					"execution_count": 57,
					"metadata": {},
					"output_type": "execute_result"
				}
			],
			"source": [
				"movies.loc[movies[\"genre\"].isin([\"Crime\", \"Drama\", \"Action\"])].head()\n"
			]
		},
		{
			"cell_type": "code",
			"execution_count": 58,
			"metadata": {},
			"outputs": [
				{
					"data": {
						"text/html": [
							"<div>\n", "<style scoped>\n",
							"    .dataframe tbody tr th:only-of-type {\n",
							"        vertical-align: middle;\n", "    }\n", "\n",
							"    .dataframe tbody tr th {\n",
							"        vertical-align: top;\n", "    }\n", "\n",
							"    .dataframe thead th {\n", "        text-align: right;\n",
							"    }\n", "</style>\n",
							"<table border=\"1\" class=\"dataframe\">\n", "  <thead>\n",
							"    <tr style=\"text-align: right;\">\n", "      <th></th>\n",
							"      <th>star_rating</th>\n", "      <th>title</th>\n",
							"      <th>content_rating</th>\n", "      <th>genre</th>\n",
							"      <th>duration</th>\n", "      <th>actors_list</th>\n",
							"    </tr>\n", "  </thead>\n", "  <tbody>\n", "    <tr>\n",
							"      <th>0</th>\n", "      <td>9.3</td>\n",
							"      <td>The Shawshank Redemption</td>\n", "      <td>R</td>\n",
							"      <td>Crime</td>\n", "      <td>142</td>\n",
							"      <td>[u'Tim Robbins', u'Morgan Freeman', u'Bob Gunt...</td>\n",
							"    </tr>\n", "    <tr>\n", "      <th>1</th>\n",
							"      <td>9.2</td>\n", "      <td>The Godfather</td>\n",
							"      <td>R</td>\n", "      <td>Crime</td>\n",
							"      <td>175</td>\n",
							"      <td>[u'Marlon Brando', u'Al Pacino', u'James Caan']</td>\n",
							"    </tr>\n", "    <tr>\n", "      <th>3</th>\n",
							"      <td>9.0</td>\n", "      <td>The Dark Knight</td>\n",
							"      <td>PG-13</td>\n", "      <td>Action</td>\n",
							"      <td>152</td>\n",
							"      <td>[u'Christian Bale', u'Heath Ledger', u'Aaron E...</td>\n",
							"    </tr>\n", "    <tr>\n", "      <th>4</th>\n",
							"      <td>8.9</td>\n", "      <td>Pulp Fiction</td>\n",
							"      <td>R</td>\n", "      <td>Crime</td>\n",
							"      <td>154</td>\n",
							"      <td>[u'John Travolta', u'Uma Thurman', u'Samuel L....</td>\n",
							"    </tr>\n", "    <tr>\n", "      <th>6</th>\n",
							"      <td>8.9</td>\n",
							"      <td>The Good, the Bad and the Ugly</td>\n",
							"      <td>NOT RATED</td>\n", "      <td>Western</td>\n",
							"      <td>161</td>\n",
							"      <td>[u'Clint Eastwood', u'Eli Wallach', u'Lee Van ...</td>\n",
							"    </tr>\n", "  </tbody>\n", "</table>\n", "</div>"
						],
						"text/plain": [
							"   star_rating                           title content_rating    genre  \\\n",
							"0          9.3        The Shawshank Redemption              R    Crime   \n",
							"1          9.2                   The Godfather              R    Crime   \n",
							"3          9.0                 The Dark Knight          PG-13   Action   \n",
							"4          8.9                    Pulp Fiction              R    Crime   \n",
							"6          8.9  The Good, the Bad and the Ugly      NOT RATED  Western   \n",
							"\n",
							"   duration                                        actors_list  \n",
							"0       142  [u'Tim Robbins', u'Morgan Freeman', u'Bob Gunt...  \n",
							"1       175    [u'Marlon Brando', u'Al Pacino', u'James Caan']  \n",
							"3       152  [u'Christian Bale', u'Heath Ledger', u'Aaron E...  \n",
							"4       154  [u'John Travolta', u'Uma Thurman', u'Samuel L....  \n",
							"6       161  [u'Clint Eastwood', u'Eli Wallach', u'Lee Van ...  "
						]
					},
					"execution_count": 58,
					"metadata": {},
					"output_type": "execute_result"
				}
			],
			"source": [
				"movies.loc[movies[\"duration\"].between(100, 200, inclusive=\"neither\")].head()\n"
			]
		},
		{
			"cell_type": "markdown",
			"metadata": {},
			"source": ["## Reshape\n"]
		},
		{
			"cell_type": "code",
			"execution_count": 59,
			"metadata": {},
			"outputs": [
				{
					"data": {
						"text/html": [
							"<div>\n", "<style scoped>\n",
							"    .dataframe tbody tr th:only-of-type {\n",
							"        vertical-align: middle;\n", "    }\n", "\n",
							"    .dataframe tbody tr th {\n",
							"        vertical-align: top;\n", "    }\n", "\n",
							"    .dataframe thead th {\n", "        text-align: right;\n",
							"    }\n", "</style>\n",
							"<table border=\"1\" class=\"dataframe\">\n", "  <thead>\n",
							"    <tr style=\"text-align: right;\">\n", "      <th></th>\n",
							"      <th>country</th>\n", "      <th>beer_servings</th>\n",
							"      <th>spirit_servings</th>\n",
							"      <th>wine_servings</th>\n",
							"      <th>total_litres_of_pure_alcohol</th>\n",
							"      <th>continent</th>\n", "    </tr>\n", "  </thead>\n",
							"  <tbody>\n", "    <tr>\n", "      <th>0</th>\n",
							"      <td>Afghanistan</td>\n", "      <td>0</td>\n",
							"      <td>0</td>\n", "      <td>0</td>\n",
							"      <td>0.0</td>\n", "      <td>Asia</td>\n", "    </tr>\n",
							"    <tr>\n", "      <th>1</th>\n", "      <td>Albania</td>\n",
							"      <td>89</td>\n", "      <td>132</td>\n",
							"      <td>54</td>\n", "      <td>4.9</td>\n",
							"      <td>Europe</td>\n", "    </tr>\n", "    <tr>\n",
							"      <th>2</th>\n", "      <td>Algeria</td>\n",
							"      <td>25</td>\n", "      <td>0</td>\n",
							"      <td>14</td>\n", "      <td>0.7</td>\n",
							"      <td>Africa</td>\n", "    </tr>\n", "    <tr>\n",
							"      <th>3</th>\n", "      <td>Andorra</td>\n",
							"      <td>245</td>\n", "      <td>138</td>\n",
							"      <td>312</td>\n", "      <td>12.4</td>\n",
							"      <td>Europe</td>\n", "    </tr>\n", "    <tr>\n",
							"      <th>4</th>\n", "      <td>Angola</td>\n",
							"      <td>217</td>\n", "      <td>57</td>\n",
							"      <td>45</td>\n", "      <td>5.9</td>\n",
							"      <td>Africa</td>\n", "    </tr>\n", "  </tbody>\n",
							"</table>\n", "</div>"
						],
						"text/plain": [
							"       country  beer_servings  spirit_servings  wine_servings  \\\n",
							"0  Afghanistan              0                0              0   \n",
							"1      Albania             89              132             54   \n",
							"2      Algeria             25                0             14   \n",
							"3      Andorra            245              138            312   \n",
							"4       Angola            217               57             45   \n",
							"\n", "   total_litres_of_pure_alcohol continent  \n",
							"0                           0.0      Asia  \n",
							"1                           4.9    Europe  \n",
							"2                           0.7    Africa  \n",
							"3                          12.4    Europe  \n",
							"4                           5.9    Africa  "
						]
					},
					"execution_count": 59,
					"metadata": {},
					"output_type": "execute_result"
				}
			],
			"source": [
				"drinks = pd.read_csv(\"data/drinks.csv\")\n", "drinks.head()\n"
			]
		},
		{
			"cell_type": "code",
			"execution_count": 60,
			"metadata": {},
			"outputs": [
				{
					"data": {
						"text/plain": [
							"beer_servings      376\n", "spirit_servings    438\n",
							"wine_servings      370\n", "dtype: int64"
						]
					},
					"execution_count": 60,
					"metadata": {},
					"output_type": "execute_result"
				}
			],
			"source": [
				"# apply the 'max' function along axis 0 to calculate the maximum value in each column\n",
				"drinks.loc[:, \"beer_servings\":\"wine_servings\"].apply(max, axis=0)\n"
			]
		},
		{
			"cell_type": "code",
			"execution_count": 61,
			"metadata": {},
			"outputs": [
				{
					"data": {
						"text/html": [
							"<div>\n", "<style scoped>\n",
							"    .dataframe tbody tr th:only-of-type {\n",
							"        vertical-align: middle;\n", "    }\n", "\n",
							"    .dataframe tbody tr th {\n",
							"        vertical-align: top;\n", "    }\n", "\n",
							"    .dataframe thead th {\n", "        text-align: right;\n",
							"    }\n", "</style>\n",
							"<table border=\"1\" class=\"dataframe\">\n", "  <thead>\n",
							"    <tr style=\"text-align: right;\">\n", "      <th></th>\n",
							"      <th>beer_servings</th>\n",
							"      <th>spirit_servings</th>\n",
							"      <th>wine_servings</th>\n", "    </tr>\n", "  </thead>\n",
							"  <tbody>\n", "    <tr>\n", "      <th>0</th>\n",
							"      <td>0.0</td>\n", "      <td>0.0</td>\n",
							"      <td>0.0</td>\n", "    </tr>\n", "    <tr>\n",
							"      <th>1</th>\n", "      <td>89.0</td>\n",
							"      <td>132.0</td>\n", "      <td>54.0</td>\n", "    </tr>\n",
							"    <tr>\n", "      <th>2</th>\n", "      <td>25.0</td>\n",
							"      <td>0.0</td>\n", "      <td>14.0</td>\n", "    </tr>\n",
							"    <tr>\n", "      <th>3</th>\n", "      <td>245.0</td>\n",
							"      <td>138.0</td>\n", "      <td>312.0</td>\n", "    </tr>\n",
							"    <tr>\n", "      <th>4</th>\n", "      <td>217.0</td>\n",
							"      <td>57.0</td>\n", "      <td>45.0</td>\n", "    </tr>\n",
							"  </tbody>\n", "</table>\n", "</div>"
						],
						"text/plain": [
							"   beer_servings  spirit_servings  wine_servings\n",
							"0            0.0              0.0            0.0\n",
							"1           89.0            132.0           54.0\n",
							"2           25.0              0.0           14.0\n",
							"3          245.0            138.0          312.0\n",
							"4          217.0             57.0           45.0"
						]
					},
					"execution_count": 61,
					"metadata": {},
					"output_type": "execute_result"
				}
			],
			"source": [
				"# convert every DataFrame element into a float\n",
				"drinks.loc[:, \"beer_servings\":\"wine_servings\"].applymap(float).head()\n"
			]
		},
		{
			"cell_type": "code",
			"execution_count": 62,
			"metadata": {},
			"outputs": [
				{
					"name": "stderr",
					"output_type": "stream",
					"text": [
						"/var/folders/py/n14256yd5r5ddms88x9bvsv40000gn/T/ipykernel_61061/759321214.py:2: DeprecationWarning: In a future version, `df.iloc[:, i] = newvals` will attempt to set the values inplace instead of always setting a new array. To retain the old behavior, use either `df[df.columns[i]] = newvals` or, if columns are non-unique, `df.isetitem(i, newvals)`\n",
						"  drinks.loc[:, \"beer_servings\":\"wine_servings\"] = drinks.loc[\n"
					]
				},
				{
					"data": {
						"text/html": [
							"<div>\n", "<style scoped>\n",
							"    .dataframe tbody tr th:only-of-type {\n",
							"        vertical-align: middle;\n", "    }\n", "\n",
							"    .dataframe tbody tr th {\n",
							"        vertical-align: top;\n", "    }\n", "\n",
							"    .dataframe thead th {\n", "        text-align: right;\n",
							"    }\n", "</style>\n",
							"<table border=\"1\" class=\"dataframe\">\n", "  <thead>\n",
							"    <tr style=\"text-align: right;\">\n", "      <th></th>\n",
							"      <th>country</th>\n", "      <th>beer_servings</th>\n",
							"      <th>spirit_servings</th>\n",
							"      <th>wine_servings</th>\n",
							"      <th>total_litres_of_pure_alcohol</th>\n",
							"      <th>continent</th>\n", "    </tr>\n", "  </thead>\n",
							"  <tbody>\n", "    <tr>\n", "      <th>0</th>\n",
							"      <td>Afghanistan</td>\n", "      <td>0.0</td>\n",
							"      <td>0.0</td>\n", "      <td>0.0</td>\n",
							"      <td>0.0</td>\n", "      <td>Asia</td>\n", "    </tr>\n",
							"    <tr>\n", "      <th>1</th>\n", "      <td>Albania</td>\n",
							"      <td>89.0</td>\n", "      <td>132.0</td>\n",
							"      <td>54.0</td>\n", "      <td>4.9</td>\n",
							"      <td>Europe</td>\n", "    </tr>\n", "    <tr>\n",
							"      <th>2</th>\n", "      <td>Algeria</td>\n",
							"      <td>25.0</td>\n", "      <td>0.0</td>\n",
							"      <td>14.0</td>\n", "      <td>0.7</td>\n",
							"      <td>Africa</td>\n", "    </tr>\n", "    <tr>\n",
							"      <th>3</th>\n", "      <td>Andorra</td>\n",
							"      <td>245.0</td>\n", "      <td>138.0</td>\n",
							"      <td>312.0</td>\n", "      <td>12.4</td>\n",
							"      <td>Europe</td>\n", "    </tr>\n", "    <tr>\n",
							"      <th>4</th>\n", "      <td>Angola</td>\n",
							"      <td>217.0</td>\n", "      <td>57.0</td>\n",
							"      <td>45.0</td>\n", "      <td>5.9</td>\n",
							"      <td>Africa</td>\n", "    </tr>\n", "  </tbody>\n",
							"</table>\n", "</div>"
						],
						"text/plain": [
							"       country  beer_servings  spirit_servings  wine_servings  \\\n",
							"0  Afghanistan            0.0              0.0            0.0   \n",
							"1      Albania           89.0            132.0           54.0   \n",
							"2      Algeria           25.0              0.0           14.0   \n",
							"3      Andorra          245.0            138.0          312.0   \n",
							"4       Angola          217.0             57.0           45.0   \n",
							"\n", "   total_litres_of_pure_alcohol continent  \n",
							"0                           0.0      Asia  \n",
							"1                           4.9    Europe  \n",
							"2                           0.7    Africa  \n",
							"3                          12.4    Europe  \n",
							"4                           5.9    Africa  "
						]
					},
					"execution_count": 62,
					"metadata": {},
					"output_type": "execute_result"
				}
			],
			"source": [
				"# overwrite the existing DataFrame columns\n",
				"drinks.loc[:, \"beer_servings\":\"wine_servings\"] = drinks.loc[\n",
				"    :, \"beer_servings\":\"wine_servings\"\n", "].applymap(float)\n",
				"drinks.head()\n"
			]
		},
		{
			"cell_type": "markdown",
			"metadata": {},
			"source": ["### Concat\n"]
		},
		{
			"cell_type": "code",
			"execution_count": 63,
			"metadata": {},
			"outputs": [],
			"source": [
				"df1 = pd.DataFrame(\n", "    {\n",
				"        \"name\": [\"A\", \"B\", \"C\", \"D\"],\n",
				"        \"math\": [60, 89, 82, 70],\n",
				"        \"physics\": [66, 95, 83, 66],\n",
				"        \"chemistry\": [61, 91, 77, 70],\n", "    }\n", ")\n", "\n",
				"df2 = pd.DataFrame(\n", "    {\n",
				"        \"name\": [\"E\", \"F\", \"G\", \"H\"],\n",
				"        \"math\": [66, 95, 83, 66],\n",
				"        \"physics\": [60, 89, 82, 70],\n",
				"        \"chemistry\": [90, 81, 78, 90],\n", "    }\n", ")\n"
			]
		},
		{
			"cell_type": "code",
			"execution_count": 64,
			"metadata": {},
			"outputs": [
				{
					"data": {
						"text/html": [
							"<div>\n", "<style scoped>\n",
							"    .dataframe tbody tr th:only-of-type {\n",
							"        vertical-align: middle;\n", "    }\n", "\n",
							"    .dataframe tbody tr th {\n",
							"        vertical-align: top;\n", "    }\n", "\n",
							"    .dataframe thead th {\n", "        text-align: right;\n",
							"    }\n", "</style>\n",
							"<table border=\"1\" class=\"dataframe\">\n", "  <thead>\n",
							"    <tr style=\"text-align: right;\">\n", "      <th></th>\n",
							"      <th>name</th>\n", "      <th>math</th>\n",
							"      <th>physics</th>\n", "      <th>chemistry</th>\n",
							"    </tr>\n", "  </thead>\n", "  <tbody>\n", "    <tr>\n",
							"      <th>0</th>\n", "      <td>A</td>\n", "      <td>60</td>\n",
							"      <td>66</td>\n", "      <td>61</td>\n", "    </tr>\n",
							"    <tr>\n", "      <th>1</th>\n", "      <td>B</td>\n",
							"      <td>89</td>\n", "      <td>95</td>\n",
							"      <td>91</td>\n", "    </tr>\n", "    <tr>\n",
							"      <th>2</th>\n", "      <td>C</td>\n", "      <td>82</td>\n",
							"      <td>83</td>\n", "      <td>77</td>\n", "    </tr>\n",
							"    <tr>\n", "      <th>3</th>\n", "      <td>D</td>\n",
							"      <td>70</td>\n", "      <td>66</td>\n",
							"      <td>70</td>\n", "    </tr>\n", "    <tr>\n",
							"      <th>0</th>\n", "      <td>E</td>\n", "      <td>66</td>\n",
							"      <td>60</td>\n", "      <td>90</td>\n", "    </tr>\n",
							"    <tr>\n", "      <th>1</th>\n", "      <td>F</td>\n",
							"      <td>95</td>\n", "      <td>89</td>\n",
							"      <td>81</td>\n", "    </tr>\n", "    <tr>\n",
							"      <th>2</th>\n", "      <td>G</td>\n", "      <td>83</td>\n",
							"      <td>82</td>\n", "      <td>78</td>\n", "    </tr>\n",
							"    <tr>\n", "      <th>3</th>\n", "      <td>H</td>\n",
							"      <td>66</td>\n", "      <td>70</td>\n",
							"      <td>90</td>\n", "    </tr>\n", "  </tbody>\n",
							"</table>\n", "</div>"
						],
						"text/plain": [
							"  name  math  physics  chemistry\n",
							"0    A    60       66         61\n",
							"1    B    89       95         91\n",
							"2    C    82       83         77\n",
							"3    D    70       66         70\n",
							"0    E    66       60         90\n",
							"1    F    95       89         81\n",
							"2    G    83       82         78\n",
							"3    H    66       70         90"
						]
					},
					"execution_count": 64,
					"metadata": {},
					"output_type": "execute_result"
				}
			],
			"source": ["pd.concat([df1, df2])\n"]
		},
		{
			"cell_type": "code",
			"execution_count": 65,
			"metadata": {},
			"outputs": [
				{
					"data": {
						"text/html": [
							"<div>\n", "<style scoped>\n",
							"    .dataframe tbody tr th:only-of-type {\n",
							"        vertical-align: middle;\n", "    }\n", "\n",
							"    .dataframe tbody tr th {\n",
							"        vertical-align: top;\n", "    }\n", "\n",
							"    .dataframe thead th {\n", "        text-align: right;\n",
							"    }\n", "</style>\n",
							"<table border=\"1\" class=\"dataframe\">\n", "  <thead>\n",
							"    <tr style=\"text-align: right;\">\n", "      <th></th>\n",
							"      <th>name</th>\n", "      <th>math</th>\n",
							"      <th>physics</th>\n", "      <th>chemistry</th>\n",
							"    </tr>\n", "  </thead>\n", "  <tbody>\n", "    <tr>\n",
							"      <th>0</th>\n", "      <td>A</td>\n", "      <td>60</td>\n",
							"      <td>66</td>\n", "      <td>61</td>\n", "    </tr>\n",
							"    <tr>\n", "      <th>1</th>\n", "      <td>B</td>\n",
							"      <td>89</td>\n", "      <td>95</td>\n",
							"      <td>91</td>\n", "    </tr>\n", "    <tr>\n",
							"      <th>2</th>\n", "      <td>C</td>\n", "      <td>82</td>\n",
							"      <td>83</td>\n", "      <td>77</td>\n", "    </tr>\n",
							"    <tr>\n", "      <th>3</th>\n", "      <td>D</td>\n",
							"      <td>70</td>\n", "      <td>66</td>\n",
							"      <td>70</td>\n", "    </tr>\n", "    <tr>\n",
							"      <th>4</th>\n", "      <td>E</td>\n", "      <td>66</td>\n",
							"      <td>60</td>\n", "      <td>90</td>\n", "    </tr>\n",
							"    <tr>\n", "      <th>5</th>\n", "      <td>F</td>\n",
							"      <td>95</td>\n", "      <td>89</td>\n",
							"      <td>81</td>\n", "    </tr>\n", "    <tr>\n",
							"      <th>6</th>\n", "      <td>G</td>\n", "      <td>83</td>\n",
							"      <td>82</td>\n", "      <td>78</td>\n", "    </tr>\n",
							"    <tr>\n", "      <th>7</th>\n", "      <td>H</td>\n",
							"      <td>66</td>\n", "      <td>70</td>\n",
							"      <td>90</td>\n", "    </tr>\n", "  </tbody>\n",
							"</table>\n", "</div>"
						],
						"text/plain": [
							"  name  math  physics  chemistry\n",
							"0    A    60       66         61\n",
							"1    B    89       95         91\n",
							"2    C    82       83         77\n",
							"3    D    70       66         70\n",
							"4    E    66       60         90\n",
							"5    F    95       89         81\n",
							"6    G    83       82         78\n",
							"7    H    66       70         90"
						]
					},
					"execution_count": 65,
					"metadata": {},
					"output_type": "execute_result"
				}
			],
			"source": ["pd.concat([df1, df2], ignore_index=True)\n"]
		},
		{
			"cell_type": "code",
			"execution_count": 66,
			"metadata": {},
			"outputs": [
				{
					"data": {
						"text/html": [
							"<div>\n", "<style scoped>\n",
							"    .dataframe tbody tr th:only-of-type {\n",
							"        vertical-align: middle;\n", "    }\n", "\n",
							"    .dataframe tbody tr th {\n",
							"        vertical-align: top;\n", "    }\n", "\n",
							"    .dataframe thead th {\n", "        text-align: right;\n",
							"    }\n", "</style>\n",
							"<table border=\"1\" class=\"dataframe\">\n", "  <thead>\n",
							"    <tr style=\"text-align: right;\">\n", "      <th></th>\n",
							"      <th>name</th>\n", "      <th>math</th>\n",
							"      <th>physics</th>\n", "      <th>chemistry</th>\n",
							"      <th>name</th>\n", "      <th>math</th>\n",
							"      <th>physics</th>\n", "      <th>chemistry</th>\n",
							"    </tr>\n", "  </thead>\n", "  <tbody>\n", "    <tr>\n",
							"      <th>0</th>\n", "      <td>A</td>\n", "      <td>60</td>\n",
							"      <td>66</td>\n", "      <td>61</td>\n",
							"      <td>E</td>\n", "      <td>66</td>\n",
							"      <td>60</td>\n", "      <td>90</td>\n", "    </tr>\n",
							"    <tr>\n", "      <th>1</th>\n", "      <td>B</td>\n",
							"      <td>89</td>\n", "      <td>95</td>\n",
							"      <td>91</td>\n", "      <td>F</td>\n",
							"      <td>95</td>\n", "      <td>89</td>\n",
							"      <td>81</td>\n", "    </tr>\n", "    <tr>\n",
							"      <th>2</th>\n", "      <td>C</td>\n", "      <td>82</td>\n",
							"      <td>83</td>\n", "      <td>77</td>\n",
							"      <td>G</td>\n", "      <td>83</td>\n",
							"      <td>82</td>\n", "      <td>78</td>\n", "    </tr>\n",
							"    <tr>\n", "      <th>3</th>\n", "      <td>D</td>\n",
							"      <td>70</td>\n", "      <td>66</td>\n",
							"      <td>70</td>\n", "      <td>H</td>\n",
							"      <td>66</td>\n", "      <td>70</td>\n",
							"      <td>90</td>\n", "    </tr>\n", "  </tbody>\n",
							"</table>\n", "</div>"
						],
						"text/plain": [
							"  name  math  physics  chemistry name  math  physics  chemistry\n",
							"0    A    60       66         61    E    66       60         90\n",
							"1    B    89       95         91    F    95       89         81\n",
							"2    C    82       83         77    G    83       82         78\n",
							"3    D    70       66         70    H    66       70         90"
						]
					},
					"execution_count": 66,
					"metadata": {},
					"output_type": "execute_result"
				}
			],
			"source": ["pd.concat([df1, df2], axis=1)\n"]
		},
		{
			"cell_type": "code",
			"execution_count": 67,
			"metadata": {},
			"outputs": [
				{
					"data": {
						"text/html": [
							"<div>\n", "<style scoped>\n",
							"    .dataframe tbody tr th:only-of-type {\n",
							"        vertical-align: middle;\n", "    }\n", "\n",
							"    .dataframe tbody tr th {\n",
							"        vertical-align: top;\n", "    }\n", "\n",
							"    .dataframe thead th {\n", "        text-align: right;\n",
							"    }\n", "</style>\n",
							"<table border=\"1\" class=\"dataframe\">\n", "  <thead>\n",
							"    <tr style=\"text-align: right;\">\n", "      <th></th>\n",
							"      <th>Class</th>\n", "      <th>name</th>\n",
							"      <th>math</th>\n", "      <th>physics</th>\n",
							"      <th>chemistry</th>\n", "    </tr>\n", "  </thead>\n",
							"  <tbody>\n", "    <tr>\n", "      <th>0</th>\n",
							"      <td>Year 1</td>\n", "      <td>A</td>\n",
							"      <td>60</td>\n", "      <td>66</td>\n",
							"      <td>61</td>\n", "    </tr>\n", "    <tr>\n",
							"      <th>1</th>\n", "      <td>Year 1</td>\n",
							"      <td>B</td>\n", "      <td>89</td>\n",
							"      <td>95</td>\n", "      <td>91</td>\n", "    </tr>\n",
							"    <tr>\n", "      <th>2</th>\n", "      <td>Year 1</td>\n",
							"      <td>C</td>\n", "      <td>82</td>\n",
							"      <td>83</td>\n", "      <td>77</td>\n", "    </tr>\n",
							"    <tr>\n", "      <th>3</th>\n", "      <td>Year 1</td>\n",
							"      <td>D</td>\n", "      <td>70</td>\n",
							"      <td>66</td>\n", "      <td>70</td>\n", "    </tr>\n",
							"    <tr>\n", "      <th>0</th>\n", "      <td>Year 2</td>\n",
							"      <td>E</td>\n", "      <td>66</td>\n",
							"      <td>60</td>\n", "      <td>90</td>\n", "    </tr>\n",
							"    <tr>\n", "      <th>1</th>\n", "      <td>Year 2</td>\n",
							"      <td>F</td>\n", "      <td>95</td>\n",
							"      <td>89</td>\n", "      <td>81</td>\n", "    </tr>\n",
							"    <tr>\n", "      <th>2</th>\n", "      <td>Year 2</td>\n",
							"      <td>G</td>\n", "      <td>83</td>\n",
							"      <td>82</td>\n", "      <td>78</td>\n", "    </tr>\n",
							"    <tr>\n", "      <th>3</th>\n", "      <td>Year 2</td>\n",
							"      <td>H</td>\n", "      <td>66</td>\n",
							"      <td>70</td>\n", "      <td>90</td>\n", "    </tr>\n",
							"  </tbody>\n", "</table>\n", "</div>"
						],
						"text/plain": [
							"    Class name  math  physics  chemistry\n",
							"0  Year 1    A    60       66         61\n",
							"1  Year 1    B    89       95         91\n",
							"2  Year 1    C    82       83         77\n",
							"3  Year 1    D    70       66         70\n",
							"0  Year 2    E    66       60         90\n",
							"1  Year 2    F    95       89         81\n",
							"2  Year 2    G    83       82         78\n",
							"3  Year 2    H    66       70         90"
						]
					},
					"execution_count": 67,
					"metadata": {},
					"output_type": "execute_result"
				}
			],
			"source": [
				"pd.concat([df1, df2], keys=[\"Year 1\", \"Year 2\"], names=[\"Class\", None]).reset_index(\n",
				"    level=0\n", ")\n"
			]
		},
		{
			"cell_type": "code",
			"execution_count": 68,
			"metadata": {},
			"outputs": [
				{
					"data": {
						"text/html": [
							"<div>\n", "<style scoped>\n",
							"    .dataframe tbody tr th:only-of-type {\n",
							"        vertical-align: middle;\n", "    }\n", "\n",
							"    .dataframe tbody tr th {\n",
							"        vertical-align: top;\n", "    }\n", "\n",
							"    .dataframe thead th {\n", "        text-align: right;\n",
							"    }\n", "</style>\n",
							"<table border=\"1\" class=\"dataframe\">\n", "  <thead>\n",
							"    <tr style=\"text-align: right;\">\n", "      <th></th>\n",
							"      <th>chemistry</th>\n", "      <th>math</th>\n",
							"      <th>name</th>\n", "      <th>physics</th>\n",
							"    </tr>\n", "  </thead>\n", "  <tbody>\n", "    <tr>\n",
							"      <th>0</th>\n", "      <td>61</td>\n",
							"      <td>60</td>\n", "      <td>A</td>\n",
							"      <td>66</td>\n", "    </tr>\n", "    <tr>\n",
							"      <th>1</th>\n", "      <td>91</td>\n",
							"      <td>89</td>\n", "      <td>B</td>\n",
							"      <td>95</td>\n", "    </tr>\n", "    <tr>\n",
							"      <th>2</th>\n", "      <td>77</td>\n",
							"      <td>82</td>\n", "      <td>C</td>\n",
							"      <td>83</td>\n", "    </tr>\n", "    <tr>\n",
							"      <th>3</th>\n", "      <td>70</td>\n",
							"      <td>70</td>\n", "      <td>D</td>\n",
							"      <td>66</td>\n", "    </tr>\n", "    <tr>\n",
							"      <th>0</th>\n", "      <td>90</td>\n",
							"      <td>66</td>\n", "      <td>E</td>\n",
							"      <td>60</td>\n", "    </tr>\n", "    <tr>\n",
							"      <th>1</th>\n", "      <td>81</td>\n",
							"      <td>95</td>\n", "      <td>F</td>\n",
							"      <td>89</td>\n", "    </tr>\n", "    <tr>\n",
							"      <th>2</th>\n", "      <td>78</td>\n",
							"      <td>83</td>\n", "      <td>G</td>\n",
							"      <td>82</td>\n", "    </tr>\n", "    <tr>\n",
							"      <th>3</th>\n", "      <td>90</td>\n",
							"      <td>66</td>\n", "      <td>H</td>\n",
							"      <td>70</td>\n", "    </tr>\n", "  </tbody>\n",
							"</table>\n", "</div>"
						],
						"text/plain": [
							"   chemistry  math name  physics\n",
							"0         61    60    A       66\n",
							"1         91    89    B       95\n",
							"2         77    82    C       83\n",
							"3         70    70    D       66\n",
							"0         90    66    E       60\n",
							"1         81    95    F       89\n",
							"2         78    83    G       82\n",
							"3         90    66    H       70"
						]
					},
					"execution_count": 68,
					"metadata": {},
					"output_type": "execute_result"
				}
			],
			"source": ["pd.concat([df1, df2], sort=True)\n"]
		},
		{
			"cell_type": "code",
			"execution_count": null,
			"metadata": {},
			"outputs": [],
			"source": []
		},
		{
			"cell_type": "markdown",
			"metadata": {},
			"source": ["### Merge\n"]
		},
		{
			"cell_type": "code",
			"execution_count": 69,
			"metadata": {},
			"outputs": [
				{
					"data": {
						"text/html": [
							"<div>\n", "<style scoped>\n",
							"    .dataframe tbody tr th:only-of-type {\n",
							"        vertical-align: middle;\n", "    }\n", "\n",
							"    .dataframe tbody tr th {\n",
							"        vertical-align: top;\n", "    }\n", "\n",
							"    .dataframe thead th {\n", "        text-align: right;\n",
							"    }\n", "</style>\n",
							"<table border=\"1\" class=\"dataframe\">\n", "  <thead>\n",
							"    <tr style=\"text-align: right;\">\n", "      <th></th>\n",
							"      <th>movie_id</th>\n", "      <th>title</th>\n",
							"    </tr>\n", "  </thead>\n", "  <tbody>\n", "    <tr>\n",
							"      <th>0</th>\n", "      <td>1</td>\n",
							"      <td>Toy Story (1995)</td>\n", "    </tr>\n", "    <tr>\n",
							"      <th>1</th>\n", "      <td>2</td>\n",
							"      <td>GoldenEye (1995)</td>\n", "    </tr>\n", "    <tr>\n",
							"      <th>2</th>\n", "      <td>3</td>\n",
							"      <td>Four Rooms (1995)</td>\n", "    </tr>\n", "    <tr>\n",
							"      <th>3</th>\n", "      <td>4</td>\n",
							"      <td>Get Shorty (1995)</td>\n", "    </tr>\n", "    <tr>\n",
							"      <th>4</th>\n", "      <td>5</td>\n",
							"      <td>Copycat (1995)</td>\n", "    </tr>\n", "  </tbody>\n",
							"</table>\n", "</div>"
						],
						"text/plain": [
							"   movie_id              title\n",
							"0         1   Toy Story (1995)\n",
							"1         2   GoldenEye (1995)\n",
							"2         3  Four Rooms (1995)\n",
							"3         4  Get Shorty (1995)\n",
							"4         5     Copycat (1995)"
						]
					},
					"execution_count": 69,
					"metadata": {},
					"output_type": "execute_result"
				}
			],
			"source": [
				"movie_cols = [\"movie_id\", \"title\"]\n", "movies = pd.read_csv(\n",
				"    \"data/u.item\", sep=\"|\", header=None, names=movie_cols, usecols=[0, 1]\n",
				")\n", "movies.head()\n"
			]
		},
		{
			"cell_type": "code",
			"execution_count": 70,
			"metadata": {},
			"outputs": [
				{
					"data": {
						"text/plain": ["(1682, 2)"]
					},
					"execution_count": 70,
					"metadata": {},
					"output_type": "execute_result"
				}
			],
			"source": ["movies.shape\n"]
		},
		{
			"cell_type": "code",
			"execution_count": 71,
			"metadata": {},
			"outputs": [
				{
					"data": {
						"text/html": [
							"<div>\n", "<style scoped>\n",
							"    .dataframe tbody tr th:only-of-type {\n",
							"        vertical-align: middle;\n", "    }\n", "\n",
							"    .dataframe tbody tr th {\n",
							"        vertical-align: top;\n", "    }\n", "\n",
							"    .dataframe thead th {\n", "        text-align: right;\n",
							"    }\n", "</style>\n",
							"<table border=\"1\" class=\"dataframe\">\n", "  <thead>\n",
							"    <tr style=\"text-align: right;\">\n", "      <th></th>\n",
							"      <th>user_id</th>\n", "      <th>movie_id</th>\n",
							"      <th>rating</th>\n", "      <th>timestamp</th>\n",
							"    </tr>\n", "  </thead>\n", "  <tbody>\n", "    <tr>\n",
							"      <th>0</th>\n", "      <td>196</td>\n",
							"      <td>242</td>\n", "      <td>3</td>\n",
							"      <td>881250949</td>\n", "    </tr>\n", "    <tr>\n",
							"      <th>1</th>\n", "      <td>186</td>\n",
							"      <td>302</td>\n", "      <td>3</td>\n",
							"      <td>891717742</td>\n", "    </tr>\n", "    <tr>\n",
							"      <th>2</th>\n", "      <td>22</td>\n",
							"      <td>377</td>\n", "      <td>1</td>\n",
							"      <td>878887116</td>\n", "    </tr>\n", "    <tr>\n",
							"      <th>3</th>\n", "      <td>244</td>\n",
							"      <td>51</td>\n", "      <td>2</td>\n",
							"      <td>880606923</td>\n", "    </tr>\n", "    <tr>\n",
							"      <th>4</th>\n", "      <td>166</td>\n",
							"      <td>346</td>\n", "      <td>1</td>\n",
							"      <td>886397596</td>\n", "    </tr>\n", "  </tbody>\n",
							"</table>\n", "</div>"
						],
						"text/plain": [
							"   user_id  movie_id  rating  timestamp\n",
							"0      196       242       3  881250949\n",
							"1      186       302       3  891717742\n",
							"2       22       377       1  878887116\n",
							"3      244        51       2  880606923\n",
							"4      166       346       1  886397596"
						]
					},
					"execution_count": 71,
					"metadata": {},
					"output_type": "execute_result"
				}
			],
			"source": [
				"rating_cols = [\"user_id\", \"movie_id\", \"rating\", \"timestamp\"]\n",
				"ratings = pd.read_csv(\"data/u.data\", sep=\"\\t\", header=None, names=rating_cols)\n",
				"ratings.head()\n"
			]
		},
		{
			"cell_type": "code",
			"execution_count": 72,
			"metadata": {},
			"outputs": [
				{
					"data": {
						"text/plain": ["(100000, 4)"]
					},
					"execution_count": 72,
					"metadata": {},
					"output_type": "execute_result"
				}
			],
			"source": ["ratings.shape\n"]
		},
		{
			"cell_type": "code",
			"execution_count": 73,
			"metadata": {},
			"outputs": [
				{
					"data": {
						"text/html": [
							"<div>\n", "<style scoped>\n",
							"    .dataframe tbody tr th:only-of-type {\n",
							"        vertical-align: middle;\n", "    }\n", "\n",
							"    .dataframe tbody tr th {\n",
							"        vertical-align: top;\n", "    }\n", "\n",
							"    .dataframe thead th {\n", "        text-align: right;\n",
							"    }\n", "</style>\n",
							"<table border=\"1\" class=\"dataframe\">\n", "  <thead>\n",
							"    <tr style=\"text-align: right;\">\n", "      <th></th>\n",
							"      <th>user_id</th>\n", "      <th>movie_id</th>\n",
							"      <th>rating</th>\n", "      <th>timestamp</th>\n",
							"    </tr>\n", "  </thead>\n", "  <tbody>\n", "    <tr>\n",
							"      <th>24</th>\n", "      <td>308</td>\n",
							"      <td>1</td>\n", "      <td>4</td>\n",
							"      <td>887736532</td>\n", "    </tr>\n", "    <tr>\n",
							"      <th>454</th>\n", "      <td>287</td>\n",
							"      <td>1</td>\n", "      <td>5</td>\n",
							"      <td>875334088</td>\n", "    </tr>\n", "    <tr>\n",
							"      <th>957</th>\n", "      <td>148</td>\n",
							"      <td>1</td>\n", "      <td>4</td>\n",
							"      <td>877019411</td>\n", "    </tr>\n", "    <tr>\n",
							"      <th>971</th>\n", "      <td>280</td>\n",
							"      <td>1</td>\n", "      <td>4</td>\n",
							"      <td>891700426</td>\n", "    </tr>\n", "    <tr>\n",
							"      <th>1324</th>\n", "      <td>66</td>\n",
							"      <td>1</td>\n", "      <td>3</td>\n",
							"      <td>883601324</td>\n", "    </tr>\n", "  </tbody>\n",
							"</table>\n", "</div>"
						],
						"text/plain": [
							"      user_id  movie_id  rating  timestamp\n",
							"24        308         1       4  887736532\n",
							"454       287         1       5  875334088\n",
							"957       148         1       4  877019411\n",
							"971       280         1       4  891700426\n",
							"1324       66         1       3  883601324"
						]
					},
					"execution_count": 73,
					"metadata": {},
					"output_type": "execute_result"
				}
			],
			"source": ["ratings.query(\"movie_id == 1\").head()\n"]
		},
		{
			"cell_type": "code",
			"execution_count": 74,
			"metadata": {},
			"outputs": [
				{
					"data": {
						"text/plain": [
							"Index(['movie_id', 'title', 'user_id', 'rating', 'timestamp'], dtype='object')"
						]
					},
					"execution_count": 74,
					"metadata": {},
					"output_type": "execute_result"
				}
			],
			"source": [
				"movie_ratings = movies.merge(ratings)\n", "movie_ratings.columns\n"
			]
		},
		{
			"cell_type": "code",
			"execution_count": 75,
			"metadata": {},
			"outputs": [
				{
					"data": {
						"text/html": [
							"<div>\n", "<style scoped>\n",
							"    .dataframe tbody tr th:only-of-type {\n",
							"        vertical-align: middle;\n", "    }\n", "\n",
							"    .dataframe tbody tr th {\n",
							"        vertical-align: top;\n", "    }\n", "\n",
							"    .dataframe thead th {\n", "        text-align: right;\n",
							"    }\n", "</style>\n",
							"<table border=\"1\" class=\"dataframe\">\n", "  <thead>\n",
							"    <tr style=\"text-align: right;\">\n", "      <th></th>\n",
							"      <th>movie_id</th>\n", "      <th>title</th>\n",
							"      <th>user_id</th>\n", "      <th>rating</th>\n",
							"      <th>timestamp</th>\n", "    </tr>\n", "  </thead>\n",
							"  <tbody>\n", "    <tr>\n", "      <th>0</th>\n",
							"      <td>1</td>\n", "      <td>Toy Story (1995)</td>\n",
							"      <td>308</td>\n", "      <td>4</td>\n",
							"      <td>887736532</td>\n", "    </tr>\n", "    <tr>\n",
							"      <th>1</th>\n", "      <td>1</td>\n",
							"      <td>Toy Story (1995)</td>\n", "      <td>287</td>\n",
							"      <td>5</td>\n", "      <td>875334088</td>\n", "    </tr>\n",
							"    <tr>\n", "      <th>2</th>\n", "      <td>1</td>\n",
							"      <td>Toy Story (1995)</td>\n", "      <td>148</td>\n",
							"      <td>4</td>\n", "      <td>877019411</td>\n", "    </tr>\n",
							"    <tr>\n", "      <th>3</th>\n", "      <td>1</td>\n",
							"      <td>Toy Story (1995)</td>\n", "      <td>280</td>\n",
							"      <td>4</td>\n", "      <td>891700426</td>\n", "    </tr>\n",
							"    <tr>\n", "      <th>4</th>\n", "      <td>1</td>\n",
							"      <td>Toy Story (1995)</td>\n", "      <td>66</td>\n",
							"      <td>3</td>\n", "      <td>883601324</td>\n", "    </tr>\n",
							"  </tbody>\n", "</table>\n", "</div>"
						],
						"text/plain": [
							"   movie_id             title  user_id  rating  timestamp\n",
							"0         1  Toy Story (1995)      308       4  887736532\n",
							"1         1  Toy Story (1995)      287       5  875334088\n",
							"2         1  Toy Story (1995)      148       4  877019411\n",
							"3         1  Toy Story (1995)      280       4  891700426\n",
							"4         1  Toy Story (1995)       66       3  883601324"
						]
					},
					"execution_count": 75,
					"metadata": {},
					"output_type": "execute_result"
				}
			],
			"source": ["movie_ratings.head()\n"]
		},
		{
			"cell_type": "code",
			"execution_count": 76,
			"metadata": {},
			"outputs": [
				{
					"name": "stdout",
					"output_type": "stream",
					"text": ["(1682, 2)\n", "(100000, 4)\n", "(100000, 5)\n"]
				}
			],
			"source": [
				"print(movies.shape)\n", "print(ratings.shape)\n",
				"print(movie_ratings.shape)\n"
			]
		},
		{
			"cell_type": "code",
			"execution_count": 77,
			"metadata": {},
			"outputs": [
				{
					"data": {
						"text/plain": ["Index(['m_id', 'title'], dtype='object')"]
					},
					"execution_count": 77,
					"metadata": {},
					"output_type": "execute_result"
				}
			],
			"source": ["movies.columns = [\"m_id\", \"title\"]\n", "movies.columns\n"]
		},
		{
			"cell_type": "code",
			"execution_count": 78,
			"metadata": {},
			"outputs": [
				{
					"data": {
						"text/plain": [
							"Index(['user_id', 'movie_id', 'rating', 'timestamp'], dtype='object')"
						]
					},
					"execution_count": 78,
					"metadata": {},
					"output_type": "execute_result"
				}
			],
			"source": ["ratings.columns\n"]
		},
		{
			"cell_type": "code",
			"execution_count": 79,
			"metadata": {},
			"outputs": [
				{
					"data": {
						"text/html": [
							"<div>\n", "<style scoped>\n",
							"    .dataframe tbody tr th:only-of-type {\n",
							"        vertical-align: middle;\n", "    }\n", "\n",
							"    .dataframe tbody tr th {\n",
							"        vertical-align: top;\n", "    }\n", "\n",
							"    .dataframe thead th {\n", "        text-align: right;\n",
							"    }\n", "</style>\n",
							"<table border=\"1\" class=\"dataframe\">\n", "  <thead>\n",
							"    <tr style=\"text-align: right;\">\n", "      <th></th>\n",
							"      <th>m_id</th>\n", "      <th>title</th>\n",
							"      <th>user_id</th>\n", "      <th>movie_id</th>\n",
							"      <th>rating</th>\n", "      <th>timestamp</th>\n",
							"    </tr>\n", "  </thead>\n", "  <tbody>\n", "    <tr>\n",
							"      <th>0</th>\n", "      <td>1</td>\n",
							"      <td>Toy Story (1995)</td>\n", "      <td>308</td>\n",
							"      <td>1</td>\n", "      <td>4</td>\n",
							"      <td>887736532</td>\n", "    </tr>\n", "    <tr>\n",
							"      <th>1</th>\n", "      <td>1</td>\n",
							"      <td>Toy Story (1995)</td>\n", "      <td>287</td>\n",
							"      <td>1</td>\n", "      <td>5</td>\n",
							"      <td>875334088</td>\n", "    </tr>\n", "    <tr>\n",
							"      <th>2</th>\n", "      <td>1</td>\n",
							"      <td>Toy Story (1995)</td>\n", "      <td>148</td>\n",
							"      <td>1</td>\n", "      <td>4</td>\n",
							"      <td>877019411</td>\n", "    </tr>\n", "    <tr>\n",
							"      <th>3</th>\n", "      <td>1</td>\n",
							"      <td>Toy Story (1995)</td>\n", "      <td>280</td>\n",
							"      <td>1</td>\n", "      <td>4</td>\n",
							"      <td>891700426</td>\n", "    </tr>\n", "    <tr>\n",
							"      <th>4</th>\n", "      <td>1</td>\n",
							"      <td>Toy Story (1995)</td>\n", "      <td>66</td>\n",
							"      <td>1</td>\n", "      <td>3</td>\n",
							"      <td>883601324</td>\n", "    </tr>\n", "  </tbody>\n",
							"</table>\n", "</div>"
						],
						"text/plain": [
							"   m_id             title  user_id  movie_id  rating  timestamp\n",
							"0     1  Toy Story (1995)      308         1       4  887736532\n",
							"1     1  Toy Story (1995)      287         1       5  875334088\n",
							"2     1  Toy Story (1995)      148         1       4  877019411\n",
							"3     1  Toy Story (1995)      280         1       4  891700426\n",
							"4     1  Toy Story (1995)       66         1       3  883601324"
						]
					},
					"execution_count": 79,
					"metadata": {},
					"output_type": "execute_result"
				}
			],
			"source": [
				"movies.merge(ratings, left_on=\"m_id\", right_on=\"movie_id\").head()\n"
			]
		},
		{
			"cell_type": "code",
			"execution_count": 80,
			"metadata": {},
			"outputs": [
				{
					"data": {
						"text/html": [
							"<div>\n", "<style scoped>\n",
							"    .dataframe tbody tr th:only-of-type {\n",
							"        vertical-align: middle;\n", "    }\n", "\n",
							"    .dataframe tbody tr th {\n",
							"        vertical-align: top;\n", "    }\n", "\n",
							"    .dataframe thead th {\n", "        text-align: right;\n",
							"    }\n", "</style>\n",
							"<table border=\"1\" class=\"dataframe\">\n", "  <thead>\n",
							"    <tr style=\"text-align: right;\">\n", "      <th></th>\n",
							"      <th>m_id</th>\n", "      <th>title</th>\n",
							"      <th>user_id</th>\n", "      <th>movie_id</th>\n",
							"      <th>rating</th>\n", "      <th>timestamp</th>\n",
							"    </tr>\n", "  </thead>\n", "  <tbody>\n", "    <tr>\n",
							"      <th>24</th>\n", "      <td>2</td>\n",
							"      <td>GoldenEye (1995)</td>\n", "      <td>308</td>\n",
							"      <td>1</td>\n", "      <td>4</td>\n",
							"      <td>887736532</td>\n", "    </tr>\n", "    <tr>\n",
							"      <th>454</th>\n", "      <td>2</td>\n",
							"      <td>GoldenEye (1995)</td>\n", "      <td>287</td>\n",
							"      <td>1</td>\n", "      <td>5</td>\n",
							"      <td>875334088</td>\n", "    </tr>\n", "    <tr>\n",
							"      <th>957</th>\n", "      <td>2</td>\n",
							"      <td>GoldenEye (1995)</td>\n", "      <td>148</td>\n",
							"      <td>1</td>\n", "      <td>4</td>\n",
							"      <td>877019411</td>\n", "    </tr>\n", "    <tr>\n",
							"      <th>971</th>\n", "      <td>2</td>\n",
							"      <td>GoldenEye (1995)</td>\n", "      <td>280</td>\n",
							"      <td>1</td>\n", "      <td>4</td>\n",
							"      <td>891700426</td>\n", "    </tr>\n", "    <tr>\n",
							"      <th>1324</th>\n", "      <td>2</td>\n",
							"      <td>GoldenEye (1995)</td>\n", "      <td>66</td>\n",
							"      <td>1</td>\n", "      <td>3</td>\n",
							"      <td>883601324</td>\n", "    </tr>\n", "  </tbody>\n",
							"</table>\n", "</div>"
						],
						"text/plain": [
							"      m_id             title  user_id  movie_id  rating  timestamp\n",
							"24       2  GoldenEye (1995)      308         1       4  887736532\n",
							"454      2  GoldenEye (1995)      287         1       5  875334088\n",
							"957      2  GoldenEye (1995)      148         1       4  877019411\n",
							"971      2  GoldenEye (1995)      280         1       4  891700426\n",
							"1324     2  GoldenEye (1995)       66         1       3  883601324"
						]
					},
					"execution_count": 80,
					"metadata": {},
					"output_type": "execute_result"
				}
			],
			"source": [
				"movies.merge(ratings, left_index=True, right_on=\"movie_id\").head()\n"
			]
		},
		{
			"cell_type": "code",
			"execution_count": 81,
			"metadata": {},
			"outputs": [
				{
					"data": {
						"text/html": [
							"<div>\n", "<style scoped>\n",
							"    .dataframe tbody tr th:only-of-type {\n",
							"        vertical-align: middle;\n", "    }\n", "\n",
							"    .dataframe tbody tr th {\n",
							"        vertical-align: top;\n", "    }\n", "\n",
							"    .dataframe thead th {\n", "        text-align: right;\n",
							"    }\n", "</style>\n",
							"<table border=\"1\" class=\"dataframe\">\n", "  <thead>\n",
							"    <tr style=\"text-align: right;\">\n", "      <th></th>\n",
							"      <th>m_id</th>\n", "      <th>title</th>\n",
							"      <th>user_id</th>\n", "      <th>movie_id</th>\n",
							"      <th>rating</th>\n", "      <th>timestamp</th>\n",
							"    </tr>\n", "  </thead>\n", "  <tbody>\n", "    <tr>\n",
							"      <th>0</th>\n", "      <td>1</td>\n",
							"      <td>Toy Story (1995)</td>\n", "      <td>196</td>\n",
							"      <td>242</td>\n", "      <td>3</td>\n",
							"      <td>881250949</td>\n", "    </tr>\n", "    <tr>\n",
							"      <th>1</th>\n", "      <td>2</td>\n",
							"      <td>GoldenEye (1995)</td>\n", "      <td>186</td>\n",
							"      <td>302</td>\n", "      <td>3</td>\n",
							"      <td>891717742</td>\n", "    </tr>\n", "    <tr>\n",
							"      <th>2</th>\n", "      <td>3</td>\n",
							"      <td>Four Rooms (1995)</td>\n", "      <td>22</td>\n",
							"      <td>377</td>\n", "      <td>1</td>\n",
							"      <td>878887116</td>\n", "    </tr>\n", "    <tr>\n",
							"      <th>3</th>\n", "      <td>4</td>\n",
							"      <td>Get Shorty (1995)</td>\n", "      <td>244</td>\n",
							"      <td>51</td>\n", "      <td>2</td>\n",
							"      <td>880606923</td>\n", "    </tr>\n", "    <tr>\n",
							"      <th>4</th>\n", "      <td>5</td>\n",
							"      <td>Copycat (1995)</td>\n", "      <td>166</td>\n",
							"      <td>346</td>\n", "      <td>1</td>\n",
							"      <td>886397596</td>\n", "    </tr>\n", "  </tbody>\n",
							"</table>\n", "</div>"
						],
						"text/plain": [
							"   m_id              title  user_id  movie_id  rating  timestamp\n",
							"0     1   Toy Story (1995)      196       242       3  881250949\n",
							"1     2   GoldenEye (1995)      186       302       3  891717742\n",
							"2     3  Four Rooms (1995)       22       377       1  878887116\n",
							"3     4  Get Shorty (1995)      244        51       2  880606923\n",
							"4     5     Copycat (1995)      166       346       1  886397596"
						]
					},
					"execution_count": 81,
					"metadata": {},
					"output_type": "execute_result"
				}
			],
			"source": [
				"movies.merge(ratings, left_index=True, right_index=True).head()\n"
			]
		},
		{
			"cell_type": "markdown",
			"metadata": {},
			"source": ["### Merge with MultiIndexes\n"]
		},
		{
			"cell_type": "code",
			"execution_count": 82,
			"metadata": {},
			"outputs": [
				{
					"data": {
						"text/html": [
							"<div>\n", "<style scoped>\n",
							"    .dataframe tbody tr th:only-of-type {\n",
							"        vertical-align: middle;\n", "    }\n", "\n",
							"    .dataframe tbody tr th {\n",
							"        vertical-align: top;\n", "    }\n", "\n",
							"    .dataframe thead th {\n", "        text-align: right;\n",
							"    }\n", "</style>\n",
							"<table border=\"1\" class=\"dataframe\">\n", "  <thead>\n",
							"    <tr style=\"text-align: right;\">\n", "      <th></th>\n",
							"      <th></th>\n", "      <th>Close</th>\n", "    </tr>\n",
							"    <tr>\n", "      <th>Symbol</th>\n", "      <th>Date</th>\n",
							"      <th></th>\n", "    </tr>\n", "  </thead>\n", "  <tbody>\n",
							"    <tr>\n",
							"      <th rowspan=\"3\" valign=\"top\">AAPL</th>\n",
							"      <th>2016-10-03</th>\n", "      <td>112.52</td>\n",
							"    </tr>\n", "    <tr>\n", "      <th>2016-10-04</th>\n",
							"      <td>113.00</td>\n", "    </tr>\n", "    <tr>\n",
							"      <th>2016-10-05</th>\n", "      <td>113.05</td>\n",
							"    </tr>\n", "    <tr>\n",
							"      <th rowspan=\"3\" valign=\"top\">CSCO</th>\n",
							"      <th>2016-10-03</th>\n", "      <td>31.50</td>\n",
							"    </tr>\n", "    <tr>\n", "      <th>2016-10-04</th>\n",
							"      <td>31.35</td>\n", "    </tr>\n", "    <tr>\n",
							"      <th>2016-10-05</th>\n", "      <td>31.59</td>\n",
							"    </tr>\n", "    <tr>\n",
							"      <th rowspan=\"3\" valign=\"top\">MSFT</th>\n",
							"      <th>2016-10-03</th>\n", "      <td>57.42</td>\n",
							"    </tr>\n", "    <tr>\n", "      <th>2016-10-04</th>\n",
							"      <td>57.24</td>\n", "    </tr>\n", "    <tr>\n",
							"      <th>2016-10-05</th>\n", "      <td>57.64</td>\n",
							"    </tr>\n", "  </tbody>\n", "</table>\n", "</div>"
						],
						"text/plain": [
							"                    Close\n", "Symbol Date              \n",
							"AAPL   2016-10-03  112.52\n", "       2016-10-04  113.00\n",
							"       2016-10-05  113.05\n", "CSCO   2016-10-03   31.50\n",
							"       2016-10-04   31.35\n", "       2016-10-05   31.59\n",
							"MSFT   2016-10-03   57.42\n", "       2016-10-04   57.24\n",
							"       2016-10-05   57.64"
						]
					},
					"execution_count": 82,
					"metadata": {},
					"output_type": "execute_result"
				}
			],
			"source": [
				"close = pd.read_csv(\n",
				"    \"data/stocks.csv\", usecols=[0, 1, 3], index_col=[\"Symbol\", \"Date\"]\n",
				").sort_index()\n", "close\n"
			]
		},
		{
			"cell_type": "code",
			"execution_count": 83,
			"metadata": {},
			"outputs": [
				{
					"data": {
						"text/html": [
							"<div>\n", "<style scoped>\n",
							"    .dataframe tbody tr th:only-of-type {\n",
							"        vertical-align: middle;\n", "    }\n", "\n",
							"    .dataframe tbody tr th {\n",
							"        vertical-align: top;\n", "    }\n", "\n",
							"    .dataframe thead th {\n", "        text-align: right;\n",
							"    }\n", "</style>\n",
							"<table border=\"1\" class=\"dataframe\">\n", "  <thead>\n",
							"    <tr style=\"text-align: right;\">\n", "      <th></th>\n",
							"      <th></th>\n", "      <th>Volume</th>\n", "    </tr>\n",
							"    <tr>\n", "      <th>Symbol</th>\n", "      <th>Date</th>\n",
							"      <th></th>\n", "    </tr>\n", "  </thead>\n", "  <tbody>\n",
							"    <tr>\n",
							"      <th rowspan=\"3\" valign=\"top\">AAPL</th>\n",
							"      <th>2016-10-03</th>\n", "      <td>21701800</td>\n",
							"    </tr>\n", "    <tr>\n", "      <th>2016-10-04</th>\n",
							"      <td>29736800</td>\n", "    </tr>\n", "    <tr>\n",
							"      <th>2016-10-05</th>\n", "      <td>21453100</td>\n",
							"    </tr>\n", "    <tr>\n",
							"      <th rowspan=\"3\" valign=\"top\">CSCO</th>\n",
							"      <th>2016-10-03</th>\n", "      <td>14070500</td>\n",
							"    </tr>\n", "    <tr>\n", "      <th>2016-10-04</th>\n",
							"      <td>18460400</td>\n", "    </tr>\n", "    <tr>\n",
							"      <th>2016-10-05</th>\n", "      <td>11808600</td>\n",
							"    </tr>\n", "    <tr>\n",
							"      <th rowspan=\"3\" valign=\"top\">MSFT</th>\n",
							"      <th>2016-10-03</th>\n", "      <td>19189500</td>\n",
							"    </tr>\n", "    <tr>\n", "      <th>2016-10-04</th>\n",
							"      <td>20085900</td>\n", "    </tr>\n", "    <tr>\n",
							"      <th>2016-10-05</th>\n", "      <td>16726400</td>\n",
							"    </tr>\n", "  </tbody>\n", "</table>\n", "</div>"
						],
						"text/plain": [
							"                     Volume\n", "Symbol Date                \n",
							"AAPL   2016-10-03  21701800\n", "       2016-10-04  29736800\n",
							"       2016-10-05  21453100\n", "CSCO   2016-10-03  14070500\n",
							"       2016-10-04  18460400\n", "       2016-10-05  11808600\n",
							"MSFT   2016-10-03  19189500\n", "       2016-10-04  20085900\n",
							"       2016-10-05  16726400"
						]
					},
					"execution_count": 83,
					"metadata": {},
					"output_type": "execute_result"
				}
			],
			"source": [
				"volume = pd.read_csv(\n",
				"    \"data/stocks.csv\", usecols=[0, 2, 3], index_col=[\"Symbol\", \"Date\"]\n",
				").sort_index()\n", "volume\n"
			]
		},
		{
			"cell_type": "code",
			"execution_count": 84,
			"metadata": {},
			"outputs": [
				{
					"data": {
						"text/html": [
							"<div>\n", "<style scoped>\n",
							"    .dataframe tbody tr th:only-of-type {\n",
							"        vertical-align: middle;\n", "    }\n", "\n",
							"    .dataframe tbody tr th {\n",
							"        vertical-align: top;\n", "    }\n", "\n",
							"    .dataframe thead th {\n", "        text-align: right;\n",
							"    }\n", "</style>\n",
							"<table border=\"1\" class=\"dataframe\">\n", "  <thead>\n",
							"    <tr style=\"text-align: right;\">\n", "      <th></th>\n",
							"      <th></th>\n", "      <th>Close</th>\n",
							"      <th>Volume</th>\n", "    </tr>\n", "    <tr>\n",
							"      <th>Symbol</th>\n", "      <th>Date</th>\n",
							"      <th></th>\n", "      <th></th>\n", "    </tr>\n",
							"  </thead>\n", "  <tbody>\n", "    <tr>\n",
							"      <th rowspan=\"3\" valign=\"top\">AAPL</th>\n",
							"      <th>2016-10-03</th>\n", "      <td>112.52</td>\n",
							"      <td>21701800</td>\n", "    </tr>\n", "    <tr>\n",
							"      <th>2016-10-04</th>\n", "      <td>113.00</td>\n",
							"      <td>29736800</td>\n", "    </tr>\n", "    <tr>\n",
							"      <th>2016-10-05</th>\n", "      <td>113.05</td>\n",
							"      <td>21453100</td>\n", "    </tr>\n", "    <tr>\n",
							"      <th rowspan=\"3\" valign=\"top\">CSCO</th>\n",
							"      <th>2016-10-03</th>\n", "      <td>31.50</td>\n",
							"      <td>14070500</td>\n", "    </tr>\n", "    <tr>\n",
							"      <th>2016-10-04</th>\n", "      <td>31.35</td>\n",
							"      <td>18460400</td>\n", "    </tr>\n", "    <tr>\n",
							"      <th>2016-10-05</th>\n", "      <td>31.59</td>\n",
							"      <td>11808600</td>\n", "    </tr>\n", "    <tr>\n",
							"      <th rowspan=\"3\" valign=\"top\">MSFT</th>\n",
							"      <th>2016-10-03</th>\n", "      <td>57.42</td>\n",
							"      <td>19189500</td>\n", "    </tr>\n", "    <tr>\n",
							"      <th>2016-10-04</th>\n", "      <td>57.24</td>\n",
							"      <td>20085900</td>\n", "    </tr>\n", "    <tr>\n",
							"      <th>2016-10-05</th>\n", "      <td>57.64</td>\n",
							"      <td>16726400</td>\n", "    </tr>\n", "  </tbody>\n",
							"</table>\n", "</div>"
						],
						"text/plain": [
							"                    Close    Volume\n",
							"Symbol Date                        \n",
							"AAPL   2016-10-03  112.52  21701800\n",
							"       2016-10-04  113.00  29736800\n",
							"       2016-10-05  113.05  21453100\n",
							"CSCO   2016-10-03   31.50  14070500\n",
							"       2016-10-04   31.35  18460400\n",
							"       2016-10-05   31.59  11808600\n",
							"MSFT   2016-10-03   57.42  19189500\n",
							"       2016-10-04   57.24  20085900\n",
							"       2016-10-05   57.64  16726400"
						]
					},
					"execution_count": 84,
					"metadata": {},
					"output_type": "execute_result"
				}
			],
			"source": [
				"both = close.merge(volume, left_index=True, right_index=True)\n",
				"both\n"
			]
		},
		{
			"cell_type": "code",
			"execution_count": 85,
			"metadata": {},
			"outputs": [
				{
					"data": {
						"text/html": [
							"<div>\n", "<style scoped>\n",
							"    .dataframe tbody tr th:only-of-type {\n",
							"        vertical-align: middle;\n", "    }\n", "\n",
							"    .dataframe tbody tr th {\n",
							"        vertical-align: top;\n", "    }\n", "\n",
							"    .dataframe thead th {\n", "        text-align: right;\n",
							"    }\n", "</style>\n",
							"<table border=\"1\" class=\"dataframe\">\n", "  <thead>\n",
							"    <tr style=\"text-align: right;\">\n", "      <th></th>\n",
							"      <th>Symbol</th>\n", "      <th>Date</th>\n",
							"      <th>Close</th>\n", "      <th>Volume</th>\n",
							"    </tr>\n", "  </thead>\n", "  <tbody>\n", "    <tr>\n",
							"      <th>0</th>\n", "      <td>AAPL</td>\n",
							"      <td>2016-10-03</td>\n", "      <td>112.52</td>\n",
							"      <td>21701800</td>\n", "    </tr>\n", "    <tr>\n",
							"      <th>1</th>\n", "      <td>AAPL</td>\n",
							"      <td>2016-10-04</td>\n", "      <td>113.00</td>\n",
							"      <td>29736800</td>\n", "    </tr>\n", "    <tr>\n",
							"      <th>2</th>\n", "      <td>AAPL</td>\n",
							"      <td>2016-10-05</td>\n", "      <td>113.05</td>\n",
							"      <td>21453100</td>\n", "    </tr>\n", "    <tr>\n",
							"      <th>3</th>\n", "      <td>CSCO</td>\n",
							"      <td>2016-10-03</td>\n", "      <td>31.50</td>\n",
							"      <td>14070500</td>\n", "    </tr>\n", "    <tr>\n",
							"      <th>4</th>\n", "      <td>CSCO</td>\n",
							"      <td>2016-10-04</td>\n", "      <td>31.35</td>\n",
							"      <td>18460400</td>\n", "    </tr>\n", "    <tr>\n",
							"      <th>5</th>\n", "      <td>CSCO</td>\n",
							"      <td>2016-10-05</td>\n", "      <td>31.59</td>\n",
							"      <td>11808600</td>\n", "    </tr>\n", "    <tr>\n",
							"      <th>6</th>\n", "      <td>MSFT</td>\n",
							"      <td>2016-10-03</td>\n", "      <td>57.42</td>\n",
							"      <td>19189500</td>\n", "    </tr>\n", "    <tr>\n",
							"      <th>7</th>\n", "      <td>MSFT</td>\n",
							"      <td>2016-10-04</td>\n", "      <td>57.24</td>\n",
							"      <td>20085900</td>\n", "    </tr>\n", "    <tr>\n",
							"      <th>8</th>\n", "      <td>MSFT</td>\n",
							"      <td>2016-10-05</td>\n", "      <td>57.64</td>\n",
							"      <td>16726400</td>\n", "    </tr>\n", "  </tbody>\n",
							"</table>\n", "</div>"
						],
						"text/plain": [
							"  Symbol        Date   Close    Volume\n",
							"0   AAPL  2016-10-03  112.52  21701800\n",
							"1   AAPL  2016-10-04  113.00  29736800\n",
							"2   AAPL  2016-10-05  113.05  21453100\n",
							"3   CSCO  2016-10-03   31.50  14070500\n",
							"4   CSCO  2016-10-04   31.35  18460400\n",
							"5   CSCO  2016-10-05   31.59  11808600\n",
							"6   MSFT  2016-10-03   57.42  19189500\n",
							"7   MSFT  2016-10-04   57.24  20085900\n",
							"8   MSFT  2016-10-05   57.64  16726400"
						]
					},
					"execution_count": 85,
					"metadata": {},
					"output_type": "execute_result"
				}
			],
			"source": ["both.reset_index()\n"]
		},
		{
			"cell_type": "markdown",
			"metadata": {},
			"source": ["### Join\n"]
		},
		{
			"cell_type": "code",
			"execution_count": 86,
			"metadata": {},
			"outputs": [
				{
					"data": {
						"text/html": [
							"<div>\n", "<style scoped>\n",
							"    .dataframe tbody tr th:only-of-type {\n",
							"        vertical-align: middle;\n", "    }\n", "\n",
							"    .dataframe tbody tr th {\n",
							"        vertical-align: top;\n", "    }\n", "\n",
							"    .dataframe thead th {\n", "        text-align: right;\n",
							"    }\n", "</style>\n",
							"<table border=\"1\" class=\"dataframe\">\n", "  <thead>\n",
							"    <tr style=\"text-align: right;\">\n", "      <th></th>\n",
							"      <th>color</th>\n", "      <th>num</th>\n", "    </tr>\n",
							"  </thead>\n", "  <tbody>\n", "    <tr>\n", "      <th>0</th>\n",
							"      <td>green</td>\n", "      <td>1</td>\n", "    </tr>\n",
							"    <tr>\n", "      <th>1</th>\n", "      <td>yellow</td>\n",
							"      <td>2</td>\n", "    </tr>\n", "    <tr>\n",
							"      <th>2</th>\n", "      <td>red</td>\n",
							"      <td>3</td>\n", "    </tr>\n", "  </tbody>\n", "</table>\n",
							"</div>"
						],
						"text/plain": [
							"    color  num\n", "0   green    1\n", "1  yellow    2\n",
							"2     red    3"
						]
					},
					"execution_count": 86,
					"metadata": {},
					"output_type": "execute_result"
				}
			],
			"source": [
				"A = pd.DataFrame({\"color\": [\"green\", \"yellow\", \"red\"], \"num\": [1, 2, 3]})\n",
				"A\n"
			]
		},
		{
			"cell_type": "code",
			"execution_count": 87,
			"metadata": {},
			"outputs": [
				{
					"data": {
						"text/html": [
							"<div>\n", "<style scoped>\n",
							"    .dataframe tbody tr th:only-of-type {\n",
							"        vertical-align: middle;\n", "    }\n", "\n",
							"    .dataframe tbody tr th {\n",
							"        vertical-align: top;\n", "    }\n", "\n",
							"    .dataframe thead th {\n", "        text-align: right;\n",
							"    }\n", "</style>\n",
							"<table border=\"1\" class=\"dataframe\">\n", "  <thead>\n",
							"    <tr style=\"text-align: right;\">\n", "      <th></th>\n",
							"      <th>color</th>\n", "      <th>size</th>\n", "    </tr>\n",
							"  </thead>\n", "  <tbody>\n", "    <tr>\n", "      <th>0</th>\n",
							"      <td>green</td>\n", "      <td>S</td>\n", "    </tr>\n",
							"    <tr>\n", "      <th>1</th>\n", "      <td>yellow</td>\n",
							"      <td>M</td>\n", "    </tr>\n", "    <tr>\n",
							"      <th>2</th>\n", "      <td>pink</td>\n",
							"      <td>L</td>\n", "    </tr>\n", "  </tbody>\n", "</table>\n",
							"</div>"
						],
						"text/plain": [
							"    color size\n", "0   green    S\n", "1  yellow    M\n",
							"2    pink    L"
						]
					},
					"execution_count": 87,
					"metadata": {},
					"output_type": "execute_result"
				}
			],
			"source": [
				"B = pd.DataFrame({\"color\": [\"green\", \"yellow\", \"pink\"], \"size\": [\"S\", \"M\", \"L\"]})\n",
				"B\n"
			]
		},
		{
			"cell_type": "markdown",
			"metadata": {},
			"source": [
				"Inner join: Only include observations found in both A and B:\n"
			]
		},
		{
			"cell_type": "code",
			"execution_count": 88,
			"metadata": {},
			"outputs": [
				{
					"data": {
						"text/html": [
							"<div>\n", "<style scoped>\n",
							"    .dataframe tbody tr th:only-of-type {\n",
							"        vertical-align: middle;\n", "    }\n", "\n",
							"    .dataframe tbody tr th {\n",
							"        vertical-align: top;\n", "    }\n", "\n",
							"    .dataframe thead th {\n", "        text-align: right;\n",
							"    }\n", "</style>\n",
							"<table border=\"1\" class=\"dataframe\">\n", "  <thead>\n",
							"    <tr style=\"text-align: right;\">\n", "      <th></th>\n",
							"      <th>color</th>\n", "      <th>num</th>\n",
							"      <th>size</th>\n", "    </tr>\n", "  </thead>\n",
							"  <tbody>\n", "    <tr>\n", "      <th>0</th>\n",
							"      <td>green</td>\n", "      <td>1</td>\n",
							"      <td>S</td>\n", "    </tr>\n", "    <tr>\n",
							"      <th>1</th>\n", "      <td>yellow</td>\n",
							"      <td>2</td>\n", "      <td>M</td>\n", "    </tr>\n",
							"  </tbody>\n", "</table>\n", "</div>"
						],
						"text/plain": [
							"    color  num size\n", "0   green    1    S\n",
							"1  yellow    2    M"
						]
					},
					"execution_count": 88,
					"metadata": {},
					"output_type": "execute_result"
				}
			],
			"source": ["A.merge(B, how=\"inner\")\n"]
		},
		{
			"cell_type": "markdown",
			"metadata": {},
			"source": ["Outer join: Include observations found in either A or B:\n"]
		},
		{
			"cell_type": "code",
			"execution_count": 89,
			"metadata": {},
			"outputs": [
				{
					"data": {
						"text/html": [
							"<div>\n", "<style scoped>\n",
							"    .dataframe tbody tr th:only-of-type {\n",
							"        vertical-align: middle;\n", "    }\n", "\n",
							"    .dataframe tbody tr th {\n",
							"        vertical-align: top;\n", "    }\n", "\n",
							"    .dataframe thead th {\n", "        text-align: right;\n",
							"    }\n", "</style>\n",
							"<table border=\"1\" class=\"dataframe\">\n", "  <thead>\n",
							"    <tr style=\"text-align: right;\">\n", "      <th></th>\n",
							"      <th>color</th>\n", "      <th>num</th>\n",
							"      <th>size</th>\n", "    </tr>\n", "  </thead>\n",
							"  <tbody>\n", "    <tr>\n", "      <th>0</th>\n",
							"      <td>green</td>\n", "      <td>1.0</td>\n",
							"      <td>S</td>\n", "    </tr>\n", "    <tr>\n",
							"      <th>1</th>\n", "      <td>yellow</td>\n",
							"      <td>2.0</td>\n", "      <td>M</td>\n", "    </tr>\n",
							"    <tr>\n", "      <th>2</th>\n", "      <td>red</td>\n",
							"      <td>3.0</td>\n", "      <td>NaN</td>\n", "    </tr>\n",
							"    <tr>\n", "      <th>3</th>\n", "      <td>pink</td>\n",
							"      <td>NaN</td>\n", "      <td>L</td>\n", "    </tr>\n",
							"  </tbody>\n", "</table>\n", "</div>"
						],
						"text/plain": [
							"    color  num size\n", "0   green  1.0    S\n",
							"1  yellow  2.0    M\n", "2     red  3.0  NaN\n",
							"3    pink  NaN    L"
						]
					},
					"execution_count": 89,
					"metadata": {},
					"output_type": "execute_result"
				}
			],
			"source": ["A.merge(B, how=\"outer\")\n"]
		},
		{
			"cell_type": "markdown",
			"metadata": {},
			"source": ["Left join: Include all observations found in A:\n"]
		},
		{
			"cell_type": "code",
			"execution_count": 90,
			"metadata": {},
			"outputs": [
				{
					"data": {
						"text/html": [
							"<div>\n", "<style scoped>\n",
							"    .dataframe tbody tr th:only-of-type {\n",
							"        vertical-align: middle;\n", "    }\n", "\n",
							"    .dataframe tbody tr th {\n",
							"        vertical-align: top;\n", "    }\n", "\n",
							"    .dataframe thead th {\n", "        text-align: right;\n",
							"    }\n", "</style>\n",
							"<table border=\"1\" class=\"dataframe\">\n", "  <thead>\n",
							"    <tr style=\"text-align: right;\">\n", "      <th></th>\n",
							"      <th>color</th>\n", "      <th>num</th>\n",
							"      <th>size</th>\n", "    </tr>\n", "  </thead>\n",
							"  <tbody>\n", "    <tr>\n", "      <th>0</th>\n",
							"      <td>green</td>\n", "      <td>1</td>\n",
							"      <td>S</td>\n", "    </tr>\n", "    <tr>\n",
							"      <th>1</th>\n", "      <td>yellow</td>\n",
							"      <td>2</td>\n", "      <td>M</td>\n", "    </tr>\n",
							"    <tr>\n", "      <th>2</th>\n", "      <td>red</td>\n",
							"      <td>3</td>\n", "      <td>NaN</td>\n", "    </tr>\n",
							"  </tbody>\n", "</table>\n", "</div>"
						],
						"text/plain": [
							"    color  num size\n", "0   green    1    S\n",
							"1  yellow    2    M\n", "2     red    3  NaN"
						]
					},
					"execution_count": 90,
					"metadata": {},
					"output_type": "execute_result"
				}
			],
			"source": ["A.merge(B, how=\"left\")\n"]
		},
		{
			"cell_type": "markdown",
			"metadata": {},
			"source": ["Right join: Include all observations found in B:\n"]
		},
		{
			"cell_type": "code",
			"execution_count": 91,
			"metadata": {},
			"outputs": [
				{
					"data": {
						"text/html": [
							"<div>\n", "<style scoped>\n",
							"    .dataframe tbody tr th:only-of-type {\n",
							"        vertical-align: middle;\n", "    }\n", "\n",
							"    .dataframe tbody tr th {\n",
							"        vertical-align: top;\n", "    }\n", "\n",
							"    .dataframe thead th {\n", "        text-align: right;\n",
							"    }\n", "</style>\n",
							"<table border=\"1\" class=\"dataframe\">\n", "  <thead>\n",
							"    <tr style=\"text-align: right;\">\n", "      <th></th>\n",
							"      <th>color</th>\n", "      <th>num</th>\n",
							"      <th>size</th>\n", "    </tr>\n", "  </thead>\n",
							"  <tbody>\n", "    <tr>\n", "      <th>0</th>\n",
							"      <td>green</td>\n", "      <td>1.0</td>\n",
							"      <td>S</td>\n", "    </tr>\n", "    <tr>\n",
							"      <th>1</th>\n", "      <td>yellow</td>\n",
							"      <td>2.0</td>\n", "      <td>M</td>\n", "    </tr>\n",
							"    <tr>\n", "      <th>2</th>\n", "      <td>pink</td>\n",
							"      <td>NaN</td>\n", "      <td>L</td>\n", "    </tr>\n",
							"  </tbody>\n", "</table>\n", "</div>"
						],
						"text/plain": [
							"    color  num size\n", "0   green  1.0    S\n",
							"1  yellow  2.0    M\n", "2    pink  NaN    L"
						]
					},
					"execution_count": 91,
					"metadata": {},
					"output_type": "execute_result"
				}
			],
			"source": ["A.merge(B, how=\"right\")\n"]
		},
		{
			"cell_type": "markdown",
			"metadata": {},
			"source": ["### Explode\n"]
		},
		{
			"cell_type": "code",
			"execution_count": 95,
			"metadata": {},
			"outputs": [
				{
					"data": {
						"text/html": [
							"<div>\n", "<style scoped>\n",
							"    .dataframe tbody tr th:only-of-type {\n",
							"        vertical-align: middle;\n", "    }\n", "\n",
							"    .dataframe tbody tr th {\n",
							"        vertical-align: top;\n", "    }\n", "\n",
							"    .dataframe thead th {\n", "        text-align: right;\n",
							"    }\n", "</style>\n",
							"<table border=\"1\" class=\"dataframe\">\n", "  <thead>\n",
							"    <tr style=\"text-align: right;\">\n", "      <th></th>\n",
							"      <th>order_id</th>\n", "      <th>quantity</th>\n",
							"      <th>item_name</th>\n",
							"      <th>choice_description</th>\n",
							"      <th>item_price</th>\n", "    </tr>\n", "  </thead>\n",
							"  <tbody>\n", "    <tr>\n", "      <th>0</th>\n",
							"      <td>1</td>\n", "      <td>1</td>\n",
							"      <td>Chips and Fresh Tomato Salsa</td>\n",
							"      <td>NaN</td>\n", "      <td>$2.39</td>\n", "    </tr>\n",
							"    <tr>\n", "      <th>1</th>\n", "      <td>1</td>\n",
							"      <td>1</td>\n", "      <td>Izze</td>\n",
							"      <td>[Clementine]</td>\n", "      <td>$3.39</td>\n",
							"    </tr>\n", "    <tr>\n", "      <th>2</th>\n",
							"      <td>1</td>\n", "      <td>1</td>\n",
							"      <td>Nantucket Nectar</td>\n", "      <td>[Apple]</td>\n",
							"      <td>$3.39</td>\n", "    </tr>\n", "    <tr>\n",
							"      <th>3</th>\n", "      <td>1</td>\n", "      <td>1</td>\n",
							"      <td>Chips and Tomatillo-Green Chili Salsa</td>\n",
							"      <td>NaN</td>\n", "      <td>$2.39</td>\n", "    </tr>\n",
							"    <tr>\n", "      <th>4</th>\n", "      <td>2</td>\n",
							"      <td>2</td>\n", "      <td>Chicken Bowl</td>\n",
							"      <td>[Tomatillo-Red Chili Salsa (Hot), [Black Beans...</td>\n",
							"      <td>$16.98</td>\n", "    </tr>\n", "  </tbody>\n",
							"</table>\n", "</div>"
						],
						"text/plain": [
							"   order_id  quantity                              item_name  \\\n",
							"0         1         1           Chips and Fresh Tomato Salsa   \n",
							"1         1         1                                   Izze   \n",
							"2         1         1                       Nantucket Nectar   \n",
							"3         1         1  Chips and Tomatillo-Green Chili Salsa   \n",
							"4         2         2                           Chicken Bowl   \n",
							"\n",
							"                                  choice_description item_price  \n",
							"0                                                NaN      $2.39  \n",
							"1                                       [Clementine]      $3.39  \n",
							"2                                            [Apple]      $3.39  \n",
							"3                                                NaN      $2.39  \n",
							"4  [Tomatillo-Red Chili Salsa (Hot), [Black Beans...     $16.98  "
						]
					},
					"execution_count": 95,
					"metadata": {},
					"output_type": "execute_result"
				}
			],
			"source": [
				"orders = pd.read_csv(\"data/chipotle.tsv\", sep='\\t')\n",
				"orders.head()"
			]
		},
		{
			"cell_type": "code",
			"execution_count": 96,
			"metadata": {},
			"outputs": [
				{
					"data": {
						"text/html": [
							"<div>\n", "<style scoped>\n",
							"    .dataframe tbody tr th:only-of-type {\n",
							"        vertical-align: middle;\n", "    }\n", "\n",
							"    .dataframe tbody tr th {\n",
							"        vertical-align: top;\n", "    }\n", "\n",
							"    .dataframe thead th {\n", "        text-align: right;\n",
							"    }\n", "</style>\n",
							"<table border=\"1\" class=\"dataframe\">\n", "  <thead>\n",
							"    <tr style=\"text-align: right;\">\n", "      <th></th>\n",
							"      <th>order_id</th>\n", "      <th>quantity</th>\n",
							"      <th>item_name</th>\n",
							"      <th>choice_description</th>\n",
							"      <th>item_price</th>\n", "    </tr>\n", "  </thead>\n",
							"  <tbody>\n", "    <tr>\n", "      <th>0</th>\n",
							"      <td>1</td>\n", "      <td>1</td>\n",
							"      <td>[Chips, and, Fresh, Tomato, Salsa]</td>\n",
							"      <td>NaN</td>\n", "      <td>$2.39</td>\n", "    </tr>\n",
							"    <tr>\n", "      <th>1</th>\n", "      <td>1</td>\n",
							"      <td>1</td>\n", "      <td>[Izze]</td>\n",
							"      <td>[Clementine]</td>\n", "      <td>$3.39</td>\n",
							"    </tr>\n", "    <tr>\n", "      <th>2</th>\n",
							"      <td>1</td>\n", "      <td>1</td>\n",
							"      <td>[Nantucket, Nectar]</td>\n",
							"      <td>[Apple]</td>\n", "      <td>$3.39</td>\n",
							"    </tr>\n", "    <tr>\n", "      <th>3</th>\n",
							"      <td>1</td>\n", "      <td>1</td>\n",
							"      <td>[Chips, and, Tomatillo-Green, Chili, Salsa]</td>\n",
							"      <td>NaN</td>\n", "      <td>$2.39</td>\n", "    </tr>\n",
							"    <tr>\n", "      <th>4</th>\n", "      <td>2</td>\n",
							"      <td>2</td>\n", "      <td>[Chicken, Bowl]</td>\n",
							"      <td>[Tomatillo-Red Chili Salsa (Hot), [Black Beans...</td>\n",
							"      <td>$16.98</td>\n", "    </tr>\n", "  </tbody>\n",
							"</table>\n", "</div>"
						],
						"text/plain": [
							"   order_id  quantity                                    item_name  \\\n",
							"0         1         1           [Chips, and, Fresh, Tomato, Salsa]   \n",
							"1         1         1                                       [Izze]   \n",
							"2         1         1                          [Nantucket, Nectar]   \n",
							"3         1         1  [Chips, and, Tomatillo-Green, Chili, Salsa]   \n",
							"4         2         2                              [Chicken, Bowl]   \n",
							"\n",
							"                                  choice_description item_price  \n",
							"0                                                NaN      $2.39  \n",
							"1                                       [Clementine]      $3.39  \n",
							"2                                            [Apple]      $3.39  \n",
							"3                                                NaN      $2.39  \n",
							"4  [Tomatillo-Red Chili Salsa (Hot), [Black Beans...     $16.98  "
						]
					},
					"execution_count": 96,
					"metadata": {},
					"output_type": "execute_result"
				}
			],
			"source": [
				"orders[\"item_name\"] = orders[\"item_name\"].str.split()\n",
				"orders.head()\n"
			]
		},
		{
			"cell_type": "code",
			"execution_count": 97,
			"metadata": {},
			"outputs": [
				{
					"data": {
						"text/html": [
							"<div>\n", "<style scoped>\n",
							"    .dataframe tbody tr th:only-of-type {\n",
							"        vertical-align: middle;\n", "    }\n", "\n",
							"    .dataframe tbody tr th {\n",
							"        vertical-align: top;\n", "    }\n", "\n",
							"    .dataframe thead th {\n", "        text-align: right;\n",
							"    }\n", "</style>\n",
							"<table border=\"1\" class=\"dataframe\">\n", "  <thead>\n",
							"    <tr style=\"text-align: right;\">\n", "      <th></th>\n",
							"      <th>order_id</th>\n", "      <th>quantity</th>\n",
							"      <th>item_name</th>\n",
							"      <th>choice_description</th>\n",
							"      <th>item_price</th>\n", "    </tr>\n", "  </thead>\n",
							"  <tbody>\n", "    <tr>\n", "      <th>0</th>\n",
							"      <td>1</td>\n", "      <td>1</td>\n",
							"      <td>Chips</td>\n", "      <td>NaN</td>\n",
							"      <td>$2.39</td>\n", "    </tr>\n", "    <tr>\n",
							"      <th>0</th>\n", "      <td>1</td>\n", "      <td>1</td>\n",
							"      <td>and</td>\n", "      <td>NaN</td>\n",
							"      <td>$2.39</td>\n", "    </tr>\n", "    <tr>\n",
							"      <th>0</th>\n", "      <td>1</td>\n", "      <td>1</td>\n",
							"      <td>Fresh</td>\n", "      <td>NaN</td>\n",
							"      <td>$2.39</td>\n", "    </tr>\n", "    <tr>\n",
							"      <th>0</th>\n", "      <td>1</td>\n", "      <td>1</td>\n",
							"      <td>Tomato</td>\n", "      <td>NaN</td>\n",
							"      <td>$2.39</td>\n", "    </tr>\n", "    <tr>\n",
							"      <th>0</th>\n", "      <td>1</td>\n", "      <td>1</td>\n",
							"      <td>Salsa</td>\n", "      <td>NaN</td>\n",
							"      <td>$2.39</td>\n", "    </tr>\n", "    <tr>\n",
							"      <th>...</th>\n", "      <td>...</td>\n",
							"      <td>...</td>\n", "      <td>...</td>\n",
							"      <td>...</td>\n", "      <td>...</td>\n", "    </tr>\n",
							"    <tr>\n", "      <th>4620</th>\n", "      <td>1834</td>\n",
							"      <td>1</td>\n", "      <td>Salad</td>\n",
							"      <td>[Fresh Tomato Salsa, [Fajita Vegetables, Lettu...</td>\n",
							"      <td>$8.75</td>\n", "    </tr>\n", "    <tr>\n",
							"      <th>4620</th>\n", "      <td>1834</td>\n",
							"      <td>1</td>\n", "      <td>Bowl</td>\n",
							"      <td>[Fresh Tomato Salsa, [Fajita Vegetables, Lettu...</td>\n",
							"      <td>$8.75</td>\n", "    </tr>\n", "    <tr>\n",
							"      <th>4621</th>\n", "      <td>1834</td>\n",
							"      <td>1</td>\n", "      <td>Chicken</td>\n",
							"      <td>[Fresh Tomato Salsa, [Fajita Vegetables, Pinto...</td>\n",
							"      <td>$8.75</td>\n", "    </tr>\n", "    <tr>\n",
							"      <th>4621</th>\n", "      <td>1834</td>\n",
							"      <td>1</td>\n", "      <td>Salad</td>\n",
							"      <td>[Fresh Tomato Salsa, [Fajita Vegetables, Pinto...</td>\n",
							"      <td>$8.75</td>\n", "    </tr>\n", "    <tr>\n",
							"      <th>4621</th>\n", "      <td>1834</td>\n",
							"      <td>1</td>\n", "      <td>Bowl</td>\n",
							"      <td>[Fresh Tomato Salsa, [Fajita Vegetables, Pinto...</td>\n",
							"      <td>$8.75</td>\n", "    </tr>\n", "  </tbody>\n",
							"</table>\n", "<p>11501 rows × 5 columns</p>\n", "</div>"
						],
						"text/plain": [
							"      order_id  quantity item_name  \\\n",
							"0            1         1     Chips   \n",
							"0            1         1       and   \n",
							"0            1         1     Fresh   \n",
							"0            1         1    Tomato   \n",
							"0            1         1     Salsa   \n",
							"...        ...       ...       ...   \n",
							"4620      1834         1     Salad   \n",
							"4620      1834         1      Bowl   \n",
							"4621      1834         1   Chicken   \n",
							"4621      1834         1     Salad   \n",
							"4621      1834         1      Bowl   \n", "\n",
							"                                     choice_description item_price  \n",
							"0                                                   NaN      $2.39  \n",
							"0                                                   NaN      $2.39  \n",
							"0                                                   NaN      $2.39  \n",
							"0                                                   NaN      $2.39  \n",
							"0                                                   NaN      $2.39  \n",
							"...                                                 ...        ...  \n",
							"4620  [Fresh Tomato Salsa, [Fajita Vegetables, Lettu...      $8.75  \n",
							"4620  [Fresh Tomato Salsa, [Fajita Vegetables, Lettu...      $8.75  \n",
							"4621  [Fresh Tomato Salsa, [Fajita Vegetables, Pinto...      $8.75  \n",
							"4621  [Fresh Tomato Salsa, [Fajita Vegetables, Pinto...      $8.75  \n",
							"4621  [Fresh Tomato Salsa, [Fajita Vegetables, Pinto...      $8.75  \n",
							"\n", "[11501 rows x 5 columns]"
						]
					},
					"execution_count": 97,
					"metadata": {},
					"output_type": "execute_result"
				}
			],
			"source": ["orders.explode(\"item_name\")\n"]
		},
		{
			"cell_type": "markdown",
			"metadata": {},
			"source": ["## Display\n"]
		},
		{
			"cell_type": "code",
			"execution_count": 98,
			"metadata": {},
			"outputs": [
				{
					"data": {
						"text/html": [
							"<div>\n", "<style scoped>\n",
							"    .dataframe tbody tr th:only-of-type {\n",
							"        vertical-align: middle;\n", "    }\n", "\n",
							"    .dataframe tbody tr th {\n",
							"        vertical-align: top;\n", "    }\n", "\n",
							"    .dataframe thead th {\n", "        text-align: right;\n",
							"    }\n", "</style>\n",
							"<table border=\"1\" class=\"dataframe\">\n", "  <thead>\n",
							"    <tr style=\"text-align: right;\">\n", "      <th></th>\n",
							"      <th>star_rating</th>\n", "      <th>title</th>\n",
							"      <th>content_rating</th>\n", "      <th>genre</th>\n",
							"      <th>duration</th>\n", "      <th>actors_list</th>\n",
							"    </tr>\n", "  </thead>\n", "  <tbody>\n", "    <tr>\n",
							"      <th>0</th>\n", "      <td>9.3</td>\n",
							"      <td>The Shawshank Redemption</td>\n", "      <td>R</td>\n",
							"      <td>Crime</td>\n", "      <td>142</td>\n",
							"      <td>[u'Tim Robbins', u'Morgan Freeman', u'Bob Gunt...</td>\n",
							"    </tr>\n", "    <tr>\n", "      <th>1</th>\n",
							"      <td>9.2</td>\n", "      <td>The Godfather</td>\n",
							"      <td>R</td>\n", "      <td>Crime</td>\n",
							"      <td>175</td>\n",
							"      <td>[u'Marlon Brando', u'Al Pacino', u'James Caan']</td>\n",
							"    </tr>\n", "    <tr>\n", "      <th>2</th>\n",
							"      <td>9.1</td>\n", "      <td>The Godfather: Part II</td>\n",
							"      <td>R</td>\n", "      <td>Crime</td>\n",
							"      <td>200</td>\n",
							"      <td>[u'Al Pacino', u'Robert De Niro', u'Robert Duv...</td>\n",
							"    </tr>\n", "    <tr>\n", "      <th>3</th>\n",
							"      <td>9.0</td>\n", "      <td>The Dark Knight</td>\n",
							"      <td>PG-13</td>\n", "      <td>Action</td>\n",
							"      <td>152</td>\n",
							"      <td>[u'Christian Bale', u'Heath Ledger', u'Aaron E...</td>\n",
							"    </tr>\n", "    <tr>\n", "      <th>4</th>\n",
							"      <td>8.9</td>\n", "      <td>Pulp Fiction</td>\n",
							"      <td>R</td>\n", "      <td>Crime</td>\n",
							"      <td>154</td>\n",
							"      <td>[u'John Travolta', u'Uma Thurman', u'Samuel L....</td>\n",
							"    </tr>\n", "  </tbody>\n", "</table>\n", "</div>"
						],
						"text/plain": [
							"   star_rating                     title content_rating   genre  duration  \\\n",
							"0          9.3  The Shawshank Redemption              R   Crime       142   \n",
							"1          9.2             The Godfather              R   Crime       175   \n",
							"2          9.1    The Godfather: Part II              R   Crime       200   \n",
							"3          9.0           The Dark Knight          PG-13  Action       152   \n",
							"4          8.9              Pulp Fiction              R   Crime       154   \n",
							"\n", "                                         actors_list  \n",
							"0  [u'Tim Robbins', u'Morgan Freeman', u'Bob Gunt...  \n",
							"1    [u'Marlon Brando', u'Al Pacino', u'James Caan']  \n",
							"2  [u'Al Pacino', u'Robert De Niro', u'Robert Duv...  \n",
							"3  [u'Christian Bale', u'Heath Ledger', u'Aaron E...  \n",
							"4  [u'John Travolta', u'Uma Thurman', u'Samuel L....  "
						]
					},
					"execution_count": 98,
					"metadata": {},
					"output_type": "execute_result"
				}
			],
			"source": [
				"movies = pd.read_csv(\"data/imdb_1000.csv\")\n", "movies.head()\n"
			]
		},
		{
			"cell_type": "code",
			"execution_count": 99,
			"metadata": {},
			"outputs": [
				{
					"data": {
						"text/html": [
							"<style type=\"text/css\">\n", "#T_82a48_row0_col4 {\n",
							"  width: 10em;\n",
							"  background: linear-gradient(90deg, #d65f5f 58.2%, transparent 58.2%);\n",
							"}\n", "#T_82a48_row1_col4 {\n", "  width: 10em;\n",
							"  background: linear-gradient(90deg, #d65f5f 81.6%, transparent 81.6%);\n",
							"}\n", "#T_82a48_row2_col4 {\n", "  width: 10em;\n",
							"  background: linear-gradient(90deg, #d65f5f 99.3%, transparent 99.3%);\n",
							"}\n", "#T_82a48_row3_col4 {\n", "  width: 10em;\n",
							"  background: linear-gradient(90deg, #d65f5f 65.2%, transparent 65.2%);\n",
							"}\n", "#T_82a48_row4_col4 {\n", "  width: 10em;\n",
							"  background: linear-gradient(90deg, #d65f5f 66.7%, transparent 66.7%);\n",
							"}\n", "#T_82a48_row5_col4 {\n", "  width: 10em;\n",
							"  background: linear-gradient(90deg, #d65f5f 25.5%, transparent 25.5%);\n",
							"}\n", "#T_82a48_row6_col4 {\n", "  width: 10em;\n",
							"  background: linear-gradient(90deg, #d65f5f 71.6%, transparent 71.6%);\n",
							"}\n", "#T_82a48_row7_col4 {\n", "  width: 10em;\n",
							"  background: linear-gradient(90deg, #d65f5f 100.0%, transparent 100.0%);\n",
							"}\n", "#T_82a48_row8_col4 {\n", "  width: 10em;\n",
							"  background: linear-gradient(90deg, #d65f5f 95.7%, transparent 95.7%);\n",
							"}\n", "#T_82a48_row9_col4 {\n", "  width: 10em;\n",
							"  background: linear-gradient(90deg, #d65f5f 56.0%, transparent 56.0%);\n",
							"}\n", "</style>\n", "<table id=\"T_82a48\">\n", "  <thead>\n",
							"    <tr>\n", "      <th class=\"blank level0\" >&nbsp;</th>\n",
							"      <th id=\"T_82a48_level0_col0\" class=\"col_heading level0 col0\" >star_rating</th>\n",
							"      <th id=\"T_82a48_level0_col1\" class=\"col_heading level0 col1\" >title</th>\n",
							"      <th id=\"T_82a48_level0_col2\" class=\"col_heading level0 col2\" >content_rating</th>\n",
							"      <th id=\"T_82a48_level0_col3\" class=\"col_heading level0 col3\" >genre</th>\n",
							"      <th id=\"T_82a48_level0_col4\" class=\"col_heading level0 col4\" >duration</th>\n",
							"      <th id=\"T_82a48_level0_col5\" class=\"col_heading level0 col5\" >actors_list</th>\n",
							"    </tr>\n", "  </thead>\n", "  <tbody>\n", "    <tr>\n",
							"      <th id=\"T_82a48_level0_row0\" class=\"row_heading level0 row0\" >0</th>\n",
							"      <td id=\"T_82a48_row0_col0\" class=\"data row0 col0\" >9.300000</td>\n",
							"      <td id=\"T_82a48_row0_col1\" class=\"data row0 col1\" >The Shawshank Redemption</td>\n",
							"      <td id=\"T_82a48_row0_col2\" class=\"data row0 col2\" >R</td>\n",
							"      <td id=\"T_82a48_row0_col3\" class=\"data row0 col3\" >Crime</td>\n",
							"      <td id=\"T_82a48_row0_col4\" class=\"data row0 col4\" >142</td>\n",
							"      <td id=\"T_82a48_row0_col5\" class=\"data row0 col5\" >[u'Tim Robbins', u'Morgan Freeman', u'Bob Gunton']</td>\n",
							"    </tr>\n", "    <tr>\n",
							"      <th id=\"T_82a48_level0_row1\" class=\"row_heading level0 row1\" >1</th>\n",
							"      <td id=\"T_82a48_row1_col0\" class=\"data row1 col0\" >9.200000</td>\n",
							"      <td id=\"T_82a48_row1_col1\" class=\"data row1 col1\" >The Godfather</td>\n",
							"      <td id=\"T_82a48_row1_col2\" class=\"data row1 col2\" >R</td>\n",
							"      <td id=\"T_82a48_row1_col3\" class=\"data row1 col3\" >Crime</td>\n",
							"      <td id=\"T_82a48_row1_col4\" class=\"data row1 col4\" >175</td>\n",
							"      <td id=\"T_82a48_row1_col5\" class=\"data row1 col5\" >[u'Marlon Brando', u'Al Pacino', u'James Caan']</td>\n",
							"    </tr>\n", "    <tr>\n",
							"      <th id=\"T_82a48_level0_row2\" class=\"row_heading level0 row2\" >2</th>\n",
							"      <td id=\"T_82a48_row2_col0\" class=\"data row2 col0\" >9.100000</td>\n",
							"      <td id=\"T_82a48_row2_col1\" class=\"data row2 col1\" >The Godfather: Part II</td>\n",
							"      <td id=\"T_82a48_row2_col2\" class=\"data row2 col2\" >R</td>\n",
							"      <td id=\"T_82a48_row2_col3\" class=\"data row2 col3\" >Crime</td>\n",
							"      <td id=\"T_82a48_row2_col4\" class=\"data row2 col4\" >200</td>\n",
							"      <td id=\"T_82a48_row2_col5\" class=\"data row2 col5\" >[u'Al Pacino', u'Robert De Niro', u'Robert Duvall']</td>\n",
							"    </tr>\n", "    <tr>\n",
							"      <th id=\"T_82a48_level0_row3\" class=\"row_heading level0 row3\" >3</th>\n",
							"      <td id=\"T_82a48_row3_col0\" class=\"data row3 col0\" >9.000000</td>\n",
							"      <td id=\"T_82a48_row3_col1\" class=\"data row3 col1\" >The Dark Knight</td>\n",
							"      <td id=\"T_82a48_row3_col2\" class=\"data row3 col2\" >PG-13</td>\n",
							"      <td id=\"T_82a48_row3_col3\" class=\"data row3 col3\" >Action</td>\n",
							"      <td id=\"T_82a48_row3_col4\" class=\"data row3 col4\" >152</td>\n",
							"      <td id=\"T_82a48_row3_col5\" class=\"data row3 col5\" >[u'Christian Bale', u'Heath Ledger', u'Aaron Eckhart']</td>\n",
							"    </tr>\n", "    <tr>\n",
							"      <th id=\"T_82a48_level0_row4\" class=\"row_heading level0 row4\" >4</th>\n",
							"      <td id=\"T_82a48_row4_col0\" class=\"data row4 col0\" >8.900000</td>\n",
							"      <td id=\"T_82a48_row4_col1\" class=\"data row4 col1\" >Pulp Fiction</td>\n",
							"      <td id=\"T_82a48_row4_col2\" class=\"data row4 col2\" >R</td>\n",
							"      <td id=\"T_82a48_row4_col3\" class=\"data row4 col3\" >Crime</td>\n",
							"      <td id=\"T_82a48_row4_col4\" class=\"data row4 col4\" >154</td>\n",
							"      <td id=\"T_82a48_row4_col5\" class=\"data row4 col5\" >[u'John Travolta', u'Uma Thurman', u'Samuel L. Jackson']</td>\n",
							"    </tr>\n", "    <tr>\n",
							"      <th id=\"T_82a48_level0_row5\" class=\"row_heading level0 row5\" >5</th>\n",
							"      <td id=\"T_82a48_row5_col0\" class=\"data row5 col0\" >8.900000</td>\n",
							"      <td id=\"T_82a48_row5_col1\" class=\"data row5 col1\" >12 Angry Men</td>\n",
							"      <td id=\"T_82a48_row5_col2\" class=\"data row5 col2\" >NOT RATED</td>\n",
							"      <td id=\"T_82a48_row5_col3\" class=\"data row5 col3\" >Drama</td>\n",
							"      <td id=\"T_82a48_row5_col4\" class=\"data row5 col4\" >96</td>\n",
							"      <td id=\"T_82a48_row5_col5\" class=\"data row5 col5\" >[u'Henry Fonda', u'Lee J. Cobb', u'Martin Balsam']</td>\n",
							"    </tr>\n", "    <tr>\n",
							"      <th id=\"T_82a48_level0_row6\" class=\"row_heading level0 row6\" >6</th>\n",
							"      <td id=\"T_82a48_row6_col0\" class=\"data row6 col0\" >8.900000</td>\n",
							"      <td id=\"T_82a48_row6_col1\" class=\"data row6 col1\" >The Good, the Bad and the Ugly</td>\n",
							"      <td id=\"T_82a48_row6_col2\" class=\"data row6 col2\" >NOT RATED</td>\n",
							"      <td id=\"T_82a48_row6_col3\" class=\"data row6 col3\" >Western</td>\n",
							"      <td id=\"T_82a48_row6_col4\" class=\"data row6 col4\" >161</td>\n",
							"      <td id=\"T_82a48_row6_col5\" class=\"data row6 col5\" >[u'Clint Eastwood', u'Eli Wallach', u'Lee Van Cleef']</td>\n",
							"    </tr>\n", "    <tr>\n",
							"      <th id=\"T_82a48_level0_row7\" class=\"row_heading level0 row7\" >7</th>\n",
							"      <td id=\"T_82a48_row7_col0\" class=\"data row7 col0\" >8.900000</td>\n",
							"      <td id=\"T_82a48_row7_col1\" class=\"data row7 col1\" >The Lord of the Rings: The Return of the King</td>\n",
							"      <td id=\"T_82a48_row7_col2\" class=\"data row7 col2\" >PG-13</td>\n",
							"      <td id=\"T_82a48_row7_col3\" class=\"data row7 col3\" >Adventure</td>\n",
							"      <td id=\"T_82a48_row7_col4\" class=\"data row7 col4\" >201</td>\n",
							"      <td id=\"T_82a48_row7_col5\" class=\"data row7 col5\" >[u'Elijah Wood', u'Viggo Mortensen', u'Ian McKellen']</td>\n",
							"    </tr>\n", "    <tr>\n",
							"      <th id=\"T_82a48_level0_row8\" class=\"row_heading level0 row8\" >8</th>\n",
							"      <td id=\"T_82a48_row8_col0\" class=\"data row8 col0\" >8.900000</td>\n",
							"      <td id=\"T_82a48_row8_col1\" class=\"data row8 col1\" >Schindler's List</td>\n",
							"      <td id=\"T_82a48_row8_col2\" class=\"data row8 col2\" >R</td>\n",
							"      <td id=\"T_82a48_row8_col3\" class=\"data row8 col3\" >Biography</td>\n",
							"      <td id=\"T_82a48_row8_col4\" class=\"data row8 col4\" >195</td>\n",
							"      <td id=\"T_82a48_row8_col5\" class=\"data row8 col5\" >[u'Liam Neeson', u'Ralph Fiennes', u'Ben Kingsley']</td>\n",
							"    </tr>\n", "    <tr>\n",
							"      <th id=\"T_82a48_level0_row9\" class=\"row_heading level0 row9\" >9</th>\n",
							"      <td id=\"T_82a48_row9_col0\" class=\"data row9 col0\" >8.900000</td>\n",
							"      <td id=\"T_82a48_row9_col1\" class=\"data row9 col1\" >Fight Club</td>\n",
							"      <td id=\"T_82a48_row9_col2\" class=\"data row9 col2\" >R</td>\n",
							"      <td id=\"T_82a48_row9_col3\" class=\"data row9 col3\" >Drama</td>\n",
							"      <td id=\"T_82a48_row9_col4\" class=\"data row9 col4\" >139</td>\n",
							"      <td id=\"T_82a48_row9_col5\" class=\"data row9 col5\" >[u'Brad Pitt', u'Edward Norton', u'Helena Bonham Carter']</td>\n",
							"    </tr>\n", "  </tbody>\n", "</table>\n"
						],
						"text/plain": ["<pandas.io.formats.style.Styler at 0x16258c810>"]
					},
					"execution_count": 99,
					"metadata": {},
					"output_type": "execute_result"
				}
			],
			"source": ["movies[:10].style.bar(\"duration\", vmin=60)\n"]
		},
		{
			"cell_type": "code",
			"execution_count": 100,
			"metadata": {},
			"outputs": [
				{
					"data": {
						"text/html": [
							"<style type=\"text/css\">\n", "#T_1169b_row0_col0 {\n",
							"  background-color: #00441b;\n", "  color: #f1f1f1;\n", "}\n",
							"#T_1169b_row1_col0 {\n", "  background-color: #238b45;\n",
							"  color: #f1f1f1;\n", "}\n", "#T_1169b_row2_col0 {\n",
							"  background-color: #75c477;\n", "  color: #000000;\n", "}\n",
							"#T_1169b_row3_col0 {\n", "  background-color: #c8e9c1;\n",
							"  color: #000000;\n", "}\n",
							"#T_1169b_row4_col0, #T_1169b_row5_col0, #T_1169b_row6_col0, #T_1169b_row7_col0, #T_1169b_row8_col0, #T_1169b_row9_col0 {\n",
							"  background-color: #f7fcf5;\n", "  color: #000000;\n", "}\n",
							"</style>\n", "<table id=\"T_1169b\">\n", "  <thead>\n",
							"    <tr>\n", "      <th class=\"blank level0\" >&nbsp;</th>\n",
							"      <th id=\"T_1169b_level0_col0\" class=\"col_heading level0 col0\" >star_rating</th>\n",
							"      <th id=\"T_1169b_level0_col1\" class=\"col_heading level0 col1\" >title</th>\n",
							"      <th id=\"T_1169b_level0_col2\" class=\"col_heading level0 col2\" >content_rating</th>\n",
							"      <th id=\"T_1169b_level0_col3\" class=\"col_heading level0 col3\" >genre</th>\n",
							"      <th id=\"T_1169b_level0_col4\" class=\"col_heading level0 col4\" >duration</th>\n",
							"      <th id=\"T_1169b_level0_col5\" class=\"col_heading level0 col5\" >actors_list</th>\n",
							"    </tr>\n", "  </thead>\n", "  <tbody>\n", "    <tr>\n",
							"      <th id=\"T_1169b_level0_row0\" class=\"row_heading level0 row0\" >0</th>\n",
							"      <td id=\"T_1169b_row0_col0\" class=\"data row0 col0\" >9.300000</td>\n",
							"      <td id=\"T_1169b_row0_col1\" class=\"data row0 col1\" >The Shawshank Redemption</td>\n",
							"      <td id=\"T_1169b_row0_col2\" class=\"data row0 col2\" >R</td>\n",
							"      <td id=\"T_1169b_row0_col3\" class=\"data row0 col3\" >Crime</td>\n",
							"      <td id=\"T_1169b_row0_col4\" class=\"data row0 col4\" >142</td>\n",
							"      <td id=\"T_1169b_row0_col5\" class=\"data row0 col5\" >[u'Tim Robbins', u'Morgan Freeman', u'Bob Gunton']</td>\n",
							"    </tr>\n", "    <tr>\n",
							"      <th id=\"T_1169b_level0_row1\" class=\"row_heading level0 row1\" >1</th>\n",
							"      <td id=\"T_1169b_row1_col0\" class=\"data row1 col0\" >9.200000</td>\n",
							"      <td id=\"T_1169b_row1_col1\" class=\"data row1 col1\" >The Godfather</td>\n",
							"      <td id=\"T_1169b_row1_col2\" class=\"data row1 col2\" >R</td>\n",
							"      <td id=\"T_1169b_row1_col3\" class=\"data row1 col3\" >Crime</td>\n",
							"      <td id=\"T_1169b_row1_col4\" class=\"data row1 col4\" >175</td>\n",
							"      <td id=\"T_1169b_row1_col5\" class=\"data row1 col5\" >[u'Marlon Brando', u'Al Pacino', u'James Caan']</td>\n",
							"    </tr>\n", "    <tr>\n",
							"      <th id=\"T_1169b_level0_row2\" class=\"row_heading level0 row2\" >2</th>\n",
							"      <td id=\"T_1169b_row2_col0\" class=\"data row2 col0\" >9.100000</td>\n",
							"      <td id=\"T_1169b_row2_col1\" class=\"data row2 col1\" >The Godfather: Part II</td>\n",
							"      <td id=\"T_1169b_row2_col2\" class=\"data row2 col2\" >R</td>\n",
							"      <td id=\"T_1169b_row2_col3\" class=\"data row2 col3\" >Crime</td>\n",
							"      <td id=\"T_1169b_row2_col4\" class=\"data row2 col4\" >200</td>\n",
							"      <td id=\"T_1169b_row2_col5\" class=\"data row2 col5\" >[u'Al Pacino', u'Robert De Niro', u'Robert Duvall']</td>\n",
							"    </tr>\n", "    <tr>\n",
							"      <th id=\"T_1169b_level0_row3\" class=\"row_heading level0 row3\" >3</th>\n",
							"      <td id=\"T_1169b_row3_col0\" class=\"data row3 col0\" >9.000000</td>\n",
							"      <td id=\"T_1169b_row3_col1\" class=\"data row3 col1\" >The Dark Knight</td>\n",
							"      <td id=\"T_1169b_row3_col2\" class=\"data row3 col2\" >PG-13</td>\n",
							"      <td id=\"T_1169b_row3_col3\" class=\"data row3 col3\" >Action</td>\n",
							"      <td id=\"T_1169b_row3_col4\" class=\"data row3 col4\" >152</td>\n",
							"      <td id=\"T_1169b_row3_col5\" class=\"data row3 col5\" >[u'Christian Bale', u'Heath Ledger', u'Aaron Eckhart']</td>\n",
							"    </tr>\n", "    <tr>\n",
							"      <th id=\"T_1169b_level0_row4\" class=\"row_heading level0 row4\" >4</th>\n",
							"      <td id=\"T_1169b_row4_col0\" class=\"data row4 col0\" >8.900000</td>\n",
							"      <td id=\"T_1169b_row4_col1\" class=\"data row4 col1\" >Pulp Fiction</td>\n",
							"      <td id=\"T_1169b_row4_col2\" class=\"data row4 col2\" >R</td>\n",
							"      <td id=\"T_1169b_row4_col3\" class=\"data row4 col3\" >Crime</td>\n",
							"      <td id=\"T_1169b_row4_col4\" class=\"data row4 col4\" >154</td>\n",
							"      <td id=\"T_1169b_row4_col5\" class=\"data row4 col5\" >[u'John Travolta', u'Uma Thurman', u'Samuel L. Jackson']</td>\n",
							"    </tr>\n", "    <tr>\n",
							"      <th id=\"T_1169b_level0_row5\" class=\"row_heading level0 row5\" >5</th>\n",
							"      <td id=\"T_1169b_row5_col0\" class=\"data row5 col0\" >8.900000</td>\n",
							"      <td id=\"T_1169b_row5_col1\" class=\"data row5 col1\" >12 Angry Men</td>\n",
							"      <td id=\"T_1169b_row5_col2\" class=\"data row5 col2\" >NOT RATED</td>\n",
							"      <td id=\"T_1169b_row5_col3\" class=\"data row5 col3\" >Drama</td>\n",
							"      <td id=\"T_1169b_row5_col4\" class=\"data row5 col4\" >96</td>\n",
							"      <td id=\"T_1169b_row5_col5\" class=\"data row5 col5\" >[u'Henry Fonda', u'Lee J. Cobb', u'Martin Balsam']</td>\n",
							"    </tr>\n", "    <tr>\n",
							"      <th id=\"T_1169b_level0_row6\" class=\"row_heading level0 row6\" >6</th>\n",
							"      <td id=\"T_1169b_row6_col0\" class=\"data row6 col0\" >8.900000</td>\n",
							"      <td id=\"T_1169b_row6_col1\" class=\"data row6 col1\" >The Good, the Bad and the Ugly</td>\n",
							"      <td id=\"T_1169b_row6_col2\" class=\"data row6 col2\" >NOT RATED</td>\n",
							"      <td id=\"T_1169b_row6_col3\" class=\"data row6 col3\" >Western</td>\n",
							"      <td id=\"T_1169b_row6_col4\" class=\"data row6 col4\" >161</td>\n",
							"      <td id=\"T_1169b_row6_col5\" class=\"data row6 col5\" >[u'Clint Eastwood', u'Eli Wallach', u'Lee Van Cleef']</td>\n",
							"    </tr>\n", "    <tr>\n",
							"      <th id=\"T_1169b_level0_row7\" class=\"row_heading level0 row7\" >7</th>\n",
							"      <td id=\"T_1169b_row7_col0\" class=\"data row7 col0\" >8.900000</td>\n",
							"      <td id=\"T_1169b_row7_col1\" class=\"data row7 col1\" >The Lord of the Rings: The Return of the King</td>\n",
							"      <td id=\"T_1169b_row7_col2\" class=\"data row7 col2\" >PG-13</td>\n",
							"      <td id=\"T_1169b_row7_col3\" class=\"data row7 col3\" >Adventure</td>\n",
							"      <td id=\"T_1169b_row7_col4\" class=\"data row7 col4\" >201</td>\n",
							"      <td id=\"T_1169b_row7_col5\" class=\"data row7 col5\" >[u'Elijah Wood', u'Viggo Mortensen', u'Ian McKellen']</td>\n",
							"    </tr>\n", "    <tr>\n",
							"      <th id=\"T_1169b_level0_row8\" class=\"row_heading level0 row8\" >8</th>\n",
							"      <td id=\"T_1169b_row8_col0\" class=\"data row8 col0\" >8.900000</td>\n",
							"      <td id=\"T_1169b_row8_col1\" class=\"data row8 col1\" >Schindler's List</td>\n",
							"      <td id=\"T_1169b_row8_col2\" class=\"data row8 col2\" >R</td>\n",
							"      <td id=\"T_1169b_row8_col3\" class=\"data row8 col3\" >Biography</td>\n",
							"      <td id=\"T_1169b_row8_col4\" class=\"data row8 col4\" >195</td>\n",
							"      <td id=\"T_1169b_row8_col5\" class=\"data row8 col5\" >[u'Liam Neeson', u'Ralph Fiennes', u'Ben Kingsley']</td>\n",
							"    </tr>\n", "    <tr>\n",
							"      <th id=\"T_1169b_level0_row9\" class=\"row_heading level0 row9\" >9</th>\n",
							"      <td id=\"T_1169b_row9_col0\" class=\"data row9 col0\" >8.900000</td>\n",
							"      <td id=\"T_1169b_row9_col1\" class=\"data row9 col1\" >Fight Club</td>\n",
							"      <td id=\"T_1169b_row9_col2\" class=\"data row9 col2\" >R</td>\n",
							"      <td id=\"T_1169b_row9_col3\" class=\"data row9 col3\" >Drama</td>\n",
							"      <td id=\"T_1169b_row9_col4\" class=\"data row9 col4\" >139</td>\n",
							"      <td id=\"T_1169b_row9_col5\" class=\"data row9 col5\" >[u'Brad Pitt', u'Edward Norton', u'Helena Bonham Carter']</td>\n",
							"    </tr>\n", "  </tbody>\n", "</table>\n"
						],
						"text/plain": ["<pandas.io.formats.style.Styler at 0x1628eb110>"]
					},
					"execution_count": 100,
					"metadata": {},
					"output_type": "execute_result"
				}
			],
			"source": [
				"movies[:10].style.background_gradient(\"Greens\", subset=\"star_rating\")\n"
			]
		},
		{
			"cell_type": "code",
			"execution_count": 101,
			"metadata": {},
			"outputs": [
				{
					"data": {
						"text/html": [
							"<style type=\"text/css\">\n", "#T_4ca68_row0_col0 {\n",
							"  background-color: #00441b;\n", "  color: #f1f1f1;\n",
							"  background-color: yellow;\n", "}\n",
							"#T_4ca68_row0_col1, #T_4ca68_row0_col2, #T_4ca68_row0_col5, #T_4ca68_row1_col2, #T_4ca68_row2_col2, #T_4ca68_row4_col2, #T_4ca68_row6_col3, #T_4ca68_row8_col2, #T_4ca68_row9_col2 {\n",
							"  background-color: yellow;\n", "}\n", "#T_4ca68_row0_col4 {\n",
							"  width: 10em;\n",
							"  background: linear-gradient(90deg, #d65f5f 58.2%, transparent 58.2%);\n",
							"}\n", "#T_4ca68_row1_col0 {\n", "  background-color: #238b45;\n",
							"  color: #f1f1f1;\n", "}\n", "#T_4ca68_row1_col4 {\n",
							"  width: 10em;\n",
							"  background: linear-gradient(90deg, #d65f5f 81.6%, transparent 81.6%);\n",
							"}\n", "#T_4ca68_row2_col0 {\n", "  background-color: #75c477;\n",
							"  color: #000000;\n", "}\n", "#T_4ca68_row2_col4 {\n",
							"  width: 10em;\n",
							"  background: linear-gradient(90deg, #d65f5f 99.3%, transparent 99.3%);\n",
							"}\n", "#T_4ca68_row3_col0 {\n", "  background-color: #c8e9c1;\n",
							"  color: #000000;\n", "}\n", "#T_4ca68_row3_col4 {\n",
							"  width: 10em;\n",
							"  background: linear-gradient(90deg, #d65f5f 65.2%, transparent 65.2%);\n",
							"}\n",
							"#T_4ca68_row4_col0, #T_4ca68_row5_col0, #T_4ca68_row6_col0, #T_4ca68_row7_col0, #T_4ca68_row8_col0, #T_4ca68_row9_col0 {\n",
							"  background-color: #f7fcf5;\n", "  color: #000000;\n", "}\n",
							"#T_4ca68_row4_col4 {\n", "  width: 10em;\n",
							"  background: linear-gradient(90deg, #d65f5f 66.7%, transparent 66.7%);\n",
							"}\n", "#T_4ca68_row5_col4 {\n", "  width: 10em;\n",
							"  background: linear-gradient(90deg, #d65f5f 25.5%, transparent 25.5%);\n",
							"}\n", "#T_4ca68_row6_col4 {\n", "  width: 10em;\n",
							"  background: linear-gradient(90deg, #d65f5f 71.6%, transparent 71.6%);\n",
							"}\n", "#T_4ca68_row7_col4 {\n", "  width: 10em;\n",
							"  background: linear-gradient(90deg, #d65f5f 100.0%, transparent 100.0%);\n",
							"  background-color: yellow;\n", "}\n", "#T_4ca68_row8_col4 {\n",
							"  width: 10em;\n",
							"  background: linear-gradient(90deg, #d65f5f 95.7%, transparent 95.7%);\n",
							"}\n", "#T_4ca68_row9_col4 {\n", "  width: 10em;\n",
							"  background: linear-gradient(90deg, #d65f5f 56.0%, transparent 56.0%);\n",
							"}\n", "</style>\n", "<table id=\"T_4ca68\">\n", "  <thead>\n",
							"    <tr>\n", "      <th class=\"blank level0\" >&nbsp;</th>\n",
							"      <th id=\"T_4ca68_level0_col0\" class=\"col_heading level0 col0\" >star_rating</th>\n",
							"      <th id=\"T_4ca68_level0_col1\" class=\"col_heading level0 col1\" >title</th>\n",
							"      <th id=\"T_4ca68_level0_col2\" class=\"col_heading level0 col2\" >content_rating</th>\n",
							"      <th id=\"T_4ca68_level0_col3\" class=\"col_heading level0 col3\" >genre</th>\n",
							"      <th id=\"T_4ca68_level0_col4\" class=\"col_heading level0 col4\" >duration</th>\n",
							"      <th id=\"T_4ca68_level0_col5\" class=\"col_heading level0 col5\" >actors_list</th>\n",
							"    </tr>\n", "  </thead>\n", "  <tbody>\n", "    <tr>\n",
							"      <th id=\"T_4ca68_level0_row0\" class=\"row_heading level0 row0\" >0</th>\n",
							"      <td id=\"T_4ca68_row0_col0\" class=\"data row0 col0\" >9.300000</td>\n",
							"      <td id=\"T_4ca68_row0_col1\" class=\"data row0 col1\" >The Shawshank Redemption</td>\n",
							"      <td id=\"T_4ca68_row0_col2\" class=\"data row0 col2\" >R</td>\n",
							"      <td id=\"T_4ca68_row0_col3\" class=\"data row0 col3\" >Crime</td>\n",
							"      <td id=\"T_4ca68_row0_col4\" class=\"data row0 col4\" >142</td>\n",
							"      <td id=\"T_4ca68_row0_col5\" class=\"data row0 col5\" >[u'Tim Robbins', u'Morgan Freeman', u'Bob Gunton']</td>\n",
							"    </tr>\n", "    <tr>\n",
							"      <th id=\"T_4ca68_level0_row1\" class=\"row_heading level0 row1\" >1</th>\n",
							"      <td id=\"T_4ca68_row1_col0\" class=\"data row1 col0\" >9.200000</td>\n",
							"      <td id=\"T_4ca68_row1_col1\" class=\"data row1 col1\" >The Godfather</td>\n",
							"      <td id=\"T_4ca68_row1_col2\" class=\"data row1 col2\" >R</td>\n",
							"      <td id=\"T_4ca68_row1_col3\" class=\"data row1 col3\" >Crime</td>\n",
							"      <td id=\"T_4ca68_row1_col4\" class=\"data row1 col4\" >175</td>\n",
							"      <td id=\"T_4ca68_row1_col5\" class=\"data row1 col5\" >[u'Marlon Brando', u'Al Pacino', u'James Caan']</td>\n",
							"    </tr>\n", "    <tr>\n",
							"      <th id=\"T_4ca68_level0_row2\" class=\"row_heading level0 row2\" >2</th>\n",
							"      <td id=\"T_4ca68_row2_col0\" class=\"data row2 col0\" >9.100000</td>\n",
							"      <td id=\"T_4ca68_row2_col1\" class=\"data row2 col1\" >The Godfather: Part II</td>\n",
							"      <td id=\"T_4ca68_row2_col2\" class=\"data row2 col2\" >R</td>\n",
							"      <td id=\"T_4ca68_row2_col3\" class=\"data row2 col3\" >Crime</td>\n",
							"      <td id=\"T_4ca68_row2_col4\" class=\"data row2 col4\" >200</td>\n",
							"      <td id=\"T_4ca68_row2_col5\" class=\"data row2 col5\" >[u'Al Pacino', u'Robert De Niro', u'Robert Duvall']</td>\n",
							"    </tr>\n", "    <tr>\n",
							"      <th id=\"T_4ca68_level0_row3\" class=\"row_heading level0 row3\" >3</th>\n",
							"      <td id=\"T_4ca68_row3_col0\" class=\"data row3 col0\" >9.000000</td>\n",
							"      <td id=\"T_4ca68_row3_col1\" class=\"data row3 col1\" >The Dark Knight</td>\n",
							"      <td id=\"T_4ca68_row3_col2\" class=\"data row3 col2\" >PG-13</td>\n",
							"      <td id=\"T_4ca68_row3_col3\" class=\"data row3 col3\" >Action</td>\n",
							"      <td id=\"T_4ca68_row3_col4\" class=\"data row3 col4\" >152</td>\n",
							"      <td id=\"T_4ca68_row3_col5\" class=\"data row3 col5\" >[u'Christian Bale', u'Heath Ledger', u'Aaron Eckhart']</td>\n",
							"    </tr>\n", "    <tr>\n",
							"      <th id=\"T_4ca68_level0_row4\" class=\"row_heading level0 row4\" >4</th>\n",
							"      <td id=\"T_4ca68_row4_col0\" class=\"data row4 col0\" >8.900000</td>\n",
							"      <td id=\"T_4ca68_row4_col1\" class=\"data row4 col1\" >Pulp Fiction</td>\n",
							"      <td id=\"T_4ca68_row4_col2\" class=\"data row4 col2\" >R</td>\n",
							"      <td id=\"T_4ca68_row4_col3\" class=\"data row4 col3\" >Crime</td>\n",
							"      <td id=\"T_4ca68_row4_col4\" class=\"data row4 col4\" >154</td>\n",
							"      <td id=\"T_4ca68_row4_col5\" class=\"data row4 col5\" >[u'John Travolta', u'Uma Thurman', u'Samuel L. Jackson']</td>\n",
							"    </tr>\n", "    <tr>\n",
							"      <th id=\"T_4ca68_level0_row5\" class=\"row_heading level0 row5\" >5</th>\n",
							"      <td id=\"T_4ca68_row5_col0\" class=\"data row5 col0\" >8.900000</td>\n",
							"      <td id=\"T_4ca68_row5_col1\" class=\"data row5 col1\" >12 Angry Men</td>\n",
							"      <td id=\"T_4ca68_row5_col2\" class=\"data row5 col2\" >NOT RATED</td>\n",
							"      <td id=\"T_4ca68_row5_col3\" class=\"data row5 col3\" >Drama</td>\n",
							"      <td id=\"T_4ca68_row5_col4\" class=\"data row5 col4\" >96</td>\n",
							"      <td id=\"T_4ca68_row5_col5\" class=\"data row5 col5\" >[u'Henry Fonda', u'Lee J. Cobb', u'Martin Balsam']</td>\n",
							"    </tr>\n", "    <tr>\n",
							"      <th id=\"T_4ca68_level0_row6\" class=\"row_heading level0 row6\" >6</th>\n",
							"      <td id=\"T_4ca68_row6_col0\" class=\"data row6 col0\" >8.900000</td>\n",
							"      <td id=\"T_4ca68_row6_col1\" class=\"data row6 col1\" >The Good, the Bad and the Ugly</td>\n",
							"      <td id=\"T_4ca68_row6_col2\" class=\"data row6 col2\" >NOT RATED</td>\n",
							"      <td id=\"T_4ca68_row6_col3\" class=\"data row6 col3\" >Western</td>\n",
							"      <td id=\"T_4ca68_row6_col4\" class=\"data row6 col4\" >161</td>\n",
							"      <td id=\"T_4ca68_row6_col5\" class=\"data row6 col5\" >[u'Clint Eastwood', u'Eli Wallach', u'Lee Van Cleef']</td>\n",
							"    </tr>\n", "    <tr>\n",
							"      <th id=\"T_4ca68_level0_row7\" class=\"row_heading level0 row7\" >7</th>\n",
							"      <td id=\"T_4ca68_row7_col0\" class=\"data row7 col0\" >8.900000</td>\n",
							"      <td id=\"T_4ca68_row7_col1\" class=\"data row7 col1\" >The Lord of the Rings: The Return of the King</td>\n",
							"      <td id=\"T_4ca68_row7_col2\" class=\"data row7 col2\" >PG-13</td>\n",
							"      <td id=\"T_4ca68_row7_col3\" class=\"data row7 col3\" >Adventure</td>\n",
							"      <td id=\"T_4ca68_row7_col4\" class=\"data row7 col4\" >201</td>\n",
							"      <td id=\"T_4ca68_row7_col5\" class=\"data row7 col5\" >[u'Elijah Wood', u'Viggo Mortensen', u'Ian McKellen']</td>\n",
							"    </tr>\n", "    <tr>\n",
							"      <th id=\"T_4ca68_level0_row8\" class=\"row_heading level0 row8\" >8</th>\n",
							"      <td id=\"T_4ca68_row8_col0\" class=\"data row8 col0\" >8.900000</td>\n",
							"      <td id=\"T_4ca68_row8_col1\" class=\"data row8 col1\" >Schindler's List</td>\n",
							"      <td id=\"T_4ca68_row8_col2\" class=\"data row8 col2\" >R</td>\n",
							"      <td id=\"T_4ca68_row8_col3\" class=\"data row8 col3\" >Biography</td>\n",
							"      <td id=\"T_4ca68_row8_col4\" class=\"data row8 col4\" >195</td>\n",
							"      <td id=\"T_4ca68_row8_col5\" class=\"data row8 col5\" >[u'Liam Neeson', u'Ralph Fiennes', u'Ben Kingsley']</td>\n",
							"    </tr>\n", "    <tr>\n",
							"      <th id=\"T_4ca68_level0_row9\" class=\"row_heading level0 row9\" >9</th>\n",
							"      <td id=\"T_4ca68_row9_col0\" class=\"data row9 col0\" >8.900000</td>\n",
							"      <td id=\"T_4ca68_row9_col1\" class=\"data row9 col1\" >Fight Club</td>\n",
							"      <td id=\"T_4ca68_row9_col2\" class=\"data row9 col2\" >R</td>\n",
							"      <td id=\"T_4ca68_row9_col3\" class=\"data row9 col3\" >Drama</td>\n",
							"      <td id=\"T_4ca68_row9_col4\" class=\"data row9 col4\" >139</td>\n",
							"      <td id=\"T_4ca68_row9_col5\" class=\"data row9 col5\" >[u'Brad Pitt', u'Edward Norton', u'Helena Bonham Carter']</td>\n",
							"    </tr>\n", "  </tbody>\n", "</table>\n"
						],
						"text/plain": ["<pandas.io.formats.style.Styler at 0x160e3b150>"]
					},
					"execution_count": 101,
					"metadata": {},
					"output_type": "execute_result"
				}
			],
			"source": [
				"(\n", "    movies[:10]\n", "    .style.bar(\"duration\", vmin=60)\n",
				"    .background_gradient(\"Greens\", subset=\"star_rating\")\n",
				"    .highlight_null()\n", "    .highlight_max()\n", ")\n"
			]
		}
	],
	"metadata": {
		"kernelspec": {
			"display_name": "base",
			"language": "python",
			"name": "python3"
		},
		"language_info": {
			"codemirror_mode": {
				"name": "ipython",
				"version": 3
			},
			"file_extension": ".py",
			"mimetype": "text/x-python",
			"name": "python",
			"nbconvert_exporter": "python",
			"pygments_lexer": "ipython3",
			"version": "3.11.0"
		},
		"orig_nbformat": 4,
		"vscode": {
			"interpreter": {
				"hash": "4a3a26c61b03a68a5b093970c04769d6f104346566dae117fb5b25829ad0e3d0"
			}
		}
	},
	"nbformat": 4,
	"nbformat_minor": 2
}
